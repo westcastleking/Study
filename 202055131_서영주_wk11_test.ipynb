{
 "cells": [
  {
   "cell_type": "markdown",
   "metadata": {},
   "source": [
    "# 11주차 실습문제 - 표본 추출 시뮬레이션 및 표본 통계량\n",
    "\n",
    "제출시 HTML(.html) 형식으로 다운로드한 뒤, 올려주세요."
   ]
  },
  {
   "cell_type": "code",
   "execution_count": 1,
   "metadata": {},
   "outputs": [
    {
     "data": {
      "text/plain": [
       "2       157.7\n",
       "3       151.0\n",
       "4       146.1\n",
       "5       157.2\n",
       "7       168.8\n",
       "        ...  \n",
       "5958    157.9\n",
       "5963    159.8\n",
       "5964    156.9\n",
       "5965    145.2\n",
       "5967    163.1\n",
       "Name: height, Length: 3332, dtype: float64"
      ]
     },
     "execution_count": 1,
     "metadata": {},
     "output_type": "execute_result"
    }
   ],
   "source": [
    "# 수치 계산에 사용하는 라이브러리\n",
    "import numpy as np\n",
    "import pandas as pd\n",
    "import scipy as sp\n",
    "from scipy import stats\n",
    "\n",
    "# 그래프를 그리기 위한 라이브러리\n",
    "from matplotlib import pyplot as plt\n",
    "import seaborn as sns\n",
    "sns.set()\n",
    "\n",
    "# 표시 자릿수 지정\n",
    "%precision 3\n",
    "# 그래프를 주피터 노트북에 그리기 위한 설정\n",
    "%matplotlib inline\n",
    "\n",
    "data = pd.read_csv(\"health2018.csv\")\n",
    "height = data[data.sex == 'F'].height\n",
    "height"
   ]
  },
  {
   "cell_type": "markdown",
   "metadata": {},
   "source": [
    "---"
   ]
  },
  {
   "cell_type": "markdown",
   "metadata": {},
   "source": [
    "## 1. 모집단의 분포 확인\n",
    "### 1-1. 모집단 height의 평균과 표준편차를 각각 m, sig로 저장하고 출력하시오."
   ]
  },
  {
   "cell_type": "code",
   "execution_count": 2,
   "metadata": {},
   "outputs": [
    {
     "name": "stdout",
     "output_type": "stream",
     "text": [
      "157.53676470588263 6.582459829579061\n"
     ]
    }
   ],
   "source": [
    "m = np.mean(height)\n",
    "sig = np.std(height, ddof = 0)\n",
    "print(m,sig)"
   ]
  },
  {
   "cell_type": "markdown",
   "metadata": {},
   "source": [
    "### 1-2. height의 분포를 히스토그램으로 그리고, 위에서 구한 모집단의 평균과 표준편차에 따른 정규분포 곡선을 겹쳐 그리시오.\n",
    "히스토그램의 y축을 비율로 둘 것 (norm_hist = True)"
   ]
  },
  {
   "cell_type": "code",
   "execution_count": 3,
   "metadata": {},
   "outputs": [
    {
     "name": "stderr",
     "output_type": "stream",
     "text": [
      "C:\\Users\\user\\anaconda3\\lib\\site-packages\\seaborn\\distributions.py:2557: FutureWarning: `distplot` is a deprecated function and will be removed in a future version. Please adapt your code to use either `displot` (a figure-level function with similar flexibility) or `histplot` (an axes-level function for histograms).\n",
      "  warnings.warn(msg, FutureWarning)\n"
     ]
    },
    {
     "data": {
      "text/plain": [
       "[<matplotlib.lines.Line2D at 0x2170d427c40>]"
      ]
     },
     "execution_count": 3,
     "metadata": {},
     "output_type": "execute_result"
    },
    {
     "data": {
      "image/png": "[encoded data removed]",
      "text/plain": [
       "<Figure size 432x288 with 1 Axes>"
      ]
     },
     "metadata": {
      "needs_background": "light"
     },
     "output_type": "display_data"
    }
   ],
   "source": [
    "sns.distplot(height, kde = False, norm_hist = True, color = 'black')\n",
    "x= np.arange(start= 130, stop = 191, step=1)\n",
    "plt.plot(x, stats.norm.pdf(x = x, loc = m, scale = sig),color = 'black')"
   ]
  },
  {
   "cell_type": "markdown",
   "metadata": {},
   "source": [
    "---"
   ]
  },
  {
   "cell_type": "markdown",
   "metadata": {},
   "source": [
    "## 2.표본 추출 시뮬레이션\n",
    "### 2-1. 모집단 height에서 샘플을 100개씩 10000번 뽑아 '표본평균의 평균'과 '표본평균의 표준편차'를 구하시오.\n",
    "표본평균의 평균과 표준편차는 모집단의 평균, 표준편차와 각각 어떤 관계에 있는가?"
   ]
  },
  {
   "cell_type": "code",
   "execution_count": 4,
   "metadata": {},
   "outputs": [],
   "source": [
    "np.random.seed(1)\n",
    "population = stats.norm(loc = m, scale = sig)\n",
    "sample_mean_array = np.zeros(10000)\n",
    "for i in range(0, 10000):\n",
    "    sample = population.rvs(size = 100)\n",
    "    sample_mean_array[i] = np.mean(sample)"
   ]
  },
  {
   "cell_type": "code",
   "execution_count": 5,
   "metadata": {},
   "outputs": [
    {
     "data": {
      "text/plain": [
       "157.5410551815569"
      ]
     },
     "execution_count": 5,
     "metadata": {},
     "output_type": "execute_result"
    }
   ],
   "source": [
    "np.mean(sample_mean_array)\n",
    "#모집단의 평균과 유사"
   ]
  },
  {
   "cell_type": "code",
   "execution_count": 6,
   "metadata": {},
   "outputs": [
    {
     "data": {
      "text/plain": [
       "0.6642121470489296"
      ]
     },
     "execution_count": 6,
     "metadata": {},
     "output_type": "execute_result"
    }
   ],
   "source": [
    "np.std(sample_mean_array)\n",
    "#모집단의 표준편차 / sqrt(샘플수)"
   ]
  },
  {
   "cell_type": "markdown",
   "metadata": {},
   "source": [
    "### 2-2. 모집단 height에서 표본평균을 여러 번 계산하는 함수 calc_sample_mean을 작성하시오 (샘플사이즈 n_sample일 때, 표본 평균값을 n_trial 번 계산해서 array로 반환). "
   ]
  },
  {
   "cell_type": "code",
   "execution_count": 7,
   "metadata": {},
   "outputs": [],
   "source": [
    "def calc_sample_mean(n_sample, n_trial):\n",
    "    sample_mean_array = np.zeros(n_trial)\n",
    "    for i in range(0, n_trial):\n",
    "        sample = population.rvs(size = n_sample)\n",
    "        sample_mean_array[i] = np.mean(sample)\n",
    "    return(sample_mean_array)   "
   ]
  },
  {
   "cell_type": "code",
   "execution_count": 8,
   "metadata": {},
   "outputs": [
    {
     "data": {
      "text/plain": [
       "157.5410551815569"
      ]
     },
     "execution_count": 8,
     "metadata": {},
     "output_type": "execute_result"
    }
   ],
   "source": [
    "np.random.seed(1)\n",
    "np.mean(calc_sample_mean(n_sample = 100, n_trial = 10000))"
   ]
  },
  {
   "attachments": {
    "%EB%8B%A4%EC%9A%B4%EB%A1%9C%EB%93%9C%20%286%29.png": {
     "image/png": "[encoded data removed]"
    }
   },
   "cell_type": "markdown",
   "metadata": {},
   "source": [
    "### 2-3. 모집단 height에서 샘플 사이즈를 2, 4, 6, ..., 100까지 늘려가면서, 표본평균을 50번씩 구해 표본평균의 표준편차(ddof = 1)가 어떻게 변해가는지 그래프로 그리시오. 또한 이론 상의 표준오차를 점선으로 그려 비교하시오.\n",
    "![%EB%8B%A4%EC%9A%B4%EB%A1%9C%EB%93%9C%20%286%29.png](attachment:%EB%8B%A4%EC%9A%B4%EB%A1%9C%EB%93%9C%20%286%29.png)"
   ]
  },
  {
   "cell_type": "code",
   "execution_count": 9,
   "metadata": {},
   "outputs": [
    {
     "data": {
      "text/plain": [
       "[<matplotlib.lines.Line2D at 0x2170dbe48e0>]"
      ]
     },
     "execution_count": 9,
     "metadata": {},
     "output_type": "execute_result"
    },
    {
     "data": {
      "image/png": "[encoded data removed]",
      "text/plain": [
       "<Figure size 432x288 with 1 Axes>"
      ]
     },
     "metadata": {
      "needs_background": "light"
     },
     "output_type": "display_data"
    }
   ],
   "source": [
    "np.random.seed(1)\n",
    "size_array =  np.arange(\n",
    "    start = 2, stop = 102, step = 2)\n",
    "sample_mean_std_array = np.zeros(len(size_array))\n",
    "for i in range(0, len(size_array)):\n",
    "    sample_mean = calc_sample_mean(n_sample =size_array[i], \n",
    "                                   n_trial = 50)\n",
    "    sample_mean_std_array[i] = np.std(sample_mean, \n",
    "                                      ddof = 1)\n",
    "standard_error = sig / np.sqrt(size_array) \n",
    "\n",
    "plt.plot(size_array, sample_mean_std_array, \n",
    "         color = 'black')\n",
    "plt.plot(size_array, standard_error, \n",
    "         color = 'black', linestyle = 'dotted')"
   ]
  },
  {
   "cell_type": "markdown",
   "metadata": {},
   "source": [
    "---"
   ]
  },
  {
   "cell_type": "markdown",
   "metadata": {},
   "source": [
    "## 3. 하측확률, 퍼센트포인트와 순위 추정\n",
    "### 3-1. 모집단 height에서 하위 25%와 상위 25% 순위에 해당하는 키가 얼마인지 찾으시오.\n",
    "힌트: np.percentile() 함수 사용"
   ]
  },
  {
   "cell_type": "code",
   "execution_count": 10,
   "metadata": {
    "scrolled": true
   },
   "outputs": [
    {
     "data": {
      "text/plain": [
       "153.2"
      ]
     },
     "execution_count": 10,
     "metadata": {},
     "output_type": "execute_result"
    }
   ],
   "source": [
    "np.percentile(height,25)"
   ]
  },
  {
   "cell_type": "code",
   "execution_count": 11,
   "metadata": {},
   "outputs": [
    {
     "data": {
      "text/plain": [
       "162.0"
      ]
     },
     "execution_count": 11,
     "metadata": {},
     "output_type": "execute_result"
    }
   ],
   "source": [
    "np.percentile(height,75)"
   ]
  },
  {
   "cell_type": "markdown",
   "metadata": {},
   "source": [
    "### 3-2. 정규분포(또는 t분포)를 사용하여, height 분포에서 하위 25%와 상위 25% 순위에 해당하는 값을 추정하시오.\n",
    "힌트: stats.norm.ppf() 또는 stats.t.pdf() 사용"
   ]
  },
  {
   "cell_type": "code",
   "execution_count": 12,
   "metadata": {},
   "outputs": [
    {
     "data": {
      "text/plain": [
       "153.0969630197541"
      ]
     },
     "execution_count": 12,
     "metadata": {},
     "output_type": "execute_result"
    }
   ],
   "source": [
    "stats.norm.ppf(loc = m, scale = sig, q = 0.25)"
   ]
  },
  {
   "cell_type": "code",
   "execution_count": 13,
   "metadata": {},
   "outputs": [
    {
     "data": {
      "text/plain": [
       "161.97656639201116"
      ]
     },
     "execution_count": 13,
     "metadata": {},
     "output_type": "execute_result"
    }
   ],
   "source": [
    "stats.norm.ppf(loc = m, scale = sig, q = 0.75)"
   ]
  },
  {
   "cell_type": "markdown",
   "metadata": {},
   "source": [
    "### 3-3.input() 함수를 이용해 키를 입력받고, 정규분포(또는 t분포) 기반으로 백분위 순위를 구해 출력하라.\n",
    "힌트: stats.norm.cdf() 또는 stats.t.cdf() 활용"
   ]
  },
  {
   "cell_type": "code",
   "execution_count": 14,
   "metadata": {},
   "outputs": [
    {
     "name": "stdout",
     "output_type": "stream",
     "text": [
      "163\n"
     ]
    },
    {
     "data": {
      "text/plain": [
       "0.7967217453991857"
      ]
     },
     "execution_count": 14,
     "metadata": {},
     "output_type": "execute_result"
    }
   ],
   "source": [
    "a = float(input())\n",
    "stats.norm.cdf(loc = m, scale = sig, x = a)"
   ]
  },
  {
   "cell_type": "code",
   "execution_count": null,
   "metadata": {},
   "outputs": [],
   "source": []
  }
 ],
 "metadata": {
  "kernelspec": {
   "display_name": "Python 3",
   "language": "python",
   "name": "python3"
  },
  "language_info": {
   "codemirror_mode": {
    "name": "ipython",
    "version": 3
   },
   "file_extension": ".py",
   "mimetype": "text/x-python",
   "name": "python",
   "nbconvert_exporter": "python",
   "pygments_lexer": "ipython3",
   "version": "3.8.3"
  }
 },
 "nbformat": 4,
 "nbformat_minor": 2
}
