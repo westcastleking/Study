{
 "cells": [
  {
   "cell_type": "markdown",
   "metadata": {},
   "source": [
    "# 13주차(화) 실습문제 - 로지스틱 회귀모델 (Ch.6.3)\n",
    "\n",
    "제출시 HTML(.html) 형식으로 다운로드한 뒤, 올려주세요."
   ]
  },
  {
   "cell_type": "code",
   "execution_count": 1,
   "metadata": {},
   "outputs": [],
   "source": [
    "# 수치 계산에 사용하는 라이브러리\n",
    "import numpy as np\n",
    "import pandas as pd\n",
    "import scipy as sp\n",
    "from scipy import stats\n",
    "\n",
    "# 그래프를 그리기 위한 라이브러리\n",
    "from matplotlib import pyplot as plt\n",
    "import seaborn as sns\n",
    "sns.set()\n",
    "\n",
    "# 선형모델을 추정하는 라이브러리 (경고가 나올 수 있음)\n",
    "import statsmodels.formula.api as smf\n",
    "import statsmodels.api as sm\n",
    "\n",
    "# 표시 자릿수 지정\n",
    "%precision %.3f\n",
    "# 그래프를 주피터 노트북에 그리기 위한 설정\n",
    "%matplotlib inline\n",
    "\n",
    "data = pd.read_csv(\"health2018.csv\")\n",
    "data20 = data[data.age <= 20]  # 만 19~24세 남녀 데이터"
   ]
  },
  {
   "cell_type": "markdown",
   "metadata": {},
   "source": [
    "## 1. 신체 정보로 남/여 성별 예측하기\n",
    "### 1-1. data20에 male 열을 추가하고 남성은 1, 여성은 0의 값을 저장하라. 이후 height, weight, waist, BMI 값 각각으로 남성인지 여부(male)를 예측하는 로지스틱 회귀곡선 그래프를 그려보라.\n",
    "어느 변수가 남성과 여성을 구분(분류)하는데 가장 유용한가?\n",
    "남성과 여성 차이를 구분하기 가장 힘든 변수는 무엇인가?"
   ]
  },
  {
   "cell_type": "code",
   "execution_count": 8,
   "metadata": {},
   "outputs": [
    {
     "name": "stderr",
     "output_type": "stream",
     "text": [
      "<ipython-input-8-26fdf81f60a4>:1: SettingWithCopyWarning: \n",
      "A value is trying to be set on a copy of a slice from a DataFrame.\n",
      "Try using .loc[row_indexer,col_indexer] = value instead\n",
      "\n",
      "See the caveats in the documentation: https://pandas.pydata.org/pandas-docs/stable/user_guide/indexing.html#returning-a-view-versus-a-copy\n",
      "  data20['male'] = [1 if b == 'M' else 0 for b in data20['sex']]\n"
     ]
    },
    {
     "data": {
      "text/html": [
       "<div>\n",
       "<style scoped>\n",
       "    .dataframe tbody tr th:only-of-type {\n",
       "        vertical-align: middle;\n",
       "    }\n",
       "\n",
       "    .dataframe tbody tr th {\n",
       "        vertical-align: top;\n",
       "    }\n",
       "\n",
       "    .dataframe thead th {\n",
       "        text-align: right;\n",
       "    }\n",
       "</style>\n",
       "<table border=\"1\" class=\"dataframe\">\n",
       "  <thead>\n",
       "    <tr style=\"text-align: right;\">\n",
       "      <th></th>\n",
       "      <th>ID</th>\n",
       "      <th>sex</th>\n",
       "      <th>age</th>\n",
       "      <th>height</th>\n",
       "      <th>weight</th>\n",
       "      <th>waist</th>\n",
       "      <th>BMI</th>\n",
       "      <th>Blood_glucose</th>\n",
       "      <th>male</th>\n",
       "    </tr>\n",
       "  </thead>\n",
       "  <tbody>\n",
       "    <tr>\n",
       "      <th>163</th>\n",
       "      <td>A906023903</td>\n",
       "      <td>F</td>\n",
       "      <td>20</td>\n",
       "      <td>166.2</td>\n",
       "      <td>57.5</td>\n",
       "      <td>70.0</td>\n",
       "      <td>20.816409</td>\n",
       "      <td>91</td>\n",
       "      <td>0</td>\n",
       "    </tr>\n",
       "    <tr>\n",
       "      <th>182</th>\n",
       "      <td>A906029304</td>\n",
       "      <td>M</td>\n",
       "      <td>20</td>\n",
       "      <td>167.2</td>\n",
       "      <td>58.4</td>\n",
       "      <td>75.3</td>\n",
       "      <td>20.890090</td>\n",
       "      <td>95</td>\n",
       "      <td>1</td>\n",
       "    </tr>\n",
       "    <tr>\n",
       "      <th>197</th>\n",
       "      <td>A907023103</td>\n",
       "      <td>F</td>\n",
       "      <td>20</td>\n",
       "      <td>164.0</td>\n",
       "      <td>57.4</td>\n",
       "      <td>73.2</td>\n",
       "      <td>21.341463</td>\n",
       "      <td>84</td>\n",
       "      <td>0</td>\n",
       "    </tr>\n",
       "    <tr>\n",
       "      <th>256</th>\n",
       "      <td>A908029803</td>\n",
       "      <td>F</td>\n",
       "      <td>20</td>\n",
       "      <td>157.2</td>\n",
       "      <td>52.7</td>\n",
       "      <td>68.3</td>\n",
       "      <td>21.325810</td>\n",
       "      <td>89</td>\n",
       "      <td>0</td>\n",
       "    </tr>\n",
       "    <tr>\n",
       "      <th>257</th>\n",
       "      <td>A908029804</td>\n",
       "      <td>M</td>\n",
       "      <td>19</td>\n",
       "      <td>175.0</td>\n",
       "      <td>76.1</td>\n",
       "      <td>84.2</td>\n",
       "      <td>24.848980</td>\n",
       "      <td>89</td>\n",
       "      <td>1</td>\n",
       "    </tr>\n",
       "    <tr>\n",
       "      <th>...</th>\n",
       "      <td>...</td>\n",
       "      <td>...</td>\n",
       "      <td>...</td>\n",
       "      <td>...</td>\n",
       "      <td>...</td>\n",
       "      <td>...</td>\n",
       "      <td>...</td>\n",
       "      <td>...</td>\n",
       "      <td>...</td>\n",
       "    </tr>\n",
       "    <tr>\n",
       "      <th>5511</th>\n",
       "      <td>O905024003</td>\n",
       "      <td>F</td>\n",
       "      <td>19</td>\n",
       "      <td>164.9</td>\n",
       "      <td>52.9</td>\n",
       "      <td>67.2</td>\n",
       "      <td>19.454244</td>\n",
       "      <td>88</td>\n",
       "      <td>0</td>\n",
       "    </tr>\n",
       "    <tr>\n",
       "      <th>5550</th>\n",
       "      <td>O906025503</td>\n",
       "      <td>M</td>\n",
       "      <td>19</td>\n",
       "      <td>173.4</td>\n",
       "      <td>78.4</td>\n",
       "      <td>83.7</td>\n",
       "      <td>26.074613</td>\n",
       "      <td>97</td>\n",
       "      <td>1</td>\n",
       "    </tr>\n",
       "    <tr>\n",
       "      <th>5627</th>\n",
       "      <td>O908030303</td>\n",
       "      <td>M</td>\n",
       "      <td>20</td>\n",
       "      <td>177.0</td>\n",
       "      <td>88.5</td>\n",
       "      <td>89.8</td>\n",
       "      <td>28.248588</td>\n",
       "      <td>87</td>\n",
       "      <td>1</td>\n",
       "    </tr>\n",
       "    <tr>\n",
       "      <th>5652</th>\n",
       "      <td>O909028301</td>\n",
       "      <td>M</td>\n",
       "      <td>20</td>\n",
       "      <td>180.4</td>\n",
       "      <td>81.3</td>\n",
       "      <td>79.2</td>\n",
       "      <td>24.981441</td>\n",
       "      <td>92</td>\n",
       "      <td>1</td>\n",
       "    </tr>\n",
       "    <tr>\n",
       "      <th>5801</th>\n",
       "      <td>P903022103</td>\n",
       "      <td>M</td>\n",
       "      <td>19</td>\n",
       "      <td>177.6</td>\n",
       "      <td>64.1</td>\n",
       "      <td>69.7</td>\n",
       "      <td>20.322265</td>\n",
       "      <td>84</td>\n",
       "      <td>1</td>\n",
       "    </tr>\n",
       "  </tbody>\n",
       "</table>\n",
       "<p>111 rows × 9 columns</p>\n",
       "</div>"
      ],
      "text/plain": [
       "              ID sex  age  height  weight  waist        BMI  Blood_glucose  \\\n",
       "163   A906023903   F   20   166.2    57.5   70.0  20.816409             91   \n",
       "182   A906029304   M   20   167.2    58.4   75.3  20.890090             95   \n",
       "197   A907023103   F   20   164.0    57.4   73.2  21.341463             84   \n",
       "256   A908029803   F   20   157.2    52.7   68.3  21.325810             89   \n",
       "257   A908029804   M   19   175.0    76.1   84.2  24.848980             89   \n",
       "...          ...  ..  ...     ...     ...    ...        ...            ...   \n",
       "5511  O905024003   F   19   164.9    52.9   67.2  19.454244             88   \n",
       "5550  O906025503   M   19   173.4    78.4   83.7  26.074613             97   \n",
       "5627  O908030303   M   20   177.0    88.5   89.8  28.248588             87   \n",
       "5652  O909028301   M   20   180.4    81.3   79.2  24.981441             92   \n",
       "5801  P903022103   M   19   177.6    64.1   69.7  20.322265             84   \n",
       "\n",
       "      male  \n",
       "163      0  \n",
       "182      1  \n",
       "197      0  \n",
       "256      0  \n",
       "257      1  \n",
       "...    ...  \n",
       "5511     0  \n",
       "5550     1  \n",
       "5627     1  \n",
       "5652     1  \n",
       "5801     1  \n",
       "\n",
       "[111 rows x 9 columns]"
      ]
     },
     "execution_count": 8,
     "metadata": {},
     "output_type": "execute_result"
    }
   ],
   "source": [
    "data20['male'] = [1 if b == 'M' else 0 for b in data20['sex']]\n",
    "data20"
   ]
  },
  {
   "cell_type": "code",
   "execution_count": 9,
   "metadata": {},
   "outputs": [
    {
     "name": "stderr",
     "output_type": "stream",
     "text": [
      "C:\\Users\\user\\anaconda3\\lib\\site-packages\\statsmodels\\genmod\\families\\family.py:894: RuntimeWarning: invalid value encountered in true_divide\n",
      "  n_endog_mu = self._clean((1. - endog) / (1. - mu))\n",
      "C:\\Users\\user\\anaconda3\\lib\\site-packages\\statsmodels\\genmod\\families\\links.py:188: RuntimeWarning: overflow encountered in exp\n",
      "  t = np.exp(-z)\n",
      "C:\\Users\\user\\anaconda3\\lib\\site-packages\\statsmodels\\genmod\\families\\family.py:893: RuntimeWarning: invalid value encountered in true_divide\n",
      "  endog_mu = self._clean(endog / mu)\n"
     ]
    },
    {
     "data": {
      "text/plain": [
       "<seaborn.axisgrid.FacetGrid at 0x2a2f95d52e0>"
      ]
     },
     "execution_count": 9,
     "metadata": {},
     "output_type": "execute_result"
    },
    {
     "data": {
      "image/png": "[encoded data removed]",
      "text/plain": [
       "<Figure size 360x360 with 1 Axes>"
      ]
     },
     "metadata": {
      "needs_background": "light"
     },
     "output_type": "display_data"
    }
   ],
   "source": [
    "sns.lmplot(x = \"height\", y = \"male\",\n",
    "           data = data20, \n",
    "           logistic = True,\n",
    "           scatter_kws = {\"color\": \"black\"},\n",
    "           line_kws    = {\"color\": \"black\"},\n",
    "           x_jitter = 0.1, y_jitter = 0.02)"
   ]
  },
  {
   "cell_type": "code",
   "execution_count": 10,
   "metadata": {},
   "outputs": [
    {
     "data": {
      "text/plain": [
       "<seaborn.axisgrid.FacetGrid at 0x2a2fa1e3790>"
      ]
     },
     "execution_count": 10,
     "metadata": {},
     "output_type": "execute_result"
    },
    {
     "data": {
      "image/png": "[encoded data removed]",
      "text/plain": [
       "<Figure size 360x360 with 1 Axes>"
      ]
     },
     "metadata": {
      "needs_background": "light"
     },
     "output_type": "display_data"
    }
   ],
   "source": [
    "sns.lmplot(x = \"weight\", y = \"male\",\n",
    "           data = data20, \n",
    "           logistic = True,\n",
    "           scatter_kws = {\"color\": \"black\"},\n",
    "           line_kws    = {\"color\": \"black\"},\n",
    "           x_jitter = 0.1, y_jitter = 0.02)"
   ]
  },
  {
   "cell_type": "code",
   "execution_count": 11,
   "metadata": {},
   "outputs": [
    {
     "data": {
      "text/plain": [
       "<seaborn.axisgrid.FacetGrid at 0x2a2fa1e3d90>"
      ]
     },
     "execution_count": 11,
     "metadata": {},
     "output_type": "execute_result"
    },
    {
     "data": {
      "image/png": "[encoded data removed]",
      "text/plain": [
       "<Figure size 360x360 with 1 Axes>"
      ]
     },
     "metadata": {
      "needs_background": "light"
     },
     "output_type": "display_data"
    }
   ],
   "source": [
    "sns.lmplot(x = \"waist\", y = \"male\",\n",
    "           data = data20, \n",
    "           logistic = True,\n",
    "           scatter_kws = {\"color\": \"black\"},\n",
    "           line_kws    = {\"color\": \"black\"},\n",
    "           x_jitter = 0.1, y_jitter = 0.02)"
   ]
  },
  {
   "cell_type": "code",
   "execution_count": 12,
   "metadata": {},
   "outputs": [
    {
     "data": {
      "text/plain": [
       "<seaborn.axisgrid.FacetGrid at 0x2a2fa2c3910>"
      ]
     },
     "execution_count": 12,
     "metadata": {},
     "output_type": "execute_result"
    },
    {
     "data": {
      "image/png": "[encoded data removed]",
      "text/plain": [
       "<Figure size 360x360 with 1 Axes>"
      ]
     },
     "metadata": {
      "needs_background": "light"
     },
     "output_type": "display_data"
    }
   ],
   "source": [
    "sns.lmplot(x = \"BMI\", y = \"male\",\n",
    "           data = data20, \n",
    "           logistic = True,\n",
    "           scatter_kws = {\"color\": \"black\"},\n",
    "           line_kws    = {\"color\": \"black\"},\n",
    "           x_jitter = 0.1, y_jitter = 0.02)"
   ]
  },
  {
   "cell_type": "code",
   "execution_count": null,
   "metadata": {},
   "outputs": [],
   "source": [
    "# height가 가장 유용, BMI가 가장 구분하기 힘들다"
   ]
  },
  {
   "cell_type": "markdown",
   "metadata": {},
   "source": [
    "### 1-2. height 값을 이용해 남성 여부(male)를 예측하는 로지스틱 회귀 모델을 만들고, null model과 비교하라. \n",
    "height 변수는 통계적으로 유의미한 계수 값을 갖는가? \n",
    "\n",
    "로그 우도(Log-Likelihood)와 Deviance 값은 각각 어떠한가?"
   ]
  },
  {
   "cell_type": "code",
   "execution_count": 15,
   "metadata": {},
   "outputs": [],
   "source": [
    "mod_glm_null = smf.glm(\n",
    "    \"male ~ 1\", data = data20, \n",
    "    family=sm.families.Binomial()).fit()"
   ]
  },
  {
   "cell_type": "code",
   "execution_count": 16,
   "metadata": {},
   "outputs": [
    {
     "data": {
      "text/html": [
       "<table class=\"simpletable\">\n",
       "<caption>Generalized Linear Model Regression Results</caption>\n",
       "<tr>\n",
       "  <th>Dep. Variable:</th>         <td>male</td>       <th>  No. Observations:  </th>  <td>   111</td> \n",
       "</tr>\n",
       "<tr>\n",
       "  <th>Model:</th>                  <td>GLM</td>       <th>  Df Residuals:      </th>  <td>   110</td> \n",
       "</tr>\n",
       "<tr>\n",
       "  <th>Model Family:</th>        <td>Binomial</td>     <th>  Df Model:          </th>  <td>     0</td> \n",
       "</tr>\n",
       "<tr>\n",
       "  <th>Link Function:</th>         <td>logit</td>      <th>  Scale:             </th> <td>  1.0000</td>\n",
       "</tr>\n",
       "<tr>\n",
       "  <th>Method:</th>                <td>IRLS</td>       <th>  Log-Likelihood:    </th> <td> -76.393</td>\n",
       "</tr>\n",
       "<tr>\n",
       "  <th>Date:</th>            <td>Tue, 25 May 2021</td> <th>  Deviance:          </th> <td>  152.79</td>\n",
       "</tr>\n",
       "<tr>\n",
       "  <th>Time:</th>                <td>17:45:19</td>     <th>  Pearson chi2:      </th>  <td>  111.</td> \n",
       "</tr>\n",
       "<tr>\n",
       "  <th>No. Iterations:</th>          <td>4</td>        <th>                     </th>     <td> </td>   \n",
       "</tr>\n",
       "<tr>\n",
       "  <th>Covariance Type:</th>     <td>nonrobust</td>    <th>                     </th>     <td> </td>   \n",
       "</tr>\n",
       "</table>\n",
       "<table class=\"simpletable\">\n",
       "<tr>\n",
       "      <td></td>         <th>coef</th>     <th>std err</th>      <th>z</th>      <th>P>|z|</th>  <th>[0.025</th>    <th>0.975]</th>  \n",
       "</tr>\n",
       "<tr>\n",
       "  <th>Intercept</th> <td>   -0.1989</td> <td>    0.191</td> <td>   -1.042</td> <td> 0.297</td> <td>   -0.573</td> <td>    0.175</td>\n",
       "</tr>\n",
       "</table>"
      ],
      "text/plain": [
       "<class 'statsmodels.iolib.summary.Summary'>\n",
       "\"\"\"\n",
       "                 Generalized Linear Model Regression Results                  \n",
       "==============================================================================\n",
       "Dep. Variable:                   male   No. Observations:                  111\n",
       "Model:                            GLM   Df Residuals:                      110\n",
       "Model Family:                Binomial   Df Model:                            0\n",
       "Link Function:                  logit   Scale:                          1.0000\n",
       "Method:                          IRLS   Log-Likelihood:                -76.393\n",
       "Date:                Tue, 25 May 2021   Deviance:                       152.79\n",
       "Time:                        17:45:19   Pearson chi2:                     111.\n",
       "No. Iterations:                     4                                         \n",
       "Covariance Type:            nonrobust                                         \n",
       "==============================================================================\n",
       "                 coef    std err          z      P>|z|      [0.025      0.975]\n",
       "------------------------------------------------------------------------------\n",
       "Intercept     -0.1989      0.191     -1.042      0.297      -0.573       0.175\n",
       "==============================================================================\n",
       "\"\"\""
      ]
     },
     "execution_count": 16,
     "metadata": {},
     "output_type": "execute_result"
    }
   ],
   "source": [
    "mod_glm_null.summary()"
   ]
  },
  {
   "cell_type": "code",
   "execution_count": 13,
   "metadata": {},
   "outputs": [],
   "source": [
    "mod_glm = smf.glm(formula = \"male ~ height\", \n",
    "                  data = data20, \n",
    "                  family=sm.families.Binomial()).fit()"
   ]
  },
  {
   "cell_type": "code",
   "execution_count": 14,
   "metadata": {},
   "outputs": [
    {
     "data": {
      "text/html": [
       "<table class=\"simpletable\">\n",
       "<caption>Generalized Linear Model Regression Results</caption>\n",
       "<tr>\n",
       "  <th>Dep. Variable:</th>         <td>male</td>       <th>  No. Observations:  </th>  <td>   111</td> \n",
       "</tr>\n",
       "<tr>\n",
       "  <th>Model:</th>                  <td>GLM</td>       <th>  Df Residuals:      </th>  <td>   109</td> \n",
       "</tr>\n",
       "<tr>\n",
       "  <th>Model Family:</th>        <td>Binomial</td>     <th>  Df Model:          </th>  <td>     1</td> \n",
       "</tr>\n",
       "<tr>\n",
       "  <th>Link Function:</th>         <td>logit</td>      <th>  Scale:             </th> <td>  1.0000</td>\n",
       "</tr>\n",
       "<tr>\n",
       "  <th>Method:</th>                <td>IRLS</td>       <th>  Log-Likelihood:    </th> <td> -21.090</td>\n",
       "</tr>\n",
       "<tr>\n",
       "  <th>Date:</th>            <td>Tue, 25 May 2021</td> <th>  Deviance:          </th> <td>  42.181</td>\n",
       "</tr>\n",
       "<tr>\n",
       "  <th>Time:</th>                <td>17:44:43</td>     <th>  Pearson chi2:      </th>  <td>  146.</td> \n",
       "</tr>\n",
       "<tr>\n",
       "  <th>No. Iterations:</th>          <td>7</td>        <th>                     </th>     <td> </td>   \n",
       "</tr>\n",
       "<tr>\n",
       "  <th>Covariance Type:</th>     <td>nonrobust</td>    <th>                     </th>     <td> </td>   \n",
       "</tr>\n",
       "</table>\n",
       "<table class=\"simpletable\">\n",
       "<tr>\n",
       "      <td></td>         <th>coef</th>     <th>std err</th>      <th>z</th>      <th>P>|z|</th>  <th>[0.025</th>    <th>0.975]</th>  \n",
       "</tr>\n",
       "<tr>\n",
       "  <th>Intercept</th> <td> -102.8850</td> <td>   21.504</td> <td>   -4.784</td> <td> 0.000</td> <td> -145.032</td> <td>  -60.738</td>\n",
       "</tr>\n",
       "<tr>\n",
       "  <th>height</th>    <td>    0.6123</td> <td>    0.128</td> <td>    4.776</td> <td> 0.000</td> <td>    0.361</td> <td>    0.864</td>\n",
       "</tr>\n",
       "</table>"
      ],
      "text/plain": [
       "<class 'statsmodels.iolib.summary.Summary'>\n",
       "\"\"\"\n",
       "                 Generalized Linear Model Regression Results                  \n",
       "==============================================================================\n",
       "Dep. Variable:                   male   No. Observations:                  111\n",
       "Model:                            GLM   Df Residuals:                      109\n",
       "Model Family:                Binomial   Df Model:                            1\n",
       "Link Function:                  logit   Scale:                          1.0000\n",
       "Method:                          IRLS   Log-Likelihood:                -21.090\n",
       "Date:                Tue, 25 May 2021   Deviance:                       42.181\n",
       "Time:                        17:44:43   Pearson chi2:                     146.\n",
       "No. Iterations:                     7                                         \n",
       "Covariance Type:            nonrobust                                         \n",
       "==============================================================================\n",
       "                 coef    std err          z      P>|z|      [0.025      0.975]\n",
       "------------------------------------------------------------------------------\n",
       "Intercept   -102.8850     21.504     -4.784      0.000    -145.032     -60.738\n",
       "height         0.6123      0.128      4.776      0.000       0.361       0.864\n",
       "==============================================================================\n",
       "\"\"\""
      ]
     },
     "execution_count": 14,
     "metadata": {},
     "output_type": "execute_result"
    }
   ],
   "source": [
    "mod_glm.summary()\n",
    "# null모델에 비해 로그우도 값이 더 커졌고 deviance값이 더 작아졌다\n",
    "# p<0.05 이므로 통계적으로 유의미하다"
   ]
  },
  {
   "cell_type": "markdown",
   "metadata": {},
   "source": [
    "### 1-3. height, weight, waist, BMI 값을 이용한 예측 모델을 각각 만들고(각각 하나의 독립변수로 예측), 더 성능이 좋은 순으로 나열해보라. "
   ]
  },
  {
   "cell_type": "code",
   "execution_count": 17,
   "metadata": {},
   "outputs": [],
   "source": [
    "mod_glm_h = smf.glm(formula = \"male ~ height\", \n",
    "                  data = data20, \n",
    "                  family=sm.families.Binomial()).fit()"
   ]
  },
  {
   "cell_type": "code",
   "execution_count": 18,
   "metadata": {},
   "outputs": [],
   "source": [
    "mod_glm_we = smf.glm(formula = \"male ~ weight\", \n",
    "                  data = data20, \n",
    "                  family=sm.families.Binomial()).fit()"
   ]
  },
  {
   "cell_type": "code",
   "execution_count": 19,
   "metadata": {},
   "outputs": [],
   "source": [
    "mod_glm_wa = smf.glm(formula = \"male ~ waist\", \n",
    "                  data = data20, \n",
    "                  family=sm.families.Binomial()).fit()"
   ]
  },
  {
   "cell_type": "code",
   "execution_count": 20,
   "metadata": {},
   "outputs": [],
   "source": [
    "mod_glm_B = smf.glm(formula = \"male ~ BMI\", \n",
    "                  data = data20, \n",
    "                  family=sm.families.Binomial()).fit()"
   ]
  },
  {
   "cell_type": "code",
   "execution_count": 27,
   "metadata": {},
   "outputs": [
    {
     "name": "stdout",
     "output_type": "stream",
     "text": [
      "height 모델　： 46.18050855992794\n",
      "weight 모델： 125.32756107611533\n",
      "waist 모델： 136.86281313723188\n",
      "BMI 모델： 153.65266829353658\n"
     ]
    }
   ],
   "source": [
    "print(\"height 모델　：\",mod_glm_h.aic)\n",
    "print(\"weight 모델：\", mod_glm_we.aic)\n",
    "print(\"waist 모델：\", mod_glm_wa.aic)\n",
    "print(\"BMI 모델：\", mod_glm_B.aic)\n",
    "# aic 값이 작은 순서인 height, weight, waist, BMI순으로 성능이 좋다"
   ]
  },
  {
   "cell_type": "markdown",
   "metadata": {},
   "source": [
    "### 1-4. height값에 기반한 모델로 data20의 각 샘플(행)에 대해 남성인지 확률을 추정하시오. 또한 확률 p >= 0.5 이상이면 남성, p < 0.5 면 여성으로 분류해서 predicted_sex 열에 저장하고, 예측이 틀린 샘플을 찾아 출력하시오.\n",
    "height 값에 기반한 로지스틱 회귀모델이 예측에 실패한 경우는 몇 명인가?"
   ]
  },
  {
   "cell_type": "code",
   "execution_count": 50,
   "metadata": {},
   "outputs": [
    {
     "data": {
      "text/plain": [
       "163     0.246691\n",
       "182     0.376598\n",
       "197     0.078460\n",
       "256     0.001322\n",
       "257     0.986240\n",
       "          ...   \n",
       "5511    0.128715\n",
       "5550    0.964168\n",
       "5627    0.995917\n",
       "5652    0.999489\n",
       "5801    0.997169\n",
       "Length: 111, dtype: float64"
      ]
     },
     "execution_count": 50,
     "metadata": {},
     "output_type": "execute_result"
    }
   ],
   "source": [
    "exp_val = data20['height']\n",
    "pred = mod_glm_h.predict(exp_val)\n",
    "pred"
   ]
  },
  {
   "cell_type": "code",
   "execution_count": 55,
   "metadata": {},
   "outputs": [
    {
     "name": "stderr",
     "output_type": "stream",
     "text": [
      "<ipython-input-55-7c2be3be682c>:1: SettingWithCopyWarning: \n",
      "A value is trying to be set on a copy of a slice from a DataFrame.\n",
      "Try using .loc[row_indexer,col_indexer] = value instead\n",
      "\n",
      "See the caveats in the documentation: https://pandas.pydata.org/pandas-docs/stable/user_guide/indexing.html#returning-a-view-versus-a-copy\n",
      "  data20['predicted_sex'] = [1 if b >= 0.5 else 0 for b in mod_glm_h.predict()]\n"
     ]
    },
    {
     "data": {
      "text/html": [
       "<div>\n",
       "<style scoped>\n",
       "    .dataframe tbody tr th:only-of-type {\n",
       "        vertical-align: middle;\n",
       "    }\n",
       "\n",
       "    .dataframe tbody tr th {\n",
       "        vertical-align: top;\n",
       "    }\n",
       "\n",
       "    .dataframe thead th {\n",
       "        text-align: right;\n",
       "    }\n",
       "</style>\n",
       "<table border=\"1\" class=\"dataframe\">\n",
       "  <thead>\n",
       "    <tr style=\"text-align: right;\">\n",
       "      <th></th>\n",
       "      <th>ID</th>\n",
       "      <th>sex</th>\n",
       "      <th>age</th>\n",
       "      <th>height</th>\n",
       "      <th>weight</th>\n",
       "      <th>waist</th>\n",
       "      <th>BMI</th>\n",
       "      <th>Blood_glucose</th>\n",
       "      <th>male</th>\n",
       "      <th>predicted_sex</th>\n",
       "    </tr>\n",
       "  </thead>\n",
       "  <tbody>\n",
       "    <tr>\n",
       "      <th>163</th>\n",
       "      <td>A906023903</td>\n",
       "      <td>F</td>\n",
       "      <td>20</td>\n",
       "      <td>166.2</td>\n",
       "      <td>57.5</td>\n",
       "      <td>70.0</td>\n",
       "      <td>20.816409</td>\n",
       "      <td>91</td>\n",
       "      <td>0</td>\n",
       "      <td>0</td>\n",
       "    </tr>\n",
       "    <tr>\n",
       "      <th>182</th>\n",
       "      <td>A906029304</td>\n",
       "      <td>M</td>\n",
       "      <td>20</td>\n",
       "      <td>167.2</td>\n",
       "      <td>58.4</td>\n",
       "      <td>75.3</td>\n",
       "      <td>20.890090</td>\n",
       "      <td>95</td>\n",
       "      <td>1</td>\n",
       "      <td>0</td>\n",
       "    </tr>\n",
       "    <tr>\n",
       "      <th>197</th>\n",
       "      <td>A907023103</td>\n",
       "      <td>F</td>\n",
       "      <td>20</td>\n",
       "      <td>164.0</td>\n",
       "      <td>57.4</td>\n",
       "      <td>73.2</td>\n",
       "      <td>21.341463</td>\n",
       "      <td>84</td>\n",
       "      <td>0</td>\n",
       "      <td>0</td>\n",
       "    </tr>\n",
       "    <tr>\n",
       "      <th>256</th>\n",
       "      <td>A908029803</td>\n",
       "      <td>F</td>\n",
       "      <td>20</td>\n",
       "      <td>157.2</td>\n",
       "      <td>52.7</td>\n",
       "      <td>68.3</td>\n",
       "      <td>21.325810</td>\n",
       "      <td>89</td>\n",
       "      <td>0</td>\n",
       "      <td>0</td>\n",
       "    </tr>\n",
       "    <tr>\n",
       "      <th>257</th>\n",
       "      <td>A908029804</td>\n",
       "      <td>M</td>\n",
       "      <td>19</td>\n",
       "      <td>175.0</td>\n",
       "      <td>76.1</td>\n",
       "      <td>84.2</td>\n",
       "      <td>24.848980</td>\n",
       "      <td>89</td>\n",
       "      <td>1</td>\n",
       "      <td>1</td>\n",
       "    </tr>\n",
       "    <tr>\n",
       "      <th>...</th>\n",
       "      <td>...</td>\n",
       "      <td>...</td>\n",
       "      <td>...</td>\n",
       "      <td>...</td>\n",
       "      <td>...</td>\n",
       "      <td>...</td>\n",
       "      <td>...</td>\n",
       "      <td>...</td>\n",
       "      <td>...</td>\n",
       "      <td>...</td>\n",
       "    </tr>\n",
       "    <tr>\n",
       "      <th>5511</th>\n",
       "      <td>O905024003</td>\n",
       "      <td>F</td>\n",
       "      <td>19</td>\n",
       "      <td>164.9</td>\n",
       "      <td>52.9</td>\n",
       "      <td>67.2</td>\n",
       "      <td>19.454244</td>\n",
       "      <td>88</td>\n",
       "      <td>0</td>\n",
       "      <td>0</td>\n",
       "    </tr>\n",
       "    <tr>\n",
       "      <th>5550</th>\n",
       "      <td>O906025503</td>\n",
       "      <td>M</td>\n",
       "      <td>19</td>\n",
       "      <td>173.4</td>\n",
       "      <td>78.4</td>\n",
       "      <td>83.7</td>\n",
       "      <td>26.074613</td>\n",
       "      <td>97</td>\n",
       "      <td>1</td>\n",
       "      <td>1</td>\n",
       "    </tr>\n",
       "    <tr>\n",
       "      <th>5627</th>\n",
       "      <td>O908030303</td>\n",
       "      <td>M</td>\n",
       "      <td>20</td>\n",
       "      <td>177.0</td>\n",
       "      <td>88.5</td>\n",
       "      <td>89.8</td>\n",
       "      <td>28.248588</td>\n",
       "      <td>87</td>\n",
       "      <td>1</td>\n",
       "      <td>1</td>\n",
       "    </tr>\n",
       "    <tr>\n",
       "      <th>5652</th>\n",
       "      <td>O909028301</td>\n",
       "      <td>M</td>\n",
       "      <td>20</td>\n",
       "      <td>180.4</td>\n",
       "      <td>81.3</td>\n",
       "      <td>79.2</td>\n",
       "      <td>24.981441</td>\n",
       "      <td>92</td>\n",
       "      <td>1</td>\n",
       "      <td>1</td>\n",
       "    </tr>\n",
       "    <tr>\n",
       "      <th>5801</th>\n",
       "      <td>P903022103</td>\n",
       "      <td>M</td>\n",
       "      <td>19</td>\n",
       "      <td>177.6</td>\n",
       "      <td>64.1</td>\n",
       "      <td>69.7</td>\n",
       "      <td>20.322265</td>\n",
       "      <td>84</td>\n",
       "      <td>1</td>\n",
       "      <td>1</td>\n",
       "    </tr>\n",
       "  </tbody>\n",
       "</table>\n",
       "<p>111 rows × 10 columns</p>\n",
       "</div>"
      ],
      "text/plain": [
       "              ID sex  age  height  weight  waist        BMI  Blood_glucose  \\\n",
       "163   A906023903   F   20   166.2    57.5   70.0  20.816409             91   \n",
       "182   A906029304   M   20   167.2    58.4   75.3  20.890090             95   \n",
       "197   A907023103   F   20   164.0    57.4   73.2  21.341463             84   \n",
       "256   A908029803   F   20   157.2    52.7   68.3  21.325810             89   \n",
       "257   A908029804   M   19   175.0    76.1   84.2  24.848980             89   \n",
       "...          ...  ..  ...     ...     ...    ...        ...            ...   \n",
       "5511  O905024003   F   19   164.9    52.9   67.2  19.454244             88   \n",
       "5550  O906025503   M   19   173.4    78.4   83.7  26.074613             97   \n",
       "5627  O908030303   M   20   177.0    88.5   89.8  28.248588             87   \n",
       "5652  O909028301   M   20   180.4    81.3   79.2  24.981441             92   \n",
       "5801  P903022103   M   19   177.6    64.1   69.7  20.322265             84   \n",
       "\n",
       "      male  predicted_sex  \n",
       "163      0              0  \n",
       "182      1              0  \n",
       "197      0              0  \n",
       "256      0              0  \n",
       "257      1              1  \n",
       "...    ...            ...  \n",
       "5511     0              0  \n",
       "5550     1              1  \n",
       "5627     1              1  \n",
       "5652     1              1  \n",
       "5801     1              1  \n",
       "\n",
       "[111 rows x 10 columns]"
      ]
     },
     "execution_count": 55,
     "metadata": {},
     "output_type": "execute_result"
    }
   ],
   "source": [
    "data20['predicted_sex'] = [1 if b >= 0.5 else 0 for b in mod_glm_h.predict()]\n",
    "data20"
   ]
  },
  {
   "cell_type": "code",
   "execution_count": 59,
   "metadata": {},
   "outputs": [
    {
     "data": {
      "text/html": [
       "<div>\n",
       "<style scoped>\n",
       "    .dataframe tbody tr th:only-of-type {\n",
       "        vertical-align: middle;\n",
       "    }\n",
       "\n",
       "    .dataframe tbody tr th {\n",
       "        vertical-align: top;\n",
       "    }\n",
       "\n",
       "    .dataframe thead th {\n",
       "        text-align: right;\n",
       "    }\n",
       "</style>\n",
       "<table border=\"1\" class=\"dataframe\">\n",
       "  <thead>\n",
       "    <tr style=\"text-align: right;\">\n",
       "      <th></th>\n",
       "      <th>ID</th>\n",
       "      <th>sex</th>\n",
       "      <th>age</th>\n",
       "      <th>height</th>\n",
       "      <th>weight</th>\n",
       "      <th>waist</th>\n",
       "      <th>BMI</th>\n",
       "      <th>Blood_glucose</th>\n",
       "      <th>male</th>\n",
       "      <th>predicted_sex</th>\n",
       "    </tr>\n",
       "  </thead>\n",
       "  <tbody>\n",
       "    <tr>\n",
       "      <th>182</th>\n",
       "      <td>A906029304</td>\n",
       "      <td>M</td>\n",
       "      <td>20</td>\n",
       "      <td>167.2</td>\n",
       "      <td>58.4</td>\n",
       "      <td>75.3</td>\n",
       "      <td>20.890090</td>\n",
       "      <td>95</td>\n",
       "      <td>1</td>\n",
       "      <td>0</td>\n",
       "    </tr>\n",
       "    <tr>\n",
       "      <th>1792</th>\n",
       "      <td>C909024703</td>\n",
       "      <td>M</td>\n",
       "      <td>20</td>\n",
       "      <td>163.2</td>\n",
       "      <td>58.9</td>\n",
       "      <td>68.8</td>\n",
       "      <td>22.114391</td>\n",
       "      <td>84</td>\n",
       "      <td>1</td>\n",
       "      <td>0</td>\n",
       "    </tr>\n",
       "    <tr>\n",
       "      <th>2731</th>\n",
       "      <td>H902024603</td>\n",
       "      <td>M</td>\n",
       "      <td>19</td>\n",
       "      <td>167.3</td>\n",
       "      <td>60.7</td>\n",
       "      <td>77.9</td>\n",
       "      <td>21.686867</td>\n",
       "      <td>82</td>\n",
       "      <td>1</td>\n",
       "      <td>0</td>\n",
       "    </tr>\n",
       "    <tr>\n",
       "      <th>2809</th>\n",
       "      <td>H904022504</td>\n",
       "      <td>F</td>\n",
       "      <td>20</td>\n",
       "      <td>168.3</td>\n",
       "      <td>55.3</td>\n",
       "      <td>67.6</td>\n",
       "      <td>19.523465</td>\n",
       "      <td>88</td>\n",
       "      <td>0</td>\n",
       "      <td>1</td>\n",
       "    </tr>\n",
       "    <tr>\n",
       "      <th>2978</th>\n",
       "      <td>H908029504</td>\n",
       "      <td>F</td>\n",
       "      <td>20</td>\n",
       "      <td>169.0</td>\n",
       "      <td>62.3</td>\n",
       "      <td>69.2</td>\n",
       "      <td>21.812962</td>\n",
       "      <td>80</td>\n",
       "      <td>0</td>\n",
       "      <td>1</td>\n",
       "    </tr>\n",
       "    <tr>\n",
       "      <th>3305</th>\n",
       "      <td>H918029203</td>\n",
       "      <td>F</td>\n",
       "      <td>20</td>\n",
       "      <td>170.7</td>\n",
       "      <td>56.5</td>\n",
       "      <td>68.3</td>\n",
       "      <td>19.390161</td>\n",
       "      <td>84</td>\n",
       "      <td>0</td>\n",
       "      <td>1</td>\n",
       "    </tr>\n",
       "    <tr>\n",
       "      <th>3393</th>\n",
       "      <td>H921032101</td>\n",
       "      <td>F</td>\n",
       "      <td>20</td>\n",
       "      <td>168.1</td>\n",
       "      <td>66.1</td>\n",
       "      <td>83.3</td>\n",
       "      <td>23.391929</td>\n",
       "      <td>81</td>\n",
       "      <td>0</td>\n",
       "      <td>1</td>\n",
       "    </tr>\n",
       "    <tr>\n",
       "      <th>3592</th>\n",
       "      <td>H926033603</td>\n",
       "      <td>M</td>\n",
       "      <td>20</td>\n",
       "      <td>160.4</td>\n",
       "      <td>48.9</td>\n",
       "      <td>64.2</td>\n",
       "      <td>19.006412</td>\n",
       "      <td>95</td>\n",
       "      <td>1</td>\n",
       "      <td>0</td>\n",
       "    </tr>\n",
       "  </tbody>\n",
       "</table>\n",
       "</div>"
      ],
      "text/plain": [
       "              ID sex  age  height  weight  waist        BMI  Blood_glucose  \\\n",
       "182   A906029304   M   20   167.2    58.4   75.3  20.890090             95   \n",
       "1792  C909024703   M   20   163.2    58.9   68.8  22.114391             84   \n",
       "2731  H902024603   M   19   167.3    60.7   77.9  21.686867             82   \n",
       "2809  H904022504   F   20   168.3    55.3   67.6  19.523465             88   \n",
       "2978  H908029504   F   20   169.0    62.3   69.2  21.812962             80   \n",
       "3305  H918029203   F   20   170.7    56.5   68.3  19.390161             84   \n",
       "3393  H921032101   F   20   168.1    66.1   83.3  23.391929             81   \n",
       "3592  H926033603   M   20   160.4    48.9   64.2  19.006412             95   \n",
       "\n",
       "      male  predicted_sex  \n",
       "182      1              0  \n",
       "1792     1              0  \n",
       "2731     1              0  \n",
       "2809     0              1  \n",
       "2978     0              1  \n",
       "3305     0              1  \n",
       "3393     0              1  \n",
       "3592     1              0  "
      ]
     },
     "execution_count": 59,
     "metadata": {},
     "output_type": "execute_result"
    }
   ],
   "source": [
    "data20[data20.predicted_sex != data20.male]"
   ]
  },
  {
   "cell_type": "markdown",
   "metadata": {},
   "source": [
    "---"
   ]
  },
  {
   "cell_type": "markdown",
   "metadata": {},
   "source": [
    "## 2. 로지스틱 회귀모델에 기반한 당뇨병 환자 분류 예측\n",
    "전체 검사자를 포함한 data 변수에 diabete 열을 추가하고, Blood_glucose > 125인 경우를 1로, 그외의 경우 0을 저장하시오.\n",
    "\n",
    "### 2-1. 단일 요인(독립변수)를 이용해 당뇨병 여부(diabete)를 가장 잘 예측하는 로지스틱 회귀 모델을 만들어라. 이 모델의 AIC 값은 얼마인가?\n",
    "(단, Blood_glucose는 사용할 수 없다.)\n",
    "\n",
    "* 필요하다면, 로지스틱 회귀곡선 그래프를 그려서 각 요인과 당뇨병 여부와의 관계를 확인해보라."
   ]
  },
  {
   "cell_type": "code",
   "execution_count": 62,
   "metadata": {},
   "outputs": [
    {
     "data": {
      "text/html": [
       "<div>\n",
       "<style scoped>\n",
       "    .dataframe tbody tr th:only-of-type {\n",
       "        vertical-align: middle;\n",
       "    }\n",
       "\n",
       "    .dataframe tbody tr th {\n",
       "        vertical-align: top;\n",
       "    }\n",
       "\n",
       "    .dataframe thead th {\n",
       "        text-align: right;\n",
       "    }\n",
       "</style>\n",
       "<table border=\"1\" class=\"dataframe\">\n",
       "  <thead>\n",
       "    <tr style=\"text-align: right;\">\n",
       "      <th></th>\n",
       "      <th>ID</th>\n",
       "      <th>sex</th>\n",
       "      <th>age</th>\n",
       "      <th>height</th>\n",
       "      <th>weight</th>\n",
       "      <th>waist</th>\n",
       "      <th>BMI</th>\n",
       "      <th>Blood_glucose</th>\n",
       "      <th>diabete</th>\n",
       "    </tr>\n",
       "  </thead>\n",
       "  <tbody>\n",
       "    <tr>\n",
       "      <th>0</th>\n",
       "      <td>A901020501</td>\n",
       "      <td>M</td>\n",
       "      <td>80</td>\n",
       "      <td>162.4</td>\n",
       "      <td>56.0</td>\n",
       "      <td>82.2</td>\n",
       "      <td>21.233226</td>\n",
       "      <td>103</td>\n",
       "      <td>0</td>\n",
       "    </tr>\n",
       "    <tr>\n",
       "      <th>1</th>\n",
       "      <td>A901021301</td>\n",
       "      <td>M</td>\n",
       "      <td>78</td>\n",
       "      <td>167.7</td>\n",
       "      <td>76.4</td>\n",
       "      <td>98.3</td>\n",
       "      <td>27.166096</td>\n",
       "      <td>127</td>\n",
       "      <td>1</td>\n",
       "    </tr>\n",
       "    <tr>\n",
       "      <th>2</th>\n",
       "      <td>A901021302</td>\n",
       "      <td>F</td>\n",
       "      <td>75</td>\n",
       "      <td>157.7</td>\n",
       "      <td>53.2</td>\n",
       "      <td>80.7</td>\n",
       "      <td>21.391845</td>\n",
       "      <td>134</td>\n",
       "      <td>1</td>\n",
       "    </tr>\n",
       "    <tr>\n",
       "      <th>3</th>\n",
       "      <td>A901022601</td>\n",
       "      <td>F</td>\n",
       "      <td>43</td>\n",
       "      <td>151.0</td>\n",
       "      <td>53.5</td>\n",
       "      <td>79.7</td>\n",
       "      <td>23.463883</td>\n",
       "      <td>99</td>\n",
       "      <td>0</td>\n",
       "    </tr>\n",
       "    <tr>\n",
       "      <th>4</th>\n",
       "      <td>A901023303</td>\n",
       "      <td>F</td>\n",
       "      <td>80</td>\n",
       "      <td>146.1</td>\n",
       "      <td>57.6</td>\n",
       "      <td>93.0</td>\n",
       "      <td>26.984977</td>\n",
       "      <td>111</td>\n",
       "      <td>0</td>\n",
       "    </tr>\n",
       "    <tr>\n",
       "      <th>...</th>\n",
       "      <td>...</td>\n",
       "      <td>...</td>\n",
       "      <td>...</td>\n",
       "      <td>...</td>\n",
       "      <td>...</td>\n",
       "      <td>...</td>\n",
       "      <td>...</td>\n",
       "      <td>...</td>\n",
       "      <td>...</td>\n",
       "    </tr>\n",
       "    <tr>\n",
       "      <th>5963</th>\n",
       "      <td>R904028502</td>\n",
       "      <td>F</td>\n",
       "      <td>35</td>\n",
       "      <td>159.8</td>\n",
       "      <td>55.6</td>\n",
       "      <td>70.1</td>\n",
       "      <td>21.773149</td>\n",
       "      <td>90</td>\n",
       "      <td>0</td>\n",
       "    </tr>\n",
       "    <tr>\n",
       "      <th>5964</th>\n",
       "      <td>R904028503</td>\n",
       "      <td>F</td>\n",
       "      <td>66</td>\n",
       "      <td>156.9</td>\n",
       "      <td>63.9</td>\n",
       "      <td>87.3</td>\n",
       "      <td>25.957028</td>\n",
       "      <td>93</td>\n",
       "      <td>0</td>\n",
       "    </tr>\n",
       "    <tr>\n",
       "      <th>5965</th>\n",
       "      <td>R904028902</td>\n",
       "      <td>F</td>\n",
       "      <td>73</td>\n",
       "      <td>145.2</td>\n",
       "      <td>51.8</td>\n",
       "      <td>77.2</td>\n",
       "      <td>24.569512</td>\n",
       "      <td>99</td>\n",
       "      <td>0</td>\n",
       "    </tr>\n",
       "    <tr>\n",
       "      <th>5966</th>\n",
       "      <td>R904029201</td>\n",
       "      <td>M</td>\n",
       "      <td>43</td>\n",
       "      <td>176.8</td>\n",
       "      <td>84.1</td>\n",
       "      <td>99.2</td>\n",
       "      <td>26.904906</td>\n",
       "      <td>108</td>\n",
       "      <td>0</td>\n",
       "    </tr>\n",
       "    <tr>\n",
       "      <th>5967</th>\n",
       "      <td>R904029202</td>\n",
       "      <td>F</td>\n",
       "      <td>39</td>\n",
       "      <td>163.1</td>\n",
       "      <td>59.5</td>\n",
       "      <td>81.2</td>\n",
       "      <td>22.367067</td>\n",
       "      <td>94</td>\n",
       "      <td>0</td>\n",
       "    </tr>\n",
       "  </tbody>\n",
       "</table>\n",
       "<p>5968 rows × 9 columns</p>\n",
       "</div>"
      ],
      "text/plain": [
       "              ID sex  age  height  weight  waist        BMI  Blood_glucose  \\\n",
       "0     A901020501   M   80   162.4    56.0   82.2  21.233226            103   \n",
       "1     A901021301   M   78   167.7    76.4   98.3  27.166096            127   \n",
       "2     A901021302   F   75   157.7    53.2   80.7  21.391845            134   \n",
       "3     A901022601   F   43   151.0    53.5   79.7  23.463883             99   \n",
       "4     A901023303   F   80   146.1    57.6   93.0  26.984977            111   \n",
       "...          ...  ..  ...     ...     ...    ...        ...            ...   \n",
       "5963  R904028502   F   35   159.8    55.6   70.1  21.773149             90   \n",
       "5964  R904028503   F   66   156.9    63.9   87.3  25.957028             93   \n",
       "5965  R904028902   F   73   145.2    51.8   77.2  24.569512             99   \n",
       "5966  R904029201   M   43   176.8    84.1   99.2  26.904906            108   \n",
       "5967  R904029202   F   39   163.1    59.5   81.2  22.367067             94   \n",
       "\n",
       "      diabete  \n",
       "0           0  \n",
       "1           1  \n",
       "2           1  \n",
       "3           0  \n",
       "4           0  \n",
       "...       ...  \n",
       "5963        0  \n",
       "5964        0  \n",
       "5965        0  \n",
       "5966        0  \n",
       "5967        0  \n",
       "\n",
       "[5968 rows x 9 columns]"
      ]
     },
     "execution_count": 62,
     "metadata": {},
     "output_type": "execute_result"
    }
   ],
   "source": [
    "data['diabete'] = [1 if b > 125 else 0 for b in data['Blood_glucose']]\n",
    "data"
   ]
  },
  {
   "cell_type": "code",
   "execution_count": 83,
   "metadata": {},
   "outputs": [],
   "source": [
    "mod_glm_1 = smf.glm(formula = \"diabete ~ height\", \n",
    "                  data = data, \n",
    "                  family=sm.families.Binomial()).fit()\n",
    "mod_glm_2 = smf.glm(formula = \"diabete ~ weight\", \n",
    "                  data = data, \n",
    "                  family=sm.families.Binomial()).fit()\n",
    "mod_glm_3 = smf.glm(formula = \"diabete ~ waist\", \n",
    "                  data = data, \n",
    "                  family=sm.families.Binomial()).fit()\n",
    "mod_glm_4 = smf.glm(formula = \"diabete ~ BMI\", \n",
    "                  data = data, \n",
    "                  family=sm.families.Binomial()).fit()\n",
    "mod_glm_5 = smf.glm(formula = \"diabete ~ age\", \n",
    "                  data = data, \n",
    "                  family=sm.families.Binomial()).fit()"
   ]
  },
  {
   "cell_type": "code",
   "execution_count": 84,
   "metadata": {},
   "outputs": [
    {
     "name": "stdout",
     "output_type": "stream",
     "text": [
      "3525.1636645170715 3474.772286355435 3272.6992485032324 3419.753838845457 3314.297885188216\n"
     ]
    }
   ],
   "source": [
    "print(mod_glm_1.aic,mod_glm_2.aic,mod_glm_3.aic,mod_glm_4.aic,mod_glm_5.aic)\n",
    "#waist가 가장 잘 예측, aic값은 3272.6992485032324"
   ]
  },
  {
   "cell_type": "markdown",
   "metadata": {},
   "source": [
    "### 2-2. 여러 개의 요인(독립변수)를 이용해 당뇨병 여부(diabete)를 가장 잘 예측하는 로지스틱 회귀 모델을 만들어라. 이 모델은 어떤 요인을 포함하는가? AIC 값은 얼마인가?\n",
    "회귀모델에 포함한 독립변수의 각 계수가 통계적으로 유의한지 여부도 확인하시오."
   ]
  },
  {
   "cell_type": "code",
   "execution_count": 85,
   "metadata": {},
   "outputs": [
    {
     "data": {
      "text/plain": [
       "3272.6992485032324"
      ]
     },
     "execution_count": 85,
     "metadata": {},
     "output_type": "execute_result"
    }
   ],
   "source": [
    "mod_glm_11 = smf.glm(formula = \"diabete ~ waist\", \n",
    "                  data = data, \n",
    "                  family=sm.families.Binomial()).fit()\n",
    "mod_glm_11.aic"
   ]
  },
  {
   "cell_type": "code",
   "execution_count": 86,
   "metadata": {},
   "outputs": [
    {
     "data": {
      "text/plain": [
       "3125.623490946112"
      ]
     },
     "execution_count": 86,
     "metadata": {},
     "output_type": "execute_result"
    }
   ],
   "source": [
    "mod_glm_12 = smf.glm(formula = \"diabete ~ waist + age\", \n",
    "                  data = data, \n",
    "                  family=sm.families.Binomial()).fit()\n",
    "mod_glm_12.aic"
   ]
  },
  {
   "cell_type": "code",
   "execution_count": 87,
   "metadata": {},
   "outputs": [
    {
     "data": {
      "text/plain": [
       "3115.9960744013224"
      ]
     },
     "execution_count": 87,
     "metadata": {},
     "output_type": "execute_result"
    }
   ],
   "source": [
    "mod_glm_13 = smf.glm(formula = \"diabete ~ waist + age + BMI\", \n",
    "                  data = data, \n",
    "                  family=sm.families.Binomial()).fit()\n",
    "mod_glm_13.aic"
   ]
  },
  {
   "cell_type": "code",
   "execution_count": 88,
   "metadata": {},
   "outputs": [
    {
     "data": {
      "text/plain": [
       "3117.167056620874"
      ]
     },
     "execution_count": 88,
     "metadata": {},
     "output_type": "execute_result"
    }
   ],
   "source": [
    "mod_glm_14 = smf.glm(formula = \"diabete ~ waist + age + BMI + weight\", \n",
    "                  data = data, \n",
    "                  family=sm.families.Binomial()).fit()\n",
    "mod_glm_14.aic"
   ]
  },
  {
   "cell_type": "code",
   "execution_count": 89,
   "metadata": {},
   "outputs": [
    {
     "data": {
      "text/plain": [
       "3118.3325737188316"
      ]
     },
     "execution_count": 89,
     "metadata": {},
     "output_type": "execute_result"
    }
   ],
   "source": [
    "mod_glm_15 = smf.glm(formula = \"diabete ~ waist + age + BMI + weight +height\", \n",
    "                  data = data, \n",
    "                  family=sm.families.Binomial()).fit()\n",
    "mod_glm_15.aic"
   ]
  },
  {
   "cell_type": "code",
   "execution_count": null,
   "metadata": {},
   "outputs": [],
   "source": [
    "#mod_glm_13이 제일 잘 예측, waist,age, BMI를 포함한다."
   ]
  },
  {
   "cell_type": "code",
   "execution_count": null,
   "metadata": {},
   "outputs": [],
   "source": [
    "mod_glm_1 = smf.glm(formula = \"diabete ~ height\", \n",
    "                  data = data, \n",
    "                  family=sm.families.Binomial()).fit()\n",
    "mod_glm_2 = smf.glm(formula = \"diabete ~ weight\", \n",
    "                  data = data, \n",
    "                  family=sm.families.Binomial()).fit()\n",
    "mod_glm_3 = smf.glm(formula = \"diabete ~ waist\", \n",
    "                  data = data, \n",
    "                  family=sm.families.Binomial()).fit()\n",
    "mod_glm_4 = smf.glm(formula = \"diabete ~ BMI\", \n",
    "                  data = data, \n",
    "                  family=sm.families.Binomial()).fit()"
   ]
  },
  {
   "cell_type": "code",
   "execution_count": 80,
   "metadata": {},
   "outputs": [
    {
     "data": {
      "text/html": [
       "<table class=\"simpletable\">\n",
       "<caption>Generalized Linear Model Regression Results</caption>\n",
       "<tr>\n",
       "  <th>Dep. Variable:</th>        <td>diabete</td>     <th>  No. Observations:  </th>  <td>  5968</td> \n",
       "</tr>\n",
       "<tr>\n",
       "  <th>Model:</th>                  <td>GLM</td>       <th>  Df Residuals:      </th>  <td>  5966</td> \n",
       "</tr>\n",
       "<tr>\n",
       "  <th>Model Family:</th>        <td>Binomial</td>     <th>  Df Model:          </th>  <td>     1</td> \n",
       "</tr>\n",
       "<tr>\n",
       "  <th>Link Function:</th>         <td>logit</td>      <th>  Scale:             </th> <td>  1.0000</td>\n",
       "</tr>\n",
       "<tr>\n",
       "  <th>Method:</th>                <td>IRLS</td>       <th>  Log-Likelihood:    </th> <td> -1735.4</td>\n",
       "</tr>\n",
       "<tr>\n",
       "  <th>Date:</th>            <td>Tue, 25 May 2021</td> <th>  Deviance:          </th> <td>  3470.8</td>\n",
       "</tr>\n",
       "<tr>\n",
       "  <th>Time:</th>                <td>18:24:47</td>     <th>  Pearson chi2:      </th> <td>5.91e+03</td>\n",
       "</tr>\n",
       "<tr>\n",
       "  <th>No. Iterations:</th>          <td>5</td>        <th>                     </th>     <td> </td>   \n",
       "</tr>\n",
       "<tr>\n",
       "  <th>Covariance Type:</th>     <td>nonrobust</td>    <th>                     </th>     <td> </td>   \n",
       "</tr>\n",
       "</table>\n",
       "<table class=\"simpletable\">\n",
       "<tr>\n",
       "      <td></td>         <th>coef</th>     <th>std err</th>      <th>z</th>      <th>P>|z|</th>  <th>[0.025</th>    <th>0.975]</th>  \n",
       "</tr>\n",
       "<tr>\n",
       "  <th>Intercept</th> <td>   -3.9687</td> <td>    0.230</td> <td>  -17.219</td> <td> 0.000</td> <td>   -4.420</td> <td>   -3.517</td>\n",
       "</tr>\n",
       "<tr>\n",
       "  <th>weight</th>    <td>    0.0245</td> <td>    0.003</td> <td>    7.338</td> <td> 0.000</td> <td>    0.018</td> <td>    0.031</td>\n",
       "</tr>\n",
       "</table>"
      ],
      "text/plain": [
       "<class 'statsmodels.iolib.summary.Summary'>\n",
       "\"\"\"\n",
       "                 Generalized Linear Model Regression Results                  \n",
       "==============================================================================\n",
       "Dep. Variable:                diabete   No. Observations:                 5968\n",
       "Model:                            GLM   Df Residuals:                     5966\n",
       "Model Family:                Binomial   Df Model:                            1\n",
       "Link Function:                  logit   Scale:                          1.0000\n",
       "Method:                          IRLS   Log-Likelihood:                -1735.4\n",
       "Date:                Tue, 25 May 2021   Deviance:                       3470.8\n",
       "Time:                        18:24:47   Pearson chi2:                 5.91e+03\n",
       "No. Iterations:                     5                                         \n",
       "Covariance Type:            nonrobust                                         \n",
       "==============================================================================\n",
       "                 coef    std err          z      P>|z|      [0.025      0.975]\n",
       "------------------------------------------------------------------------------\n",
       "Intercept     -3.9687      0.230    -17.219      0.000      -4.420      -3.517\n",
       "weight         0.0245      0.003      7.338      0.000       0.018       0.031\n",
       "==============================================================================\n",
       "\"\"\""
      ]
     },
     "execution_count": 80,
     "metadata": {},
     "output_type": "execute_result"
    }
   ],
   "source": [
    "#weight\n",
    "mod_glm_2.summary()"
   ]
  },
  {
   "cell_type": "code",
   "execution_count": 81,
   "metadata": {},
   "outputs": [
    {
     "data": {
      "text/html": [
       "<table class=\"simpletable\">\n",
       "<caption>Generalized Linear Model Regression Results</caption>\n",
       "<tr>\n",
       "  <th>Dep. Variable:</th>        <td>diabete</td>     <th>  No. Observations:  </th>  <td>  5968</td> \n",
       "</tr>\n",
       "<tr>\n",
       "  <th>Model:</th>                  <td>GLM</td>       <th>  Df Residuals:      </th>  <td>  5966</td> \n",
       "</tr>\n",
       "<tr>\n",
       "  <th>Model Family:</th>        <td>Binomial</td>     <th>  Df Model:          </th>  <td>     1</td> \n",
       "</tr>\n",
       "<tr>\n",
       "  <th>Link Function:</th>         <td>logit</td>      <th>  Scale:             </th> <td>  1.0000</td>\n",
       "</tr>\n",
       "<tr>\n",
       "  <th>Method:</th>                <td>IRLS</td>       <th>  Log-Likelihood:    </th> <td> -1634.3</td>\n",
       "</tr>\n",
       "<tr>\n",
       "  <th>Date:</th>            <td>Tue, 25 May 2021</td> <th>  Deviance:          </th> <td>  3268.7</td>\n",
       "</tr>\n",
       "<tr>\n",
       "  <th>Time:</th>                <td>18:24:56</td>     <th>  Pearson chi2:      </th> <td>5.65e+03</td>\n",
       "</tr>\n",
       "<tr>\n",
       "  <th>No. Iterations:</th>          <td>6</td>        <th>                     </th>     <td> </td>   \n",
       "</tr>\n",
       "<tr>\n",
       "  <th>Covariance Type:</th>     <td>nonrobust</td>    <th>                     </th>     <td> </td>   \n",
       "</tr>\n",
       "</table>\n",
       "<table class=\"simpletable\">\n",
       "<tr>\n",
       "      <td></td>         <th>coef</th>     <th>std err</th>      <th>z</th>      <th>P>|z|</th>  <th>[0.025</th>    <th>0.975]</th>  \n",
       "</tr>\n",
       "<tr>\n",
       "  <th>Intercept</th> <td>   -8.4717</td> <td>    0.413</td> <td>  -20.513</td> <td> 0.000</td> <td>   -9.281</td> <td>   -7.662</td>\n",
       "</tr>\n",
       "<tr>\n",
       "  <th>waist</th>     <td>    0.0717</td> <td>    0.005</td> <td>   15.401</td> <td> 0.000</td> <td>    0.063</td> <td>    0.081</td>\n",
       "</tr>\n",
       "</table>"
      ],
      "text/plain": [
       "<class 'statsmodels.iolib.summary.Summary'>\n",
       "\"\"\"\n",
       "                 Generalized Linear Model Regression Results                  \n",
       "==============================================================================\n",
       "Dep. Variable:                diabete   No. Observations:                 5968\n",
       "Model:                            GLM   Df Residuals:                     5966\n",
       "Model Family:                Binomial   Df Model:                            1\n",
       "Link Function:                  logit   Scale:                          1.0000\n",
       "Method:                          IRLS   Log-Likelihood:                -1634.3\n",
       "Date:                Tue, 25 May 2021   Deviance:                       3268.7\n",
       "Time:                        18:24:56   Pearson chi2:                 5.65e+03\n",
       "No. Iterations:                     6                                         \n",
       "Covariance Type:            nonrobust                                         \n",
       "==============================================================================\n",
       "                 coef    std err          z      P>|z|      [0.025      0.975]\n",
       "------------------------------------------------------------------------------\n",
       "Intercept     -8.4717      0.413    -20.513      0.000      -9.281      -7.662\n",
       "waist          0.0717      0.005     15.401      0.000       0.063       0.081\n",
       "==============================================================================\n",
       "\"\"\""
      ]
     },
     "execution_count": 81,
     "metadata": {},
     "output_type": "execute_result"
    }
   ],
   "source": [
    "#waist\n",
    "mod_glm_3.summary()"
   ]
  },
  {
   "cell_type": "code",
   "execution_count": 82,
   "metadata": {},
   "outputs": [
    {
     "data": {
      "text/html": [
       "<table class=\"simpletable\">\n",
       "<caption>Generalized Linear Model Regression Results</caption>\n",
       "<tr>\n",
       "  <th>Dep. Variable:</th>        <td>diabete</td>     <th>  No. Observations:  </th>  <td>  5968</td> \n",
       "</tr>\n",
       "<tr>\n",
       "  <th>Model:</th>                  <td>GLM</td>       <th>  Df Residuals:      </th>  <td>  5966</td> \n",
       "</tr>\n",
       "<tr>\n",
       "  <th>Model Family:</th>        <td>Binomial</td>     <th>  Df Model:          </th>  <td>     1</td> \n",
       "</tr>\n",
       "<tr>\n",
       "  <th>Link Function:</th>         <td>logit</td>      <th>  Scale:             </th> <td>  1.0000</td>\n",
       "</tr>\n",
       "<tr>\n",
       "  <th>Method:</th>                <td>IRLS</td>       <th>  Log-Likelihood:    </th> <td> -1707.9</td>\n",
       "</tr>\n",
       "<tr>\n",
       "  <th>Date:</th>            <td>Tue, 25 May 2021</td> <th>  Deviance:          </th> <td>  3415.8</td>\n",
       "</tr>\n",
       "<tr>\n",
       "  <th>Time:</th>                <td>18:25:05</td>     <th>  Pearson chi2:      </th> <td>5.86e+03</td>\n",
       "</tr>\n",
       "<tr>\n",
       "  <th>No. Iterations:</th>          <td>6</td>        <th>                     </th>     <td> </td>   \n",
       "</tr>\n",
       "<tr>\n",
       "  <th>Covariance Type:</th>     <td>nonrobust</td>    <th>                     </th>     <td> </td>   \n",
       "</tr>\n",
       "</table>\n",
       "<table class=\"simpletable\">\n",
       "<tr>\n",
       "      <td></td>         <th>coef</th>     <th>std err</th>      <th>z</th>      <th>P>|z|</th>  <th>[0.025</th>    <th>0.975]</th>  \n",
       "</tr>\n",
       "<tr>\n",
       "  <th>Intercept</th> <td>   -5.4325</td> <td>    0.304</td> <td>  -17.845</td> <td> 0.000</td> <td>   -6.029</td> <td>   -4.836</td>\n",
       "</tr>\n",
       "<tr>\n",
       "  <th>BMI</th>       <td>    0.1250</td> <td>    0.012</td> <td>   10.512</td> <td> 0.000</td> <td>    0.102</td> <td>    0.148</td>\n",
       "</tr>\n",
       "</table>"
      ],
      "text/plain": [
       "<class 'statsmodels.iolib.summary.Summary'>\n",
       "\"\"\"\n",
       "                 Generalized Linear Model Regression Results                  \n",
       "==============================================================================\n",
       "Dep. Variable:                diabete   No. Observations:                 5968\n",
       "Model:                            GLM   Df Residuals:                     5966\n",
       "Model Family:                Binomial   Df Model:                            1\n",
       "Link Function:                  logit   Scale:                          1.0000\n",
       "Method:                          IRLS   Log-Likelihood:                -1707.9\n",
       "Date:                Tue, 25 May 2021   Deviance:                       3415.8\n",
       "Time:                        18:25:05   Pearson chi2:                 5.86e+03\n",
       "No. Iterations:                     6                                         \n",
       "Covariance Type:            nonrobust                                         \n",
       "==============================================================================\n",
       "                 coef    std err          z      P>|z|      [0.025      0.975]\n",
       "------------------------------------------------------------------------------\n",
       "Intercept     -5.4325      0.304    -17.845      0.000      -6.029      -4.836\n",
       "BMI            0.1250      0.012     10.512      0.000       0.102       0.148\n",
       "==============================================================================\n",
       "\"\"\""
      ]
     },
     "execution_count": 82,
     "metadata": {},
     "output_type": "execute_result"
    }
   ],
   "source": [
    "#BMI\n",
    "mod_glm_4.summary()"
   ]
  },
  {
   "cell_type": "code",
   "execution_count": 90,
   "metadata": {},
   "outputs": [
    {
     "data": {
      "text/html": [
       "<table class=\"simpletable\">\n",
       "<caption>Generalized Linear Model Regression Results</caption>\n",
       "<tr>\n",
       "  <th>Dep. Variable:</th>        <td>diabete</td>     <th>  No. Observations:  </th>  <td>  5968</td> \n",
       "</tr>\n",
       "<tr>\n",
       "  <th>Model:</th>                  <td>GLM</td>       <th>  Df Residuals:      </th>  <td>  5966</td> \n",
       "</tr>\n",
       "<tr>\n",
       "  <th>Model Family:</th>        <td>Binomial</td>     <th>  Df Model:          </th>  <td>     1</td> \n",
       "</tr>\n",
       "<tr>\n",
       "  <th>Link Function:</th>         <td>logit</td>      <th>  Scale:             </th> <td>  1.0000</td>\n",
       "</tr>\n",
       "<tr>\n",
       "  <th>Method:</th>                <td>IRLS</td>       <th>  Log-Likelihood:    </th> <td> -1655.1</td>\n",
       "</tr>\n",
       "<tr>\n",
       "  <th>Date:</th>            <td>Tue, 25 May 2021</td> <th>  Deviance:          </th> <td>  3310.3</td>\n",
       "</tr>\n",
       "<tr>\n",
       "  <th>Time:</th>                <td>18:30:48</td>     <th>  Pearson chi2:      </th> <td>5.62e+03</td>\n",
       "</tr>\n",
       "<tr>\n",
       "  <th>No. Iterations:</th>          <td>6</td>        <th>                     </th>     <td> </td>   \n",
       "</tr>\n",
       "<tr>\n",
       "  <th>Covariance Type:</th>     <td>nonrobust</td>    <th>                     </th>     <td> </td>   \n",
       "</tr>\n",
       "</table>\n",
       "<table class=\"simpletable\">\n",
       "<tr>\n",
       "      <td></td>         <th>coef</th>     <th>std err</th>      <th>z</th>      <th>P>|z|</th>  <th>[0.025</th>    <th>0.975]</th>  \n",
       "</tr>\n",
       "<tr>\n",
       "  <th>Intercept</th> <td>   -4.7697</td> <td>    0.196</td> <td>  -24.280</td> <td> 0.000</td> <td>   -5.155</td> <td>   -4.385</td>\n",
       "</tr>\n",
       "<tr>\n",
       "  <th>age</th>       <td>    0.0431</td> <td>    0.003</td> <td>   13.639</td> <td> 0.000</td> <td>    0.037</td> <td>    0.049</td>\n",
       "</tr>\n",
       "</table>"
      ],
      "text/plain": [
       "<class 'statsmodels.iolib.summary.Summary'>\n",
       "\"\"\"\n",
       "                 Generalized Linear Model Regression Results                  \n",
       "==============================================================================\n",
       "Dep. Variable:                diabete   No. Observations:                 5968\n",
       "Model:                            GLM   Df Residuals:                     5966\n",
       "Model Family:                Binomial   Df Model:                            1\n",
       "Link Function:                  logit   Scale:                          1.0000\n",
       "Method:                          IRLS   Log-Likelihood:                -1655.1\n",
       "Date:                Tue, 25 May 2021   Deviance:                       3310.3\n",
       "Time:                        18:30:48   Pearson chi2:                 5.62e+03\n",
       "No. Iterations:                     6                                         \n",
       "Covariance Type:            nonrobust                                         \n",
       "==============================================================================\n",
       "                 coef    std err          z      P>|z|      [0.025      0.975]\n",
       "------------------------------------------------------------------------------\n",
       "Intercept     -4.7697      0.196    -24.280      0.000      -5.155      -4.385\n",
       "age            0.0431      0.003     13.639      0.000       0.037       0.049\n",
       "==============================================================================\n",
       "\"\"\""
      ]
     },
     "execution_count": 90,
     "metadata": {},
     "output_type": "execute_result"
    }
   ],
   "source": [
    "mod_glm_5.summary()"
   ]
  },
  {
   "cell_type": "code",
   "execution_count": null,
   "metadata": {},
   "outputs": [],
   "source": [
    "#각 계수는 통계적으로 유의미함"
   ]
  }
 ],
 "metadata": {
  "kernelspec": {
   "display_name": "Python 3",
   "language": "python",
   "name": "python3"
  },
  "language_info": {
   "codemirror_mode": {
    "name": "ipython",
    "version": 3
   },
   "file_extension": ".py",
   "mimetype": "text/x-python",
   "name": "python",
   "nbconvert_exporter": "python",
   "pygments_lexer": "ipython3",
   "version": "3.8.3"
  }
 },
 "nbformat": 4,
 "nbformat_minor": 2
}
