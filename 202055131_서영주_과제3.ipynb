{
 "cells": [
  {
   "cell_type": "code",
   "execution_count": 10,
   "metadata": {},
   "outputs": [
    {
     "data": {
      "text/plain": [
       "'%.3f'"
      ]
     },
     "execution_count": 10,
     "metadata": {},
     "output_type": "execute_result"
    }
   ],
   "source": [
    "import numpy as np\n",
    "import scipy as sp\n",
    "import scipy.stats as stats\n",
    "import pandas as pd\n",
    "from pandas import Series, DataFrame\n",
    "import random\n",
    "\n",
    "#시각화 라이브러리\n",
    "import matplotlib.pyplot as plt\n",
    "import matplotlib as mpl\n",
    "import seaborn as sns\n",
    "%matplotlib inline\n",
    "\n",
    "import statsmodels.formula.api as smf\n",
    "import statsmodels.api as sm\n",
    "\n",
    "#소수점 3자리까지 표시\n",
    "%precision 3"
   ]
  },
  {
   "cell_type": "markdown",
   "metadata": {},
   "source": [
    "## 1) 순열검정 알고리즘 구현"
   ]
  },
  {
   "cell_type": "code",
   "execution_count": 11,
   "metadata": {},
   "outputs": [],
   "source": [
    "#데이터 불러오기\n",
    "d_data = pd.read_csv('2020.csv', encoding='cp949').iloc[:,0:13]\n",
    "data = d_data.iloc[:,2:]"
   ]
  },
  {
   "cell_type": "code",
   "execution_count": 12,
   "metadata": {},
   "outputs": [],
   "source": [
    "# 행복지수가 평균 이상인 그룹 (case)와 평균 미만인 그룹(normal)로 나눠주기\n",
    "case = data[data['Ladder_score'] >= data['Ladder_score'].mean()]\n",
    "normal = data[data['Ladder_score'] < data['Ladder_score'].mean()]"
   ]
  },
  {
   "cell_type": "code",
   "execution_count": 13,
   "metadata": {},
   "outputs": [
    {
     "name": "stdout",
     "output_type": "stream",
     "text": [
      "1.633989128967123\n"
     ]
    }
   ],
   "source": [
    "#case그룹과 normal그룹의 1인당 GDP 평균차이\n",
    "print(case['Logged_GDP_per_capita'].mean()-normal['Logged_GDP_per_capita'].mean())"
   ]
  },
  {
   "cell_type": "markdown",
   "metadata": {},
   "source": [
    "- 가설 : 행복지수가 평균 이상인 그룹(A)에서는 평균미만인 그룹(B)보다 1인당 GDP가 더 높게 나올 것이다\n",
    "- 귀무가설 : A = B\n",
    "- 대립가설 : A != B "
   ]
  },
  {
   "cell_type": "markdown",
   "metadata": {},
   "source": [
    "## 2) 순열검정 10,000회 반복하기"
   ]
  },
  {
   "cell_type": "code",
   "execution_count": 17,
   "metadata": {},
   "outputs": [
    {
     "data": {
      "text/plain": [
       "(array([ 13.,  33., 121., 169., 228., 195., 118.,  86.,  33.,   4.]),\n",
       " array([-0.53 , -0.421, -0.312, -0.203, -0.094,  0.016,  0.125,  0.234,\n",
       "         0.343,  0.452,  0.562]),\n",
       " <a list of 10 Patch objects>)"
      ]
     },
     "execution_count": 17,
     "metadata": {},
     "output_type": "execute_result"
    },
    {
     "data": {
      "image/png": "[encoded data removed]",
      "text/plain": [
       "<Figure size 432x288 with 1 Axes>"
      ]
     },
     "metadata": {
      "needs_background": "light"
     },
     "output_type": "display_data"
    }
   ],
   "source": [
    "# 순열검정 수행\n",
    "# case그룹과 normal그룹의 1인당 GDP 평균 차이 구하기\n",
    "result = []\n",
    "R = 1000\n",
    "A = [x for x in case['Logged_GDP_per_capita']]\n",
    "B = [x for x in normal['Logged_GDP_per_capita']]\n",
    "C = A+B\n",
    "\n",
    "# 자료를 랜덤하게 섞어준 후 추출\n",
    "for _ in range(R):\n",
    "    random.shuffle(C) \n",
    "    new_A = C[:81]\n",
    "    new_B = C[81:]\n",
    "    result.append(sum(new_A)/len(new_A) - sum(new_B)/len(new_B))\n",
    "    \n",
    "#그룹간 비교 통계량 분포    \n",
    "plt.hist(result)"
   ]
  },
  {
   "cell_type": "code",
   "execution_count": 18,
   "metadata": {},
   "outputs": [
    {
     "name": "stdout",
     "output_type": "stream",
     "text": [
      "1.633989128967123\n"
     ]
    }
   ],
   "source": [
    "k = sum(A)/len(A) - sum(B)/len(B) # 실제 데이터에서 평균 차이\n",
    "print(k)"
   ]
  },
  {
   "cell_type": "code",
   "execution_count": 19,
   "metadata": {},
   "outputs": [
    {
     "data": {
      "text/plain": [
       "0.000"
      ]
     },
     "execution_count": 19,
     "metadata": {},
     "output_type": "execute_result"
    }
   ],
   "source": [
    "k_result = [x for x in result if x > k or x < -k] # 양측검정\n",
    "len(k_result)* 100/len(result) # p-value"
   ]
  },
  {
   "cell_type": "markdown",
   "metadata": {},
   "source": [
    "- p-value = 0\n",
    "- 관측한 차이는 k = 약 1.634로 순열로 보이는 차이의 집합안에 들어가 있지 않다. 따라서 이 결과는 우연히 일어날 수 있는 범위 밖에 있으므로 우연때문에 나타난 결과가 아니다.\n",
    "- 이 데이터에 대한 결과는 통계적으로 유의미하다."
   ]
  },
  {
   "cell_type": "markdown",
   "metadata": {},
   "source": [
    "## 3)t-test를 이용해 위의 그룹간 평균 차이를 비교"
   ]
  },
  {
   "cell_type": "markdown",
   "metadata": {},
   "source": [
    "- independent t-test와 paired t-test 중 independent t-test가 적합\n",
    "- 행복지수로 인한 1인당 GDP의 변화를 관측하는 것이 아니라 1인당 GDP의 평균값을 관측하는 것이기 때문"
   ]
  },
  {
   "cell_type": "code",
   "execution_count": 21,
   "metadata": {},
   "outputs": [
    {
     "name": "stdout",
     "output_type": "stream",
     "text": [
      "3.193889688271856e-22\n"
     ]
    }
   ],
   "source": [
    "z, t = stats.ttest_ind(A,B)\n",
    "print(t) # p-value"
   ]
  },
  {
   "cell_type": "markdown",
   "metadata": {},
   "source": [
    "- 거의 0에 가까운 수로 permutation test에서의 p-value(0.000)와 차이가 적음"
   ]
  },
  {
   "cell_type": "markdown",
   "metadata": {},
   "source": [
    "## 4)  범주형 변수 간의 조합에 대해 교차표"
   ]
  },
  {
   "cell_type": "code",
   "execution_count": 22,
   "metadata": {},
   "outputs": [
    {
     "data": {
      "text/html": [
       "<div>\n",
       "<style scoped>\n",
       "    .dataframe tbody tr th:only-of-type {\n",
       "        vertical-align: middle;\n",
       "    }\n",
       "\n",
       "    .dataframe tbody tr th {\n",
       "        vertical-align: top;\n",
       "    }\n",
       "\n",
       "    .dataframe thead th {\n",
       "        text-align: right;\n",
       "    }\n",
       "</style>\n",
       "<table border=\"1\" class=\"dataframe\">\n",
       "  <thead>\n",
       "    <tr style=\"text-align: right;\">\n",
       "      <th>Up_Ladder</th>\n",
       "      <th>0</th>\n",
       "      <th>1</th>\n",
       "      <th>All</th>\n",
       "    </tr>\n",
       "    <tr>\n",
       "      <th>Up_GDP</th>\n",
       "      <th></th>\n",
       "      <th></th>\n",
       "      <th></th>\n",
       "    </tr>\n",
       "  </thead>\n",
       "  <tbody>\n",
       "    <tr>\n",
       "      <th>0</th>\n",
       "      <td>52</td>\n",
       "      <td>14</td>\n",
       "      <td>66</td>\n",
       "    </tr>\n",
       "    <tr>\n",
       "      <th>1</th>\n",
       "      <td>21</td>\n",
       "      <td>66</td>\n",
       "      <td>87</td>\n",
       "    </tr>\n",
       "    <tr>\n",
       "      <th>All</th>\n",
       "      <td>73</td>\n",
       "      <td>80</td>\n",
       "      <td>153</td>\n",
       "    </tr>\n",
       "  </tbody>\n",
       "</table>\n",
       "</div>"
      ],
      "text/plain": [
       "Up_Ladder   0   1  All\n",
       "Up_GDP                \n",
       "0          52  14   66\n",
       "1          21  66   87\n",
       "All        73  80  153"
      ]
     },
     "execution_count": 22,
     "metadata": {},
     "output_type": "execute_result"
    }
   ],
   "source": [
    "data['Up_Ladder'] = np.where(data['Ladder_score']>= data['Ladder_score'].mean(),1,0)\n",
    "data['Up_GDP'] = np.where(data['Logged_GDP_per_capita']>= data['Logged_GDP_per_capita'].mean(),1,0)\n",
    "per = pd.crosstab(index = data.Up_GDP, columns = data.Up_Ladder, margins = True)\n",
    "per"
   ]
  },
  {
   "cell_type": "markdown",
   "metadata": {},
   "source": [
    "- 행복지수가 평균이상일 때 1인당GDP도 평균이상일 전체 확률: 87/153 = 56.86%  "
   ]
  },
  {
   "cell_type": "markdown",
   "metadata": {},
   "source": [
    "## 5) ) chi-sqaure 통계량 혹은 resampling 방법을 사용해서 4)의 교차표에 chi-square test를 진행하고 p값을 계산"
   ]
  },
  {
   "cell_type": "code",
   "execution_count": 24,
   "metadata": {},
   "outputs": [
    {
     "data": {
      "text/plain": [
       "4.114534799148059e-09"
      ]
     },
     "execution_count": 24,
     "metadata": {},
     "output_type": "execute_result"
    }
   ],
   "source": [
    "chisq, pvalue,df,expected = stats.chi2_contingency(per) # chi-sqaure 통계량 사용\n",
    "pvalue # p-value"
   ]
  }
 ],
 "metadata": {
  "kernelspec": {
   "display_name": "Python 3",
   "language": "python",
   "name": "python3"
  },
  "language_info": {
   "codemirror_mode": {
    "name": "ipython",
    "version": 3
   },
   "file_extension": ".py",
   "mimetype": "text/x-python",
   "name": "python",
   "nbconvert_exporter": "python",
   "pygments_lexer": "ipython3",
   "version": "3.8.3"
  }
 },
 "nbformat": 4,
 "nbformat_minor": 4
}
