{
 "cells": [
  {
   "cell_type": "markdown",
   "metadata": {},
   "source": [
    "# 2020년의 세계 행복 보고서"
   ]
  },
  {
   "cell_type": "code",
   "execution_count": 1,
   "metadata": {},
   "outputs": [
    {
     "data": {
      "text/plain": [
       "'%.3f'"
      ]
     },
     "execution_count": 1,
     "metadata": {},
     "output_type": "execute_result"
    }
   ],
   "source": [
    "import numpy as np\n",
    "import scipy as sp\n",
    "import scipy.stats as stats\n",
    "import pandas as pd\n",
    "from pandas import Series, DataFrame\n",
    "\n",
    "#시각화 라이브러리\n",
    "import matplotlib.pyplot as plt\n",
    "import matplotlib as mpl\n",
    "import seaborn as sns\n",
    "%matplotlib inline\n",
    "\n",
    "import statsmodels.formula.api as smf\n",
    "import statsmodels.api as sm\n",
    "\n",
    "#소수점 3자리까지 표시\n",
    "%precision 3"
   ]
  },
  {
   "cell_type": "markdown",
   "metadata": {},
   "source": [
    "## 1) 데이터 일부 출력 후 전체 피쳐와 레코드 수 서술하기"
   ]
  },
  {
   "cell_type": "code",
   "execution_count": 2,
   "metadata": {},
   "outputs": [],
   "source": [
    "#데이터 불러오기\n",
    "d_data = pd.read_csv('2020.csv', encoding='cp949').iloc[:,0:13]\n",
    "data = d_data.iloc[:,2:]"
   ]
  },
  {
   "cell_type": "markdown",
   "metadata": {},
   "source": [
    "- 출처: https://www.kaggle.com/mathurinache/world-happiness-report/version/1?select=2020.csv"
   ]
  },
  {
   "cell_type": "code",
   "execution_count": 3,
   "metadata": {},
   "outputs": [
    {
     "data": {
      "text/html": [
       "<div>\n",
       "<style scoped>\n",
       "    .dataframe tbody tr th:only-of-type {\n",
       "        vertical-align: middle;\n",
       "    }\n",
       "\n",
       "    .dataframe tbody tr th {\n",
       "        vertical-align: top;\n",
       "    }\n",
       "\n",
       "    .dataframe thead th {\n",
       "        text-align: right;\n",
       "    }\n",
       "</style>\n",
       "<table border=\"1\" class=\"dataframe\">\n",
       "  <thead>\n",
       "    <tr style=\"text-align: right;\">\n",
       "      <th></th>\n",
       "      <th>Country name</th>\n",
       "      <th>Regional indicator</th>\n",
       "      <th>Ladder score</th>\n",
       "      <th>Standard error of ladder score</th>\n",
       "      <th>upperwhisker</th>\n",
       "      <th>lowerwhisker</th>\n",
       "      <th>Logged GDP per capita</th>\n",
       "      <th>Social support</th>\n",
       "      <th>Healthy life expectancy</th>\n",
       "      <th>Freedom to make life choices</th>\n",
       "      <th>Generosity</th>\n",
       "      <th>Perceptions of corruption</th>\n",
       "      <th>Ladder score in Dystopia</th>\n",
       "    </tr>\n",
       "  </thead>\n",
       "  <tbody>\n",
       "    <tr>\n",
       "      <th>0</th>\n",
       "      <td>Finland</td>\n",
       "      <td>Western Europe</td>\n",
       "      <td>7.8087</td>\n",
       "      <td>0.031156</td>\n",
       "      <td>7.869766</td>\n",
       "      <td>7.747634</td>\n",
       "      <td>10.639267</td>\n",
       "      <td>0.954330</td>\n",
       "      <td>71.900825</td>\n",
       "      <td>0.949172</td>\n",
       "      <td>-0.059482</td>\n",
       "      <td>0.195445</td>\n",
       "      <td>1.972317</td>\n",
       "    </tr>\n",
       "    <tr>\n",
       "      <th>1</th>\n",
       "      <td>Denmark</td>\n",
       "      <td>Western Europe</td>\n",
       "      <td>7.6456</td>\n",
       "      <td>0.033492</td>\n",
       "      <td>7.711245</td>\n",
       "      <td>7.579955</td>\n",
       "      <td>10.774001</td>\n",
       "      <td>0.955991</td>\n",
       "      <td>72.402504</td>\n",
       "      <td>0.951444</td>\n",
       "      <td>0.066202</td>\n",
       "      <td>0.168489</td>\n",
       "      <td>1.972317</td>\n",
       "    </tr>\n",
       "    <tr>\n",
       "      <th>2</th>\n",
       "      <td>Switzerland</td>\n",
       "      <td>Western Europe</td>\n",
       "      <td>7.5599</td>\n",
       "      <td>0.035014</td>\n",
       "      <td>7.628528</td>\n",
       "      <td>7.491272</td>\n",
       "      <td>10.979933</td>\n",
       "      <td>0.942847</td>\n",
       "      <td>74.102448</td>\n",
       "      <td>0.921337</td>\n",
       "      <td>0.105911</td>\n",
       "      <td>0.303728</td>\n",
       "      <td>1.972317</td>\n",
       "    </tr>\n",
       "    <tr>\n",
       "      <th>3</th>\n",
       "      <td>Iceland</td>\n",
       "      <td>Western Europe</td>\n",
       "      <td>7.5045</td>\n",
       "      <td>0.059616</td>\n",
       "      <td>7.621347</td>\n",
       "      <td>7.387653</td>\n",
       "      <td>10.772559</td>\n",
       "      <td>0.974670</td>\n",
       "      <td>73.000000</td>\n",
       "      <td>0.948892</td>\n",
       "      <td>0.246944</td>\n",
       "      <td>0.711710</td>\n",
       "      <td>1.972317</td>\n",
       "    </tr>\n",
       "    <tr>\n",
       "      <th>4</th>\n",
       "      <td>Norway</td>\n",
       "      <td>Western Europe</td>\n",
       "      <td>7.4880</td>\n",
       "      <td>0.034837</td>\n",
       "      <td>7.556281</td>\n",
       "      <td>7.419719</td>\n",
       "      <td>11.087804</td>\n",
       "      <td>0.952487</td>\n",
       "      <td>73.200783</td>\n",
       "      <td>0.955750</td>\n",
       "      <td>0.134533</td>\n",
       "      <td>0.263218</td>\n",
       "      <td>1.972317</td>\n",
       "    </tr>\n",
       "  </tbody>\n",
       "</table>\n",
       "</div>"
      ],
      "text/plain": [
       "  Country name Regional indicator  Ladder score  \\\n",
       "0      Finland     Western Europe        7.8087   \n",
       "1      Denmark     Western Europe        7.6456   \n",
       "2  Switzerland     Western Europe        7.5599   \n",
       "3      Iceland     Western Europe        7.5045   \n",
       "4       Norway     Western Europe        7.4880   \n",
       "\n",
       "   Standard error of ladder score  upperwhisker  lowerwhisker  \\\n",
       "0                        0.031156      7.869766      7.747634   \n",
       "1                        0.033492      7.711245      7.579955   \n",
       "2                        0.035014      7.628528      7.491272   \n",
       "3                        0.059616      7.621347      7.387653   \n",
       "4                        0.034837      7.556281      7.419719   \n",
       "\n",
       "   Logged GDP per capita  Social support  Healthy life expectancy  \\\n",
       "0              10.639267        0.954330                71.900825   \n",
       "1              10.774001        0.955991                72.402504   \n",
       "2              10.979933        0.942847                74.102448   \n",
       "3              10.772559        0.974670                73.000000   \n",
       "4              11.087804        0.952487                73.200783   \n",
       "\n",
       "   Freedom to make life choices  Generosity  Perceptions of corruption  \\\n",
       "0                      0.949172   -0.059482                   0.195445   \n",
       "1                      0.951444    0.066202                   0.168489   \n",
       "2                      0.921337    0.105911                   0.303728   \n",
       "3                      0.948892    0.246944                   0.711710   \n",
       "4                      0.955750    0.134533                   0.263218   \n",
       "\n",
       "   Ladder score in Dystopia  \n",
       "0                  1.972317  \n",
       "1                  1.972317  \n",
       "2                  1.972317  \n",
       "3                  1.972317  \n",
       "4                  1.972317  "
      ]
     },
     "execution_count": 3,
     "metadata": {},
     "output_type": "execute_result"
    }
   ],
   "source": [
    "#앞에서부터 5행만 추출 \n",
    "d_data.head(5)"
   ]
  },
  {
   "cell_type": "code",
   "execution_count": 4,
   "metadata": {
    "scrolled": true
   },
   "outputs": [
    {
     "data": {
      "text/html": [
       "<div>\n",
       "<style scoped>\n",
       "    .dataframe tbody tr th:only-of-type {\n",
       "        vertical-align: middle;\n",
       "    }\n",
       "\n",
       "    .dataframe tbody tr th {\n",
       "        vertical-align: top;\n",
       "    }\n",
       "\n",
       "    .dataframe thead th {\n",
       "        text-align: right;\n",
       "    }\n",
       "</style>\n",
       "<table border=\"1\" class=\"dataframe\">\n",
       "  <thead>\n",
       "    <tr style=\"text-align: right;\">\n",
       "      <th></th>\n",
       "      <th>Ladder score</th>\n",
       "      <th>Standard error of ladder score</th>\n",
       "      <th>upperwhisker</th>\n",
       "      <th>lowerwhisker</th>\n",
       "      <th>Logged GDP per capita</th>\n",
       "      <th>Social support</th>\n",
       "      <th>Healthy life expectancy</th>\n",
       "      <th>Freedom to make life choices</th>\n",
       "      <th>Generosity</th>\n",
       "      <th>Perceptions of corruption</th>\n",
       "      <th>Ladder score in Dystopia</th>\n",
       "    </tr>\n",
       "  </thead>\n",
       "  <tbody>\n",
       "    <tr>\n",
       "      <th>0</th>\n",
       "      <td>7.8087</td>\n",
       "      <td>0.031156</td>\n",
       "      <td>7.869766</td>\n",
       "      <td>7.747634</td>\n",
       "      <td>10.639267</td>\n",
       "      <td>0.954330</td>\n",
       "      <td>71.900825</td>\n",
       "      <td>0.949172</td>\n",
       "      <td>-0.059482</td>\n",
       "      <td>0.195445</td>\n",
       "      <td>1.972317</td>\n",
       "    </tr>\n",
       "    <tr>\n",
       "      <th>1</th>\n",
       "      <td>7.6456</td>\n",
       "      <td>0.033492</td>\n",
       "      <td>7.711245</td>\n",
       "      <td>7.579955</td>\n",
       "      <td>10.774001</td>\n",
       "      <td>0.955991</td>\n",
       "      <td>72.402504</td>\n",
       "      <td>0.951444</td>\n",
       "      <td>0.066202</td>\n",
       "      <td>0.168489</td>\n",
       "      <td>1.972317</td>\n",
       "    </tr>\n",
       "    <tr>\n",
       "      <th>2</th>\n",
       "      <td>7.5599</td>\n",
       "      <td>0.035014</td>\n",
       "      <td>7.628528</td>\n",
       "      <td>7.491272</td>\n",
       "      <td>10.979933</td>\n",
       "      <td>0.942847</td>\n",
       "      <td>74.102448</td>\n",
       "      <td>0.921337</td>\n",
       "      <td>0.105911</td>\n",
       "      <td>0.303728</td>\n",
       "      <td>1.972317</td>\n",
       "    </tr>\n",
       "    <tr>\n",
       "      <th>3</th>\n",
       "      <td>7.5045</td>\n",
       "      <td>0.059616</td>\n",
       "      <td>7.621347</td>\n",
       "      <td>7.387653</td>\n",
       "      <td>10.772559</td>\n",
       "      <td>0.974670</td>\n",
       "      <td>73.000000</td>\n",
       "      <td>0.948892</td>\n",
       "      <td>0.246944</td>\n",
       "      <td>0.711710</td>\n",
       "      <td>1.972317</td>\n",
       "    </tr>\n",
       "    <tr>\n",
       "      <th>4</th>\n",
       "      <td>7.4880</td>\n",
       "      <td>0.034837</td>\n",
       "      <td>7.556281</td>\n",
       "      <td>7.419719</td>\n",
       "      <td>11.087804</td>\n",
       "      <td>0.952487</td>\n",
       "      <td>73.200783</td>\n",
       "      <td>0.955750</td>\n",
       "      <td>0.134533</td>\n",
       "      <td>0.263218</td>\n",
       "      <td>1.972317</td>\n",
       "    </tr>\n",
       "  </tbody>\n",
       "</table>\n",
       "</div>"
      ],
      "text/plain": [
       "   Ladder score  Standard error of ladder score  upperwhisker  lowerwhisker  \\\n",
       "0        7.8087                        0.031156      7.869766      7.747634   \n",
       "1        7.6456                        0.033492      7.711245      7.579955   \n",
       "2        7.5599                        0.035014      7.628528      7.491272   \n",
       "3        7.5045                        0.059616      7.621347      7.387653   \n",
       "4        7.4880                        0.034837      7.556281      7.419719   \n",
       "\n",
       "   Logged GDP per capita  Social support  Healthy life expectancy  \\\n",
       "0              10.639267        0.954330                71.900825   \n",
       "1              10.774001        0.955991                72.402504   \n",
       "2              10.979933        0.942847                74.102448   \n",
       "3              10.772559        0.974670                73.000000   \n",
       "4              11.087804        0.952487                73.200783   \n",
       "\n",
       "   Freedom to make life choices  Generosity  Perceptions of corruption  \\\n",
       "0                      0.949172   -0.059482                   0.195445   \n",
       "1                      0.951444    0.066202                   0.168489   \n",
       "2                      0.921337    0.105911                   0.303728   \n",
       "3                      0.948892    0.246944                   0.711710   \n",
       "4                      0.955750    0.134533                   0.263218   \n",
       "\n",
       "   Ladder score in Dystopia  \n",
       "0                  1.972317  \n",
       "1                  1.972317  \n",
       "2                  1.972317  \n",
       "3                  1.972317  \n",
       "4                  1.972317  "
      ]
     },
     "execution_count": 4,
     "metadata": {},
     "output_type": "execute_result"
    }
   ],
   "source": [
    "#수치형 변수만 남기기\n",
    "data.head(5)"
   ]
  },
  {
   "cell_type": "markdown",
   "metadata": {},
   "source": [
    "- Countryname: 나라 이름\n",
    "- Regional indicator: 지역 지표\n",
    "- Ladder score: 행복지수 (0~10)\n",
    "- upperwhisker: 상단 기준치(Q3+1.5*IRQ)보다 작은 값 중 가장 큰 값\n",
    "- lowerwhisker: 하단 이상치 기준(Q1-1.5*IRQ)보다 큰 값 중 가장 작은 값\n",
    "- Logged GDP per capita: 1인당 GDP"
   ]
  },
  {
   "cell_type": "code",
   "execution_count": 5,
   "metadata": {},
   "outputs": [
    {
     "name": "stdout",
     "output_type": "stream",
     "text": [
      "전체 피쳐 개수 :  11\n",
      "전체 레코드의 개수:  153\n"
     ]
    }
   ],
   "source": [
    "#전체 피쳐와 레코드의 개수\n",
    "print(\"전체 피쳐 개수 : \", len(data.columns)) \n",
    "print(\"전체 레코드의 개수: \", len(data))"
   ]
  },
  {
   "cell_type": "code",
   "execution_count": 6,
   "metadata": {},
   "outputs": [
    {
     "data": {
      "text/html": [
       "<div>\n",
       "<style scoped>\n",
       "    .dataframe tbody tr th:only-of-type {\n",
       "        vertical-align: middle;\n",
       "    }\n",
       "\n",
       "    .dataframe tbody tr th {\n",
       "        vertical-align: top;\n",
       "    }\n",
       "\n",
       "    .dataframe thead th {\n",
       "        text-align: right;\n",
       "    }\n",
       "</style>\n",
       "<table border=\"1\" class=\"dataframe\">\n",
       "  <thead>\n",
       "    <tr style=\"text-align: right;\">\n",
       "      <th></th>\n",
       "      <th>Ladder score</th>\n",
       "      <th>Standard error of ladder score</th>\n",
       "      <th>upperwhisker</th>\n",
       "      <th>lowerwhisker</th>\n",
       "      <th>Logged GDP per capita</th>\n",
       "      <th>Social support</th>\n",
       "      <th>Healthy life expectancy</th>\n",
       "      <th>Freedom to make life choices</th>\n",
       "      <th>Generosity</th>\n",
       "      <th>Perceptions of corruption</th>\n",
       "      <th>Ladder score in Dystopia</th>\n",
       "    </tr>\n",
       "  </thead>\n",
       "  <tbody>\n",
       "    <tr>\n",
       "      <th>count</th>\n",
       "      <td>153.00000</td>\n",
       "      <td>153.000000</td>\n",
       "      <td>153.000000</td>\n",
       "      <td>153.000000</td>\n",
       "      <td>153.000000</td>\n",
       "      <td>153.000000</td>\n",
       "      <td>153.000000</td>\n",
       "      <td>153.000000</td>\n",
       "      <td>153.000000</td>\n",
       "      <td>153.000000</td>\n",
       "      <td>1.530000e+02</td>\n",
       "    </tr>\n",
       "    <tr>\n",
       "      <th>mean</th>\n",
       "      <td>5.47324</td>\n",
       "      <td>0.053538</td>\n",
       "      <td>5.578175</td>\n",
       "      <td>5.368304</td>\n",
       "      <td>9.295706</td>\n",
       "      <td>0.808721</td>\n",
       "      <td>64.445529</td>\n",
       "      <td>0.783360</td>\n",
       "      <td>-0.014568</td>\n",
       "      <td>0.733120</td>\n",
       "      <td>1.972317e+00</td>\n",
       "    </tr>\n",
       "    <tr>\n",
       "      <th>std</th>\n",
       "      <td>1.11227</td>\n",
       "      <td>0.018183</td>\n",
       "      <td>1.096823</td>\n",
       "      <td>1.128631</td>\n",
       "      <td>1.201588</td>\n",
       "      <td>0.121453</td>\n",
       "      <td>7.057848</td>\n",
       "      <td>0.117786</td>\n",
       "      <td>0.151809</td>\n",
       "      <td>0.175172</td>\n",
       "      <td>1.336643e-15</td>\n",
       "    </tr>\n",
       "    <tr>\n",
       "      <th>min</th>\n",
       "      <td>2.56690</td>\n",
       "      <td>0.025902</td>\n",
       "      <td>2.628270</td>\n",
       "      <td>2.505530</td>\n",
       "      <td>6.492642</td>\n",
       "      <td>0.319460</td>\n",
       "      <td>45.200001</td>\n",
       "      <td>0.396573</td>\n",
       "      <td>-0.300907</td>\n",
       "      <td>0.109784</td>\n",
       "      <td>1.972317e+00</td>\n",
       "    </tr>\n",
       "    <tr>\n",
       "      <th>25%</th>\n",
       "      <td>4.72410</td>\n",
       "      <td>0.040698</td>\n",
       "      <td>4.826248</td>\n",
       "      <td>4.603149</td>\n",
       "      <td>8.350645</td>\n",
       "      <td>0.737217</td>\n",
       "      <td>58.961712</td>\n",
       "      <td>0.714839</td>\n",
       "      <td>-0.127015</td>\n",
       "      <td>0.683019</td>\n",
       "      <td>1.972317e+00</td>\n",
       "    </tr>\n",
       "    <tr>\n",
       "      <th>50%</th>\n",
       "      <td>5.51500</td>\n",
       "      <td>0.050606</td>\n",
       "      <td>5.607728</td>\n",
       "      <td>5.430644</td>\n",
       "      <td>9.456313</td>\n",
       "      <td>0.829204</td>\n",
       "      <td>66.305145</td>\n",
       "      <td>0.799805</td>\n",
       "      <td>-0.033665</td>\n",
       "      <td>0.783122</td>\n",
       "      <td>1.972317e+00</td>\n",
       "    </tr>\n",
       "    <tr>\n",
       "      <th>75%</th>\n",
       "      <td>6.22850</td>\n",
       "      <td>0.060677</td>\n",
       "      <td>6.363886</td>\n",
       "      <td>6.138881</td>\n",
       "      <td>10.265124</td>\n",
       "      <td>0.906747</td>\n",
       "      <td>69.289192</td>\n",
       "      <td>0.877709</td>\n",
       "      <td>0.085429</td>\n",
       "      <td>0.849151</td>\n",
       "      <td>1.972317e+00</td>\n",
       "    </tr>\n",
       "    <tr>\n",
       "      <th>max</th>\n",
       "      <td>7.80870</td>\n",
       "      <td>0.120590</td>\n",
       "      <td>7.869766</td>\n",
       "      <td>7.747634</td>\n",
       "      <td>11.450681</td>\n",
       "      <td>0.974670</td>\n",
       "      <td>76.804581</td>\n",
       "      <td>0.974998</td>\n",
       "      <td>0.560664</td>\n",
       "      <td>0.935585</td>\n",
       "      <td>1.972317e+00</td>\n",
       "    </tr>\n",
       "  </tbody>\n",
       "</table>\n",
       "</div>"
      ],
      "text/plain": [
       "       Ladder score  Standard error of ladder score  upperwhisker  \\\n",
       "count     153.00000                      153.000000    153.000000   \n",
       "mean        5.47324                        0.053538      5.578175   \n",
       "std         1.11227                        0.018183      1.096823   \n",
       "min         2.56690                        0.025902      2.628270   \n",
       "25%         4.72410                        0.040698      4.826248   \n",
       "50%         5.51500                        0.050606      5.607728   \n",
       "75%         6.22850                        0.060677      6.363886   \n",
       "max         7.80870                        0.120590      7.869766   \n",
       "\n",
       "       lowerwhisker  Logged GDP per capita  Social support  \\\n",
       "count    153.000000             153.000000      153.000000   \n",
       "mean       5.368304               9.295706        0.808721   \n",
       "std        1.128631               1.201588        0.121453   \n",
       "min        2.505530               6.492642        0.319460   \n",
       "25%        4.603149               8.350645        0.737217   \n",
       "50%        5.430644               9.456313        0.829204   \n",
       "75%        6.138881              10.265124        0.906747   \n",
       "max        7.747634              11.450681        0.974670   \n",
       "\n",
       "       Healthy life expectancy  Freedom to make life choices  Generosity  \\\n",
       "count               153.000000                    153.000000  153.000000   \n",
       "mean                 64.445529                      0.783360   -0.014568   \n",
       "std                   7.057848                      0.117786    0.151809   \n",
       "min                  45.200001                      0.396573   -0.300907   \n",
       "25%                  58.961712                      0.714839   -0.127015   \n",
       "50%                  66.305145                      0.799805   -0.033665   \n",
       "75%                  69.289192                      0.877709    0.085429   \n",
       "max                  76.804581                      0.974998    0.560664   \n",
       "\n",
       "       Perceptions of corruption  Ladder score in Dystopia  \n",
       "count                 153.000000              1.530000e+02  \n",
       "mean                    0.733120              1.972317e+00  \n",
       "std                     0.175172              1.336643e-15  \n",
       "min                     0.109784              1.972317e+00  \n",
       "25%                     0.683019              1.972317e+00  \n",
       "50%                     0.783122              1.972317e+00  \n",
       "75%                     0.849151              1.972317e+00  \n",
       "max                     0.935585              1.972317e+00  "
      ]
     },
     "execution_count": 6,
     "metadata": {},
     "output_type": "execute_result"
    }
   ],
   "source": [
    "data.describe()"
   ]
  },
  {
   "cell_type": "markdown",
   "metadata": {},
   "source": [
    "## 2) 하나 이상의 변수에 대해 위치 추정값 중 2가지 이상을 구하고 비교하기"
   ]
  },
  {
   "cell_type": "code",
   "execution_count": 7,
   "metadata": {},
   "outputs": [
    {
     "name": "stdout",
     "output_type": "stream",
     "text": [
      "5.47323986284967\n",
      "5.514999866\n",
      "5.487776415130082\n"
     ]
    }
   ],
   "source": [
    "#Ladder score의 mean, median, trimmed mean\n",
    "print(data['Ladder score'].mean())\n",
    "print(data['Ladder score'].median())\n",
    "print(stats.trim_mean(data['Ladder score'],0.1))"
   ]
  },
  {
   "cell_type": "code",
   "execution_count": 8,
   "metadata": {},
   "outputs": [
    {
     "name": "stdout",
     "output_type": "stream",
     "text": [
      "0.8087210684379081\n",
      "0.829204142\n",
      "0.8236602680406502\n"
     ]
    }
   ],
   "source": [
    "#Social supoort의 mean, median, trimmed mean\n",
    "print(data['Social support'].mean())\n",
    "print(data['Social support'].median())\n",
    "print(stats.trim_mean(data['Social support'],0.1))"
   ]
  },
  {
   "cell_type": "code",
   "execution_count": 9,
   "metadata": {},
   "outputs": [
    {
     "name": "stdout",
     "output_type": "stream",
     "text": [
      "64.44552916509808\n",
      "66.30514526\n",
      "64.90494509455284\n"
     ]
    }
   ],
   "source": [
    "#Healthy life expectancy의 mean, median, trimmed mean\n",
    "print(data['Healthy life expectancy'].mean())\n",
    "print(data['Healthy life expectancy'].median())\n",
    "print(stats.trim_mean(data['Healthy life expectancy'],0.1))"
   ]
  },
  {
   "cell_type": "markdown",
   "metadata": {},
   "source": [
    "- 세 값이 비슷한 Ladder score과 Social support의 경우에는 최솟값과 최댓값의 차이가 적다\n",
    "- 평균과 중간값의 차이가 큰 Healthy life expectancy의 경우 평균과도 큰 차이가 나는 값이 존재하여 이러한 모습을 나타내는 것으로 보인다"
   ]
  },
  {
   "cell_type": "markdown",
   "metadata": {},
   "source": [
    "## 3) 하나 이상의 변수에 대해 변이의 추정값 2가지 이상을 구해 비교하기"
   ]
  },
  {
   "cell_type": "code",
   "execution_count": 10,
   "metadata": {},
   "outputs": [
    {
     "name": "stdout",
     "output_type": "stream",
     "text": [
      "1.112270173678083\n",
      "0.9095243130722369\n"
     ]
    }
   ],
   "source": [
    "#Ladder score의 표준편차와 평균절대편차 값 (여기서 mad는 평균절대편차가 아님)\n",
    "print(data['Ladder score'].std())\n",
    "print(data['Ladder score'].mad())"
   ]
  },
  {
   "cell_type": "code",
   "execution_count": 11,
   "metadata": {},
   "outputs": [
    {
     "name": "stdout",
     "output_type": "stream",
     "text": [
      "0.12145326744019307\n",
      "0.09526992585244999\n"
     ]
    }
   ],
   "source": [
    "#Social support의 표준편차와 평균절대편차 값\n",
    "print(data['Social support'].std())\n",
    "print(data['Social support'].mad())"
   ]
  },
  {
   "cell_type": "code",
   "execution_count": 12,
   "metadata": {},
   "outputs": [
    {
     "name": "stdout",
     "output_type": "stream",
     "text": [
      "7.057847634303703\n",
      "5.810653119751367\n"
     ]
    }
   ],
   "source": [
    "#Healthy life expectancy의 표준편차와 평균절대편차 값\n",
    "print(data['Healthy life expectancy'].std())\n",
    "print(data['Healthy life expectancy'].mad())"
   ]
  },
  {
   "cell_type": "markdown",
   "metadata": {},
   "source": [
    "- Ladder score과 Social support의 경우에는 중심에서 크게 벗어나는 값이 없기 때문에 표준편차와 평균절대편차의 차이가 크지않다.\n",
    "- Healthy life expectancy의 경우에는 중심에서 크게 벗어나는 값이 존재하여 표준편차와 평균절대편차 사이의 차이가 큰 편이다.\n",
    "- Healthy life expectancy outlier로 인한 문제점을 보완해주는 모습을 보인다"
   ]
  },
  {
   "cell_type": "markdown",
   "metadata": {},
   "source": [
    "## 4) 데이터의 분포를 반영하는 기법을 3가지 이상 써보고 비교하기  "
   ]
  },
  {
   "cell_type": "code",
   "execution_count": 13,
   "metadata": {},
   "outputs": [
    {
     "name": "stdout",
     "output_type": "stream",
     "text": [
      "0.05    3.53376\n",
      "0.25    4.72410\n",
      "0.50    5.51500\n",
      "0.75    6.22850\n",
      "0.95    7.29636\n",
      "Name: Ladder score, dtype: float64\n",
      "0.05    0.576803\n",
      "0.25    0.737217\n",
      "0.50    0.829204\n",
      "0.75    0.906747\n",
      "0.95    0.942388\n",
      "Name: Social support, dtype: float64\n",
      "0.05    51.511484\n",
      "0.25    58.961712\n",
      "0.50    66.305145\n",
      "0.75    69.289192\n",
      "0.95    73.643613\n",
      "Name: Healthy life expectancy, dtype: float64\n"
     ]
    }
   ],
   "source": [
    "#Ladder score, Social support, Healthy life expectancy의 백분위수\n",
    "print(data['Ladder score'].quantile([0.05, 0.25, 0.5, 0.75, 0.95]))\n",
    "print(data['Social support'].quantile([0.05, 0.25, 0.5, 0.75, 0.95]))\n",
    "print(data['Healthy life expectancy'].quantile([0.05, 0.25, 0.5, 0.75, 0.95]))"
   ]
  },
  {
   "cell_type": "code",
   "execution_count": 14,
   "metadata": {},
   "outputs": [
    {
     "data": {
      "text/plain": [
       "<matplotlib.axes._subplots.AxesSubplot at 0x1a253f0ff10>"
      ]
     },
     "execution_count": 14,
     "metadata": {},
     "output_type": "execute_result"
    },
    {
     "data": {
      "image/png": "[encoded data removed]",
      "text/plain": [
       "<Figure size 1080x360 with 3 Axes>"
      ]
     },
     "metadata": {
      "needs_background": "light"
     },
     "output_type": "display_data"
    }
   ],
   "source": [
    "#Ladder score, Social support, Healthy life expectancy의 상자그림\n",
    "fig = plt.figure(figsize = (15,5))\n",
    "ax1 = fig.add_subplot(1,3,1)\n",
    "ax2 = fig.add_subplot(1,3,2)\n",
    "ax3 = fig.add_subplot(1,3,3)\n",
    "sns.boxplot(ax=ax1,y = 'Ladder score', data = data)\n",
    "sns.boxplot(ax=ax2,y = 'Social support', data = data)\n",
    "sns.boxplot(ax=ax3, y = 'Healthy life expectancy',data=data)"
   ]
  },
  {
   "cell_type": "code",
   "execution_count": 15,
   "metadata": {},
   "outputs": [
    {
     "data": {
      "text/plain": [
       "<matplotlib.axes._subplots.AxesSubplot at 0x1a2541ffa30>"
      ]
     },
     "execution_count": 15,
     "metadata": {},
     "output_type": "execute_result"
    },
    {
     "data": {
      "image/png": "[encoded data removed]",
      "text/plain": [
       "<Figure size 1080x360 with 3 Axes>"
      ]
     },
     "metadata": {
      "needs_background": "light"
     },
     "output_type": "display_data"
    }
   ],
   "source": [
    "#Ladder score, Social support, Healthy life expectancy의 히스토그램\n",
    "fig = plt.figure(figsize = (15,5))\n",
    "ax1 = fig.add_subplot(1,3,1)\n",
    "ax2 = fig.add_subplot(1,3,2)\n",
    "ax3 = fig.add_subplot(1,3,3)\n",
    "sns.histplot(ax=ax1, x = data['Ladder score'], kde = True)\n",
    "sns.histplot(ax=ax2, x = data['Social support'], kde = True)\n",
    "sns.histplot(ax=ax3, x = data['Healthy life expectancy'], kde = True)"
   ]
  },
  {
   "cell_type": "markdown",
   "metadata": {},
   "source": [
    "- 수치로 나타나는 백분위수에 비해 그림으로 시각화해주는 boxplot과 히스토그램이 데이터의 분포를 한눈에 알아보기 쉽다\n",
    "- 2,3번에서 수치로만 보았을 때는 Ladder score보다 Social support의 값 차이가 적어 둘 다 outlier가 크게 없는 것 같지만 시각화를 통해 보니 Social supoort가 Healthy life expectancy보다 outlier가 눈에 띄는 것을 확인할 수 있다\n",
    "- Social support의 값이 작은 값들로 이루어져 있어 다른 피쳐에 비해 outlier를 알아내기 어려웠던 것 같다.\n",
    "- boxplot을 통해 Social support와 Healthy life expectancy의 경우 평균이 중간값보다 큰 값으로 치우쳐져 있는 것을 확인할 수 있다"
   ]
  },
  {
   "cell_type": "markdown",
   "metadata": {},
   "source": [
    "## 5) 여러 변수 간의 상관행렬을 구하고 heat map 등으로 시각화하고 해석하기"
   ]
  },
  {
   "cell_type": "code",
   "execution_count": 16,
   "metadata": {},
   "outputs": [
    {
     "data": {
      "text/html": [
       "<div>\n",
       "<style scoped>\n",
       "    .dataframe tbody tr th:only-of-type {\n",
       "        vertical-align: middle;\n",
       "    }\n",
       "\n",
       "    .dataframe tbody tr th {\n",
       "        vertical-align: top;\n",
       "    }\n",
       "\n",
       "    .dataframe thead th {\n",
       "        text-align: right;\n",
       "    }\n",
       "</style>\n",
       "<table border=\"1\" class=\"dataframe\">\n",
       "  <thead>\n",
       "    <tr style=\"text-align: right;\">\n",
       "      <th></th>\n",
       "      <th>Ladder score</th>\n",
       "      <th>Standard error of ladder score</th>\n",
       "      <th>upperwhisker</th>\n",
       "      <th>lowerwhisker</th>\n",
       "      <th>Logged GDP per capita</th>\n",
       "      <th>Social support</th>\n",
       "      <th>Healthy life expectancy</th>\n",
       "      <th>Freedom to make life choices</th>\n",
       "      <th>Generosity</th>\n",
       "      <th>Perceptions of corruption</th>\n",
       "      <th>Ladder score in Dystopia</th>\n",
       "    </tr>\n",
       "  </thead>\n",
       "  <tbody>\n",
       "    <tr>\n",
       "      <th>Ladder score</th>\n",
       "      <td>1.000000e+00</td>\n",
       "      <td>-4.464433e-01</td>\n",
       "      <td>9.995772e-01</td>\n",
       "      <td>9.996007e-01</td>\n",
       "      <td>7.753744e-01</td>\n",
       "      <td>7.650008e-01</td>\n",
       "      <td>7.703163e-01</td>\n",
       "      <td>5.905968e-01</td>\n",
       "      <td>6.904313e-02</td>\n",
       "      <td>-4.183051e-01</td>\n",
       "      <td>2.761262e-15</td>\n",
       "    </tr>\n",
       "    <tr>\n",
       "      <th>Standard error of ladder score</th>\n",
       "      <td>-4.464433e-01</td>\n",
       "      <td>1.000000e+00</td>\n",
       "      <td>-4.202380e-01</td>\n",
       "      <td>-4.715483e-01</td>\n",
       "      <td>-5.789263e-01</td>\n",
       "      <td>-5.158812e-01</td>\n",
       "      <td>-5.864704e-01</td>\n",
       "      <td>-2.924977e-01</td>\n",
       "      <td>7.274192e-02</td>\n",
       "      <td>3.035997e-01</td>\n",
       "      <td>-2.028613e-15</td>\n",
       "    </tr>\n",
       "    <tr>\n",
       "      <th>upperwhisker</th>\n",
       "      <td>9.995772e-01</td>\n",
       "      <td>-4.202380e-01</td>\n",
       "      <td>1.000000e+00</td>\n",
       "      <td>9.983566e-01</td>\n",
       "      <td>7.674834e-01</td>\n",
       "      <td>7.590122e-01</td>\n",
       "      <td>7.621089e-01</td>\n",
       "      <td>5.894104e-01</td>\n",
       "      <td>7.237907e-02</td>\n",
       "      <td>-4.143315e-01</td>\n",
       "      <td>-1.897447e-15</td>\n",
       "    </tr>\n",
       "    <tr>\n",
       "      <th>lowerwhisker</th>\n",
       "      <td>9.996007e-01</td>\n",
       "      <td>-4.715483e-01</td>\n",
       "      <td>9.983566e-01</td>\n",
       "      <td>1.000000e+00</td>\n",
       "      <td>7.824148e-01</td>\n",
       "      <td>7.702008e-01</td>\n",
       "      <td>7.776683e-01</td>\n",
       "      <td>5.912713e-01</td>\n",
       "      <td>6.574526e-02</td>\n",
       "      <td>-4.218278e-01</td>\n",
       "      <td>2.738435e-15</td>\n",
       "    </tr>\n",
       "    <tr>\n",
       "      <th>Logged GDP per capita</th>\n",
       "      <td>7.753744e-01</td>\n",
       "      <td>-5.789263e-01</td>\n",
       "      <td>7.674834e-01</td>\n",
       "      <td>7.824148e-01</td>\n",
       "      <td>1.000000e+00</td>\n",
       "      <td>7.818136e-01</td>\n",
       "      <td>8.484686e-01</td>\n",
       "      <td>4.190186e-01</td>\n",
       "      <td>-1.183994e-01</td>\n",
       "      <td>-3.347291e-01</td>\n",
       "      <td>1.434726e-15</td>\n",
       "    </tr>\n",
       "    <tr>\n",
       "      <th>Social support</th>\n",
       "      <td>7.650008e-01</td>\n",
       "      <td>-5.158812e-01</td>\n",
       "      <td>7.590122e-01</td>\n",
       "      <td>7.702008e-01</td>\n",
       "      <td>7.818136e-01</td>\n",
       "      <td>1.000000e+00</td>\n",
       "      <td>7.427441e-01</td>\n",
       "      <td>4.788632e-01</td>\n",
       "      <td>-5.678035e-02</td>\n",
       "      <td>-2.105296e-01</td>\n",
       "      <td>2.757347e-15</td>\n",
       "    </tr>\n",
       "    <tr>\n",
       "      <th>Healthy life expectancy</th>\n",
       "      <td>7.703163e-01</td>\n",
       "      <td>-5.864704e-01</td>\n",
       "      <td>7.621089e-01</td>\n",
       "      <td>7.776683e-01</td>\n",
       "      <td>8.484686e-01</td>\n",
       "      <td>7.427441e-01</td>\n",
       "      <td>1.000000e+00</td>\n",
       "      <td>4.488462e-01</td>\n",
       "      <td>-7.185211e-02</td>\n",
       "      <td>-3.538412e-01</td>\n",
       "      <td>-5.890844e-15</td>\n",
       "    </tr>\n",
       "    <tr>\n",
       "      <th>Freedom to make life choices</th>\n",
       "      <td>5.905968e-01</td>\n",
       "      <td>-2.924977e-01</td>\n",
       "      <td>5.894104e-01</td>\n",
       "      <td>5.912713e-01</td>\n",
       "      <td>4.190186e-01</td>\n",
       "      <td>4.788632e-01</td>\n",
       "      <td>4.488462e-01</td>\n",
       "      <td>1.000000e+00</td>\n",
       "      <td>2.537211e-01</td>\n",
       "      <td>-4.201445e-01</td>\n",
       "      <td>-9.230068e-16</td>\n",
       "    </tr>\n",
       "    <tr>\n",
       "      <th>Generosity</th>\n",
       "      <td>6.904313e-02</td>\n",
       "      <td>7.274192e-02</td>\n",
       "      <td>7.237907e-02</td>\n",
       "      <td>6.574526e-02</td>\n",
       "      <td>-1.183994e-01</td>\n",
       "      <td>-5.678035e-02</td>\n",
       "      <td>-7.185211e-02</td>\n",
       "      <td>2.537211e-01</td>\n",
       "      <td>1.000000e+00</td>\n",
       "      <td>-2.784802e-01</td>\n",
       "      <td>-2.158034e-17</td>\n",
       "    </tr>\n",
       "    <tr>\n",
       "      <th>Perceptions of corruption</th>\n",
       "      <td>-4.183051e-01</td>\n",
       "      <td>3.035997e-01</td>\n",
       "      <td>-4.143315e-01</td>\n",
       "      <td>-4.218278e-01</td>\n",
       "      <td>-3.347291e-01</td>\n",
       "      <td>-2.105296e-01</td>\n",
       "      <td>-3.538412e-01</td>\n",
       "      <td>-4.201445e-01</td>\n",
       "      <td>-2.784802e-01</td>\n",
       "      <td>1.000000e+00</td>\n",
       "      <td>6.095487e-17</td>\n",
       "    </tr>\n",
       "    <tr>\n",
       "      <th>Ladder score in Dystopia</th>\n",
       "      <td>2.761262e-15</td>\n",
       "      <td>-2.028613e-15</td>\n",
       "      <td>-1.897447e-15</td>\n",
       "      <td>2.738435e-15</td>\n",
       "      <td>1.434726e-15</td>\n",
       "      <td>2.757347e-15</td>\n",
       "      <td>-5.890844e-15</td>\n",
       "      <td>-9.230068e-16</td>\n",
       "      <td>-2.158034e-17</td>\n",
       "      <td>6.095487e-17</td>\n",
       "      <td>1.000000e+00</td>\n",
       "    </tr>\n",
       "  </tbody>\n",
       "</table>\n",
       "</div>"
      ],
      "text/plain": [
       "                                Ladder score  Standard error of ladder score  \\\n",
       "Ladder score                    1.000000e+00                   -4.464433e-01   \n",
       "Standard error of ladder score -4.464433e-01                    1.000000e+00   \n",
       "upperwhisker                    9.995772e-01                   -4.202380e-01   \n",
       "lowerwhisker                    9.996007e-01                   -4.715483e-01   \n",
       "Logged GDP per capita           7.753744e-01                   -5.789263e-01   \n",
       "Social support                  7.650008e-01                   -5.158812e-01   \n",
       "Healthy life expectancy         7.703163e-01                   -5.864704e-01   \n",
       "Freedom to make life choices    5.905968e-01                   -2.924977e-01   \n",
       "Generosity                      6.904313e-02                    7.274192e-02   \n",
       "Perceptions of corruption      -4.183051e-01                    3.035997e-01   \n",
       "Ladder score in Dystopia        2.761262e-15                   -2.028613e-15   \n",
       "\n",
       "                                upperwhisker  lowerwhisker  \\\n",
       "Ladder score                    9.995772e-01  9.996007e-01   \n",
       "Standard error of ladder score -4.202380e-01 -4.715483e-01   \n",
       "upperwhisker                    1.000000e+00  9.983566e-01   \n",
       "lowerwhisker                    9.983566e-01  1.000000e+00   \n",
       "Logged GDP per capita           7.674834e-01  7.824148e-01   \n",
       "Social support                  7.590122e-01  7.702008e-01   \n",
       "Healthy life expectancy         7.621089e-01  7.776683e-01   \n",
       "Freedom to make life choices    5.894104e-01  5.912713e-01   \n",
       "Generosity                      7.237907e-02  6.574526e-02   \n",
       "Perceptions of corruption      -4.143315e-01 -4.218278e-01   \n",
       "Ladder score in Dystopia       -1.897447e-15  2.738435e-15   \n",
       "\n",
       "                                Logged GDP per capita  Social support  \\\n",
       "Ladder score                             7.753744e-01    7.650008e-01   \n",
       "Standard error of ladder score          -5.789263e-01   -5.158812e-01   \n",
       "upperwhisker                             7.674834e-01    7.590122e-01   \n",
       "lowerwhisker                             7.824148e-01    7.702008e-01   \n",
       "Logged GDP per capita                    1.000000e+00    7.818136e-01   \n",
       "Social support                           7.818136e-01    1.000000e+00   \n",
       "Healthy life expectancy                  8.484686e-01    7.427441e-01   \n",
       "Freedom to make life choices             4.190186e-01    4.788632e-01   \n",
       "Generosity                              -1.183994e-01   -5.678035e-02   \n",
       "Perceptions of corruption               -3.347291e-01   -2.105296e-01   \n",
       "Ladder score in Dystopia                 1.434726e-15    2.757347e-15   \n",
       "\n",
       "                                Healthy life expectancy  \\\n",
       "Ladder score                               7.703163e-01   \n",
       "Standard error of ladder score            -5.864704e-01   \n",
       "upperwhisker                               7.621089e-01   \n",
       "lowerwhisker                               7.776683e-01   \n",
       "Logged GDP per capita                      8.484686e-01   \n",
       "Social support                             7.427441e-01   \n",
       "Healthy life expectancy                    1.000000e+00   \n",
       "Freedom to make life choices               4.488462e-01   \n",
       "Generosity                                -7.185211e-02   \n",
       "Perceptions of corruption                 -3.538412e-01   \n",
       "Ladder score in Dystopia                  -5.890844e-15   \n",
       "\n",
       "                                Freedom to make life choices    Generosity  \\\n",
       "Ladder score                                    5.905968e-01  6.904313e-02   \n",
       "Standard error of ladder score                 -2.924977e-01  7.274192e-02   \n",
       "upperwhisker                                    5.894104e-01  7.237907e-02   \n",
       "lowerwhisker                                    5.912713e-01  6.574526e-02   \n",
       "Logged GDP per capita                           4.190186e-01 -1.183994e-01   \n",
       "Social support                                  4.788632e-01 -5.678035e-02   \n",
       "Healthy life expectancy                         4.488462e-01 -7.185211e-02   \n",
       "Freedom to make life choices                    1.000000e+00  2.537211e-01   \n",
       "Generosity                                      2.537211e-01  1.000000e+00   \n",
       "Perceptions of corruption                      -4.201445e-01 -2.784802e-01   \n",
       "Ladder score in Dystopia                       -9.230068e-16 -2.158034e-17   \n",
       "\n",
       "                                Perceptions of corruption  \\\n",
       "Ladder score                                -4.183051e-01   \n",
       "Standard error of ladder score               3.035997e-01   \n",
       "upperwhisker                                -4.143315e-01   \n",
       "lowerwhisker                                -4.218278e-01   \n",
       "Logged GDP per capita                       -3.347291e-01   \n",
       "Social support                              -2.105296e-01   \n",
       "Healthy life expectancy                     -3.538412e-01   \n",
       "Freedom to make life choices                -4.201445e-01   \n",
       "Generosity                                  -2.784802e-01   \n",
       "Perceptions of corruption                    1.000000e+00   \n",
       "Ladder score in Dystopia                     6.095487e-17   \n",
       "\n",
       "                                Ladder score in Dystopia  \n",
       "Ladder score                                2.761262e-15  \n",
       "Standard error of ladder score             -2.028613e-15  \n",
       "upperwhisker                               -1.897447e-15  \n",
       "lowerwhisker                                2.738435e-15  \n",
       "Logged GDP per capita                       1.434726e-15  \n",
       "Social support                              2.757347e-15  \n",
       "Healthy life expectancy                    -5.890844e-15  \n",
       "Freedom to make life choices               -9.230068e-16  \n",
       "Generosity                                 -2.158034e-17  \n",
       "Perceptions of corruption                   6.095487e-17  \n",
       "Ladder score in Dystopia                    1.000000e+00  "
      ]
     },
     "execution_count": 16,
     "metadata": {},
     "output_type": "execute_result"
    }
   ],
   "source": [
    "#여러 변수 간의 correlation matrix\n",
    "data.corr()"
   ]
  },
  {
   "cell_type": "code",
   "execution_count": 17,
   "metadata": {},
   "outputs": [
    {
     "data": {
      "image/png": "[encoded data removed]",
      "text/plain": [
       "<Figure size 504x504 with 2 Axes>"
      ]
     },
     "metadata": {
      "needs_background": "light"
     },
     "output_type": "display_data"
    }
   ],
   "source": [
    "#여러 변수간의 correlation matrix을 시각화한 heat map\n",
    "plt.figure(figsize=(7,7))\n",
    "sns.heatmap(data = data.corr(), square = True, annot = True, cbar=True)\n",
    "plt.show()"
   ]
  },
  {
   "cell_type": "markdown",
   "metadata": {},
   "source": [
    "- 행복지수와 관련있는 지표들로 여러가지가 있는데 그 중 1인당 GDP, social support, Healthy life expectancy 와의 상관관계가 큰 것으로 보인다.\n",
    "- 이 세 요소들은 서로 간에도 상관관계가 크게 나타난다"
   ]
  },
  {
   "cell_type": "markdown",
   "metadata": {},
   "source": [
    "### 결론"
   ]
  },
  {
   "cell_type": "markdown",
   "metadata": {},
   "source": [
    "- 수치자료로만 보았을 때는 outlier가 딱히 없어보여도 시각화를 통해 outlier를 찾아낼 수 있었기 때문에 위치추정값으로만 보기보다 boxplot이나 히스토그램으로 시각화하는 것이 더욱 적합했다.\n",
    "- 그 중에서도 social support는 특히 히스토그램으로 나타내는 것이 가장 적절했다. boxplot에서는 outlier의 양이 한눈에 들어오지않는데 히스토그램으로 이를 나타낼 수 있었다.\n",
    "- 세계 각 나라의 행복지수와 행복지수와 관련된 피쳐들의 상관관계를 알아보았을 때 1인당 GDP와 사회적 지원, 건강한 기대수명과 관련이 높다는 것을 알 수 있었다.\n",
    "- Freedom to make life choices의 경우 행복지수와 상관관계가 0.59로 생각했던것 보다 낮았다. 이와 관련하여 예상치 못했는데 상관관계가 높은 피쳐와 높을것이라고 생각했는데 상관관계가 낮은 피쳐들을 더 알아보면 좋을 것 같다"
   ]
  },
  {
   "cell_type": "code",
   "execution_count": null,
   "metadata": {},
   "outputs": [],
   "source": []
  }
 ],
 "metadata": {
  "kernelspec": {
   "display_name": "Python 3",
   "language": "python",
   "name": "python3"
  },
  "language_info": {
   "codemirror_mode": {
    "name": "ipython",
    "version": 3
   },
   "file_extension": ".py",
   "mimetype": "text/x-python",
   "name": "python",
   "nbconvert_exporter": "python",
   "pygments_lexer": "ipython3",
   "version": "3.8.3"
  }
 },
 "nbformat": 4,
 "nbformat_minor": 4
}
