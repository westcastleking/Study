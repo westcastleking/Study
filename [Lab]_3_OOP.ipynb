{
 "cells": [
  {
   "cell_type": "markdown",
   "metadata": {},
   "source": [
    "# Object oriented programming"
   ]
  },
  {
   "cell_type": "markdown",
   "metadata": {},
   "source": [
    "#### Defining a class"
   ]
  },
  {
   "cell_type": "code",
   "execution_count": 2,
   "metadata": {},
   "outputs": [],
   "source": [
    "class Student():\n",
    "    \"\"\"We can create a simple empty class.\n",
    "    \n",
    "    This is a set of rules that says what a student is.\n",
    "    \"\"\""
   ]
  },
  {
   "cell_type": "code",
   "execution_count": 3,
   "metadata": {
    "scrolled": true
   },
   "outputs": [
    {
     "data": {
      "text/plain": [
       "<__main__.Student at 0x2caa5a78790>"
      ]
     },
     "execution_count": 3,
     "metadata": {},
     "output_type": "execute_result"
    }
   ],
   "source": [
    "vince = Student()  # Creating an instance\n",
    "vince"
   ]
  },
  {
   "cell_type": "code",
   "execution_count": 4,
   "metadata": {},
   "outputs": [
    {
     "data": {
      "text/plain": [
       "<__main__.Student at 0x2caa5a782e0>"
      ]
     },
     "execution_count": 4,
     "metadata": {},
     "output_type": "execute_result"
    }
   ],
   "source": [
    "zoe = Student()  # Creating a different instance\n",
    "zoe"
   ]
  },
  {
   "cell_type": "markdown",
   "metadata": {},
   "source": [
    "#### Attributes"
   ]
  },
  {
   "cell_type": "code",
   "execution_count": 16,
   "metadata": {},
   "outputs": [],
   "source": [
    "class Student():\n",
    "    courses = [\"Biology\", \"Mathematics\", \"English\"]\n",
    "    age = 5\n",
    "    gender = \"Male\"\n",
    "#Let us now create Vince again:\n",
    "vince = Student()"
   ]
  },
  {
   "cell_type": "code",
   "execution_count": 17,
   "metadata": {},
   "outputs": [
    {
     "data": {
      "text/plain": [
       "['Biology', 'Mathematics', 'English']"
      ]
     },
     "execution_count": 17,
     "metadata": {},
     "output_type": "execute_result"
    }
   ],
   "source": [
    "vince.courses"
   ]
  },
  {
   "cell_type": "code",
   "execution_count": 18,
   "metadata": {},
   "outputs": [
    {
     "data": {
      "text/plain": [
       "5"
      ]
     },
     "execution_count": 18,
     "metadata": {},
     "output_type": "execute_result"
    }
   ],
   "source": [
    "vince.age"
   ]
  },
  {
   "cell_type": "code",
   "execution_count": 19,
   "metadata": {},
   "outputs": [
    {
     "data": {
      "text/plain": [
       "'Male'"
      ]
     },
     "execution_count": 19,
     "metadata": {},
     "output_type": "execute_result"
    }
   ],
   "source": [
    "vince.gender"
   ]
  },
  {
   "cell_type": "code",
   "execution_count": 20,
   "metadata": {},
   "outputs": [
    {
     "data": {
      "text/plain": [
       "['Biology', 'Mathematics', 'English', 'Photography']"
      ]
     },
     "execution_count": 20,
     "metadata": {},
     "output_type": "execute_result"
    }
   ],
   "source": [
    "vince.courses.append(\"Photography\")\n",
    "vince.courses"
   ]
  },
  {
   "cell_type": "code",
   "execution_count": 21,
   "metadata": {},
   "outputs": [
    {
     "data": {
      "text/plain": [
       "28"
      ]
     },
     "execution_count": 21,
     "metadata": {},
     "output_type": "execute_result"
    }
   ],
   "source": [
    "vince.age = 28\n",
    "vince.age"
   ]
  },
  {
   "cell_type": "code",
   "execution_count": 22,
   "metadata": {},
   "outputs": [
    {
     "data": {
      "text/plain": [
       "'M'"
      ]
     },
     "execution_count": 22,
     "metadata": {},
     "output_type": "execute_result"
    }
   ],
   "source": [
    "vince.gender = \"M\"\n",
    "vince.gender"
   ]
  },
  {
   "cell_type": "markdown",
   "metadata": {},
   "source": [
    "#### Method"
   ]
  },
  {
   "cell_type": "code",
   "execution_count": 1,
   "metadata": {},
   "outputs": [],
   "source": [
    "class Student():\n",
    "    courses = [\"Biology\", \"Mathematics\", \"English\"]\n",
    "    age = 5\n",
    "    sex = \"Male\"\n",
    "\n",
    "    def have_a_birthday(self):\n",
    "        \"\"\"This method increments the age of our instance.\"\"\"\n",
    "        self.age += 1"
   ]
  },
  {
   "cell_type": "code",
   "execution_count": 2,
   "metadata": {},
   "outputs": [
    {
     "data": {
      "text/plain": [
       "5"
      ]
     },
     "execution_count": 2,
     "metadata": {},
     "output_type": "execute_result"
    }
   ],
   "source": [
    "vince = Student()\n",
    "vince.age"
   ]
  },
  {
   "cell_type": "code",
   "execution_count": 3,
   "metadata": {},
   "outputs": [
    {
     "data": {
      "text/plain": [
       "5"
      ]
     },
     "execution_count": 3,
     "metadata": {},
     "output_type": "execute_result"
    }
   ],
   "source": [
    "yujin = Student()\n",
    "yujin.age"
   ]
  },
  {
   "cell_type": "code",
   "execution_count": 4,
   "metadata": {},
   "outputs": [
    {
     "data": {
      "text/plain": [
       "6"
      ]
     },
     "execution_count": 4,
     "metadata": {},
     "output_type": "execute_result"
    }
   ],
   "source": [
    "vince.have_a_birthday()\n",
    "vince.age"
   ]
  },
  {
   "cell_type": "markdown",
   "metadata": {},
   "source": [
    "#### The \\_\\_init__ method"
   ]
  },
  {
   "cell_type": "code",
   "execution_count": 28,
   "metadata": {},
   "outputs": [],
   "source": [
    "class Student():\n",
    "    def __init__(self, courses, age, sex):\n",
    "        \"\"\"\n",
    "        What the class should do when it \n",
    "        is used to create an instance\n",
    "        \"\"\"\n",
    "        self.courses = courses\n",
    "        self.age = age\n",
    "        self.sex = sex\n",
    "\n",
    "    def have_a_birthday(self):\n",
    "        self.age += 1"
   ]
  },
  {
   "cell_type": "code",
   "execution_count": 29,
   "metadata": {},
   "outputs": [
    {
     "data": {
      "text/plain": [
       "(['Biology', 'Math'], 28, 'Male')"
      ]
     },
     "execution_count": 29,
     "metadata": {},
     "output_type": "execute_result"
    }
   ],
   "source": [
    "vince = Student([\"Biology\",\"Math\"],28,\"Male\")\n",
    "vince.courses, vince.age, vince.sex"
   ]
  },
  {
   "cell_type": "markdown",
   "metadata": {},
   "source": [
    "#### The \\_\\_str__ method"
   ]
  },
  {
   "cell_type": "code",
   "execution_count": 15,
   "metadata": {},
   "outputs": [],
   "source": [
    "class Student():\n",
    "    def __init__(self, courses, age, sex):\n",
    "        \"\"\"\n",
    "        What the class should do when it \n",
    "        is used to create an instance\n",
    "        \"\"\"\n",
    "        self.courses = courses\n",
    "        self.age = age - 1\n",
    "        self.sex = sex\n",
    "\n",
    "    def __str__(self):\n",
    "        \"\"\" Returns a string representation of self \"\"\"\n",
    "        #return f\"course:{self.courses}, age:{self.age}, sex:{self.sex}\"\n",
    "        #return \"course:\"+ str(self.courses) + \"\\tage:\" + str(self.age)+ \"\\tsex:\" + str(self.sex)\n",
    "        return 'course:'+str(self.courses)+'\\tage:'+str(self.age)+'\\tsex:'+str(self.sex)\n",
    "    \n",
    "    def have_a_birthday(self):\n",
    "        self.age += 1"
   ]
  },
  {
   "cell_type": "code",
   "execution_count": 16,
   "metadata": {},
   "outputs": [
    {
     "name": "stdout",
     "output_type": "stream",
     "text": [
      "course:['LinearAlgebra', 'Programming']\tage:19\tsex:Female\n"
     ]
    }
   ],
   "source": [
    "jiwoo = Student([\"LinearAlgebra\",\"Programming\"],20,\"Female\")\n",
    "jiwoo. courses, jiwoo.age, jiwoo.sex\n",
    "print(jiwoo)"
   ]
  },
  {
   "cell_type": "code",
   "execution_count": 17,
   "metadata": {},
   "outputs": [
    {
     "data": {
      "text/plain": [
       "(['LinearAlgebra', 'Programming'], 19, 'Female')"
      ]
     },
     "execution_count": 17,
     "metadata": {},
     "output_type": "execute_result"
    }
   ],
   "source": [
    "jiwoo.age=19\n",
    "jiwoo.courses, jiwoo.age, jiwoo.sex"
   ]
  },
  {
   "cell_type": "code",
   "execution_count": 18,
   "metadata": {},
   "outputs": [
    {
     "name": "stdout",
     "output_type": "stream",
     "text": [
      "course:['LinearAlgebra', 'Programming']\tage:20\tsex:Female\n"
     ]
    }
   ],
   "source": [
    "jiwoo.have_a_birthday()\n",
    "print(jiwoo)"
   ]
  },
  {
   "cell_type": "code",
   "execution_count": 19,
   "metadata": {},
   "outputs": [
    {
     "name": "stdout",
     "output_type": "stream",
     "text": [
      "course:['Biology', 'Programming']\tage:19\tsex:Male\n"
     ]
    }
   ],
   "source": [
    "dohyeong = Student([\"Biology\",\"Programming\"],20,\"Male\")\n",
    "print(dohyeong)"
   ]
  },
  {
   "cell_type": "markdown",
   "metadata": {},
   "source": [
    "# Quiz"
   ]
  },
  {
   "cell_type": "markdown",
   "metadata": {},
   "source": [
    "### [Quiz 1] coordinate class\n",
    "- Fill the \\_\\_str__\n",
    "- Fill the distance with euclidean distance"
   ]
  },
  {
   "cell_type": "code",
   "execution_count": 38,
   "metadata": {},
   "outputs": [],
   "source": [
    "#################\n",
    "## EXAMPLE: simple Coordinate class\n",
    "#################\n",
    "\n",
    "class Coordinate(object):\n",
    "    \"\"\" A coordinate made up of an x and y value \"\"\"\n",
    "    def __init__(self, x, y):\n",
    "        \"\"\" Sets the x and y values \"\"\"\n",
    "        self.x = x\n",
    "        self.y = y\n",
    "    def __str__(self):\n",
    "        \"\"\" Returns a string representation of self \"\"\"\n",
    "        \"\"\" example) My Print <3,4> \"\"\"\n",
    "        return 'My Print <'+str(self.x)+'.'+str(self.y)+'>'\n",
    "        \n",
    "        \n",
    "        \n",
    "    def distance(self, other):\n",
    "        \"\"\" Returns the euclidean distance between two points \"\"\"\n",
    "        diff_x =(self.x-other.x)**2\n",
    "        diff_y =(self.y-other.y)**2\n",
    "        result= ((diff_x)+(diff_y))**(1/2)\n",
    "        return result\n",
    "\n",
    "        \n",
    "        \n",
    "        "
   ]
  },
  {
   "cell_type": "code",
   "execution_count": 39,
   "metadata": {},
   "outputs": [
    {
     "name": "stdout",
     "output_type": "stream",
     "text": [
      "3 0\n",
      "5.0\n",
      "5.0\n",
      "5.0\n",
      "My Print <3.4>\n",
      "My Print <0.0>\n"
     ]
    }
   ],
   "source": [
    "c = Coordinate(3,4)\n",
    "origin = Coordinate(0,0)\n",
    "print(c.x, origin.x)\n",
    "print(c.distance(origin))\n",
    "print(Coordinate.distance(c, origin))\n",
    "print(origin.distance(c))\n",
    "print(c)\n",
    "print(origin)"
   ]
  },
  {
   "cell_type": "code",
   "execution_count": null,
   "metadata": {},
   "outputs": [],
   "source": []
  },
  {
   "cell_type": "markdown",
   "metadata": {},
   "source": [
    "### [Quiz 2] fraction class\n",
    "- Fill the \\_\\_add__\n",
    "- Fill the \\_\\_sub__\n",
    "- Fill the \\_\\_float__\n",
    "- Fill the inverse"
   ]
  },
  {
   "cell_type": "code",
   "execution_count": 45,
   "metadata": {},
   "outputs": [],
   "source": [
    "#################\n",
    "## EXAMPLE: simple class to represent fractions\n",
    "## Try adding more built-in operations like multiply, divide\n",
    "#################\n",
    "class Fraction(object):\n",
    "    \"\"\"\n",
    "    A number represented as a fraction\n",
    "    \"\"\"\n",
    "    def __init__(self, num, denom):\n",
    "        \"\"\" num and denom are integers \"\"\"\n",
    "        assert type(num) == int and type(denom) == int, \"ints not used\"\n",
    "        self.num = num\n",
    "        self.denom = denom\n",
    "    def __str__(self):\n",
    "        \"\"\" Returns a string representation of self \"\"\"\n",
    "        return str(self.num) + \"/\" + str(self.denom)\n",
    "    def __add__(self, other):\n",
    "        \"\"\" Returns a new Fraction representing the addition \"\"\"\n",
    "        final_num = self.num*other.denom + self.denom*other.num\n",
    "        final_denom = self.denom*other.denom\n",
    "        return Fraction(final_num,final_denom)\n",
    "    \n",
    "    def __sub__(self, other):\n",
    "        \"\"\" Returns a new Fraction representing the subtraction \"\"\"\n",
    "        final_num = self.num*other.denom-self.denom*other.num\n",
    "        final_denom = self.denom*other.denom       \n",
    "        return Fraction(final_num,final_denom)\n",
    "        \n",
    "        \n",
    "        \n",
    "    def __float__(self):\n",
    "        \"\"\" Returns a float value of the fraction \"\"\"\n",
    "        return self.num/self.denom\n",
    "        \n",
    "        \n",
    "        \n",
    "    def inverse(self):\n",
    "        \"\"\" Returns a new Fraction representing 1/self \"\"\"\n",
    "        return Fraction(self.denom,self.num)        \n",
    "        \n",
    "        "
   ]
  },
  {
   "cell_type": "code",
   "execution_count": 46,
   "metadata": {},
   "outputs": [
    {
     "name": "stdout",
     "output_type": "stream",
     "text": [
      "16/16\n",
      "1.0\n",
      "1.0\n",
      "1.3333333333333333\n"
     ]
    }
   ],
   "source": [
    "a = Fraction(1,4)\n",
    "b = Fraction(3,4)\n",
    "c = a + b # c is a Fraction object\n",
    "print(c)\n",
    "print(float(c))\n",
    "print(Fraction.__float__(c))\n",
    "print(float(b.inverse()))\n",
    "##c = Fraction(3.14, 2.7) # assertion error\n",
    "##print a*b # error, did not define how to multiply two Fraction objects\n"
   ]
  },
  {
   "cell_type": "code",
   "execution_count": null,
   "metadata": {},
   "outputs": [],
   "source": []
  },
  {
   "cell_type": "markdown",
   "metadata": {},
   "source": [
    "### [Quiz 3] a set of integer class\n",
    "- Fill the insert\n",
    "- Fill the member\n",
    "- Fill the remove\n",
    "- Fill the \\_\\_str__"
   ]
  },
  {
   "cell_type": "code",
   "execution_count": 13,
   "metadata": {},
   "outputs": [],
   "source": [
    "##############\n",
    "## EXAMPLE: a set of integers as class\n",
    "##############\n",
    "class intSet(object):\n",
    "    \"\"\"\n",
    "    An intSet is a set of integers\n",
    "    The value is represented by a list of ints, self.vals\n",
    "    Each int in the set occurs in self.vals exactly once\n",
    "    \"\"\"\n",
    "    def __init__(self):\n",
    "        \"\"\" Create an empty set of integers \"\"\"\n",
    "        self.vals = []\n",
    "\n",
    "    def insert(self, e):\n",
    "        \"\"\" Assumes e is an integer and inserts e into self \"\"\"\n",
    "        if not e in self.vals:\n",
    "            self.vals.append(e)\n",
    "        ## in 과 not in 은 boolean값을 출력함\n",
    "        \n",
    "    def member(self, e):\n",
    "        \"\"\" Assumes e is an integer\n",
    "        Returns True if e is in self, and False otherwise \"\"\"\n",
    "        return e in self.vals\n",
    "                \n",
    "        \n",
    "    def remove(self, e):\n",
    "        \"\"\" Assumes e is an integer and removes e from self\n",
    "        Raises ValueError if e is not in self \"\"\"\n",
    "        try:\n",
    "            self.vals.remove(e)        \n",
    "        \n",
    "        except:\n",
    "            raise ValueError(str(e) + ' not found')\n",
    "\n",
    "    def __str__(self):\n",
    "        \"\"\" Returns a string representation of self \"\"\"\n",
    "        \"\"\" example) {3,4,6}\"\"\"\n",
    "        self.vals.sort()\n",
    "        return '{'+','.join([str(e) for e in self.vals])+'}'       \n",
    "        \n"
   ]
  },
  {
   "cell_type": "code",
   "execution_count": 15,
   "metadata": {},
   "outputs": [
    {
     "name": "stdout",
     "output_type": "stream",
     "text": [
      "{}\n",
      "{3,4}\n",
      "True\n",
      "False\n",
      "{3,4,6}\n",
      "{3,4,6}\n",
      "None\n"
     ]
    }
   ],
   "source": [
    "s = intSet()\n",
    "print(s)\n",
    "s.insert(3)\n",
    "s.insert(4)\n",
    "s.insert(3)\n",
    "print(s)\n",
    "print(s.member(3))\n",
    "print(s.member(5))\n",
    "s.insert(6)\n",
    "print(s)\n",
    "print(s)\n",
    "print(s.remove(3))\n",
    "#print(s.remove(3))  # leads to an error\n"
   ]
  },
  {
   "cell_type": "code",
   "execution_count": null,
   "metadata": {},
   "outputs": [],
   "source": []
  }
 ],
 "metadata": {
  "kernelspec": {
   "display_name": "Python 3",
   "language": "python",
   "name": "python3"
  },
  "language_info": {
   "codemirror_mode": {
    "name": "ipython",
    "version": 3
   },
   "file_extension": ".py",
   "mimetype": "text/x-python",
   "name": "python",
   "nbconvert_exporter": "python",
   "pygments_lexer": "ipython3",
   "version": "3.8.3"
  }
 },
 "nbformat": 4,
 "nbformat_minor": 4
}
