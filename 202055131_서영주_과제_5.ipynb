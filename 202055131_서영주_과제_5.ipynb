{
 "cells": [
  {
   "cell_type": "markdown",
   "metadata": {},
   "source": [
    "# 과제5"
   ]
  },
  {
   "cell_type": "code",
   "execution_count": 77,
   "metadata": {},
   "outputs": [
    {
     "data": {
      "text/plain": [
       "'%.3f'"
      ]
     },
     "execution_count": 77,
     "metadata": {},
     "output_type": "execute_result"
    }
   ],
   "source": [
    "import numpy as np\n",
    "import scipy as sp\n",
    "import scipy.stats as stats\n",
    "import pandas as pd\n",
    "from pandas import Series, DataFrame\n",
    "import random\n",
    "\n",
    "#시각화 라이브러리\n",
    "import matplotlib.pyplot as plt\n",
    "import matplotlib as mpl\n",
    "import seaborn as sns\n",
    "%matplotlib inline\n",
    "\n",
    "\n",
    "from sklearn.datasets import load_breast_cancer\n",
    "from sklearn.model_selection import train_test_split\n",
    "from sklearn.naive_bayes import GaussianNB\n",
    "import scikitplot as skplt\n",
    "import statsmodels.formula.api as smf\n",
    "import statsmodels.api as sm\n",
    "import sklearn.metrics as skl\n",
    "import sklearn.model_selection as sklm\n",
    "import sklearn.discriminant_analysis as sk\n",
    "from sklearn.metrics import classification_report, confusion_matrix,precision_score, recall_score, f1_score\n",
    "from sklearn.linear_model import LogisticRegression\n",
    "from imblearn.over_sampling import RandomOverSampler\n",
    "import kds\n",
    "\n",
    "#소수점 3자리까지 표시\n",
    "%precision 3"
   ]
  },
  {
   "cell_type": "code",
   "execution_count": 2,
   "metadata": {},
   "outputs": [
    {
     "data": {
      "text/html": [
       "<div>\n",
       "<style scoped>\n",
       "    .dataframe tbody tr th:only-of-type {\n",
       "        vertical-align: middle;\n",
       "    }\n",
       "\n",
       "    .dataframe tbody tr th {\n",
       "        vertical-align: top;\n",
       "    }\n",
       "\n",
       "    .dataframe thead th {\n",
       "        text-align: right;\n",
       "    }\n",
       "</style>\n",
       "<table border=\"1\" class=\"dataframe\">\n",
       "  <thead>\n",
       "    <tr style=\"text-align: right;\">\n",
       "      <th></th>\n",
       "      <th>outcome</th>\n",
       "      <th>purpose_</th>\n",
       "      <th>dti</th>\n",
       "      <th>borrower_score</th>\n",
       "      <th>payment_inc_ratio</th>\n",
       "    </tr>\n",
       "  </thead>\n",
       "  <tbody>\n",
       "    <tr>\n",
       "      <th>0</th>\n",
       "      <td>paid off</td>\n",
       "      <td>debt_consolidation</td>\n",
       "      <td>21.23</td>\n",
       "      <td>0.40</td>\n",
       "      <td>5.11135</td>\n",
       "    </tr>\n",
       "    <tr>\n",
       "      <th>1</th>\n",
       "      <td>default</td>\n",
       "      <td>credit_card</td>\n",
       "      <td>15.49</td>\n",
       "      <td>0.40</td>\n",
       "      <td>5.43165</td>\n",
       "    </tr>\n",
       "    <tr>\n",
       "      <th>2</th>\n",
       "      <td>paid off</td>\n",
       "      <td>debt_consolidation</td>\n",
       "      <td>27.30</td>\n",
       "      <td>0.70</td>\n",
       "      <td>9.23003</td>\n",
       "    </tr>\n",
       "    <tr>\n",
       "      <th>3</th>\n",
       "      <td>paid off</td>\n",
       "      <td>major_purchase</td>\n",
       "      <td>21.11</td>\n",
       "      <td>0.40</td>\n",
       "      <td>2.33482</td>\n",
       "    </tr>\n",
       "    <tr>\n",
       "      <th>4</th>\n",
       "      <td>default</td>\n",
       "      <td>debt_consolidation</td>\n",
       "      <td>16.46</td>\n",
       "      <td>0.45</td>\n",
       "      <td>12.10320</td>\n",
       "    </tr>\n",
       "    <tr>\n",
       "      <th>...</th>\n",
       "      <td>...</td>\n",
       "      <td>...</td>\n",
       "      <td>...</td>\n",
       "      <td>...</td>\n",
       "      <td>...</td>\n",
       "    </tr>\n",
       "    <tr>\n",
       "      <th>2995</th>\n",
       "      <td>paid off</td>\n",
       "      <td>debt_consolidation</td>\n",
       "      <td>13.30</td>\n",
       "      <td>0.50</td>\n",
       "      <td>18.36620</td>\n",
       "    </tr>\n",
       "    <tr>\n",
       "      <th>2996</th>\n",
       "      <td>paid off</td>\n",
       "      <td>other</td>\n",
       "      <td>6.09</td>\n",
       "      <td>0.60</td>\n",
       "      <td>1.80421</td>\n",
       "    </tr>\n",
       "    <tr>\n",
       "      <th>2997</th>\n",
       "      <td>default</td>\n",
       "      <td>debt_consolidation</td>\n",
       "      <td>16.13</td>\n",
       "      <td>0.20</td>\n",
       "      <td>15.42180</td>\n",
       "    </tr>\n",
       "    <tr>\n",
       "      <th>2998</th>\n",
       "      <td>default</td>\n",
       "      <td>debt_consolidation</td>\n",
       "      <td>18.39</td>\n",
       "      <td>0.45</td>\n",
       "      <td>8.92335</td>\n",
       "    </tr>\n",
       "    <tr>\n",
       "      <th>2999</th>\n",
       "      <td>default</td>\n",
       "      <td>credit_card</td>\n",
       "      <td>26.67</td>\n",
       "      <td>0.40</td>\n",
       "      <td>12.88190</td>\n",
       "    </tr>\n",
       "  </tbody>\n",
       "</table>\n",
       "<p>3000 rows × 5 columns</p>\n",
       "</div>"
      ],
      "text/plain": [
       "       outcome            purpose_    dti  borrower_score  payment_inc_ratio\n",
       "0     paid off  debt_consolidation  21.23            0.40            5.11135\n",
       "1      default         credit_card  15.49            0.40            5.43165\n",
       "2     paid off  debt_consolidation  27.30            0.70            9.23003\n",
       "3     paid off      major_purchase  21.11            0.40            2.33482\n",
       "4      default  debt_consolidation  16.46            0.45           12.10320\n",
       "...        ...                 ...    ...             ...                ...\n",
       "2995  paid off  debt_consolidation  13.30            0.50           18.36620\n",
       "2996  paid off               other   6.09            0.60            1.80421\n",
       "2997   default  debt_consolidation  16.13            0.20           15.42180\n",
       "2998   default  debt_consolidation  18.39            0.45            8.92335\n",
       "2999   default         credit_card  26.67            0.40           12.88190\n",
       "\n",
       "[3000 rows x 5 columns]"
      ]
     },
     "execution_count": 2,
     "metadata": {},
     "output_type": "execute_result"
    }
   ],
   "source": [
    "#데이터 불러오기\n",
    "data = pd.read_csv('loan3000.csv').iloc[:,1:]\n",
    "data"
   ]
  },
  {
   "cell_type": "markdown",
   "metadata": {},
   "source": [
    "## 1) 수치형 독립변수에 대한 공분산 행렬과 상관계수 행렬"
   ]
  },
  {
   "cell_type": "markdown",
   "metadata": {},
   "source": [
    "### 변수 간 공분산 행렬"
   ]
  },
  {
   "cell_type": "code",
   "execution_count": 3,
   "metadata": {},
   "outputs": [
    {
     "data": {
      "text/plain": [
       "array([[57.622, 57.622],\n",
       "       [57.622, 57.622]])"
      ]
     },
     "execution_count": 3,
     "metadata": {},
     "output_type": "execute_result"
    }
   ],
   "source": [
    "# dti와 dti의 공분산\n",
    "np.cov(data['dti'],data['dti'])"
   ]
  },
  {
   "cell_type": "code",
   "execution_count": 4,
   "metadata": {},
   "outputs": [
    {
     "data": {
      "text/plain": [
       "57.602"
      ]
     },
     "execution_count": 4,
     "metadata": {},
     "output_type": "execute_result"
    }
   ],
   "source": [
    "# dti의 분산\n",
    "np.var(data['dti'])\n",
    "# -> dti와 dti의 공분산값과 같음을 확인할 수 있음"
   ]
  },
  {
   "cell_type": "code",
   "execution_count": 5,
   "metadata": {},
   "outputs": [
    {
     "data": {
      "text/plain": [
       "array([[0.016, 0.016],\n",
       "       [0.016, 0.016]])"
      ]
     },
     "execution_count": 5,
     "metadata": {},
     "output_type": "execute_result"
    }
   ],
   "source": [
    "# borrower_score와 borrower_score의 공분산\n",
    "np.cov(data['borrower_score'],data['borrower_score'])"
   ]
  },
  {
   "cell_type": "code",
   "execution_count": 6,
   "metadata": {},
   "outputs": [
    {
     "data": {
      "text/plain": [
       "0.016"
      ]
     },
     "execution_count": 6,
     "metadata": {},
     "output_type": "execute_result"
    }
   ],
   "source": [
    "# borrower_score의 분산\n",
    "np.var(data['borrower_score'])"
   ]
  },
  {
   "cell_type": "code",
   "execution_count": 7,
   "metadata": {},
   "outputs": [
    {
     "data": {
      "text/plain": [
       "array([[18.458, 18.458],\n",
       "       [18.458, 18.458]])"
      ]
     },
     "execution_count": 7,
     "metadata": {},
     "output_type": "execute_result"
    }
   ],
   "source": [
    "# payment_inc_ratio와 payment_inc_ratio의 공분산\n",
    "np.cov(data['payment_inc_ratio'],data['payment_inc_ratio'])"
   ]
  },
  {
   "cell_type": "code",
   "execution_count": 8,
   "metadata": {},
   "outputs": [
    {
     "data": {
      "text/plain": [
       "18.452"
      ]
     },
     "execution_count": 8,
     "metadata": {},
     "output_type": "execute_result"
    }
   ],
   "source": [
    "# payment_inc_ratio의 분산\n",
    "np.var(data['payment_inc_ratio'])"
   ]
  },
  {
   "cell_type": "markdown",
   "metadata": {},
   "source": [
    "#### ------------------------------------------------------------------------------------------------------------------------------------------------------------"
   ]
  },
  {
   "cell_type": "code",
   "execution_count": 9,
   "metadata": {},
   "outputs": [
    {
     "data": {
      "text/plain": [
       "array([[ 5.762e+01, -2.521e-01],\n",
       "       [-2.521e-01,  1.646e-02]])"
      ]
     },
     "execution_count": 9,
     "metadata": {},
     "output_type": "execute_result"
    }
   ],
   "source": [
    "# dti와 borrower_score의 공분산행렬\n",
    "np.cov(data['dti'],data['borrower_score'])"
   ]
  },
  {
   "cell_type": "code",
   "execution_count": 10,
   "metadata": {},
   "outputs": [
    {
     "data": {
      "text/plain": [
       "array([[57.622,  7.598],\n",
       "       [ 7.598, 18.458]])"
      ]
     },
     "execution_count": 10,
     "metadata": {},
     "output_type": "execute_result"
    }
   ],
   "source": [
    "# dti와 payment_inc_ratio의 공분산행렬\n",
    "np.cov(data['dti'],data['payment_inc_ratio'])"
   ]
  },
  {
   "cell_type": "code",
   "execution_count": 11,
   "metadata": {},
   "outputs": [
    {
     "data": {
      "text/plain": [
       "array([[ 1.646e-02, -6.040e-02],\n",
       "       [-6.040e-02,  1.846e+01]])"
      ]
     },
     "execution_count": 11,
     "metadata": {},
     "output_type": "execute_result"
    }
   ],
   "source": [
    "# borrower_score와 payment_inc_ratio의 공분산행렬\n",
    "np.cov(data['borrower_score'],data['payment_inc_ratio'])"
   ]
  },
  {
   "cell_type": "markdown",
   "metadata": {},
   "source": [
    "### 변수 간 상관계수 행렬"
   ]
  },
  {
   "cell_type": "markdown",
   "metadata": {},
   "source": [
    "- 같은 변수끼리의 상관계수는 1이므로 생략"
   ]
  },
  {
   "cell_type": "code",
   "execution_count": 12,
   "metadata": {},
   "outputs": [
    {
     "data": {
      "text/plain": [
       "array([[ 1.   , -0.259],\n",
       "       [-0.259,  1.   ]])"
      ]
     },
     "execution_count": 12,
     "metadata": {},
     "output_type": "execute_result"
    }
   ],
   "source": [
    "# dti와 borrower_score의 상관계수행렬\n",
    "np.corrcoef(data['dti'],data['borrower_score'])"
   ]
  },
  {
   "cell_type": "code",
   "execution_count": 13,
   "metadata": {},
   "outputs": [
    {
     "data": {
      "text/plain": [
       "array([[1.   , 0.233],\n",
       "       [0.233, 1.   ]])"
      ]
     },
     "execution_count": 13,
     "metadata": {},
     "output_type": "execute_result"
    }
   ],
   "source": [
    "# dti와 payment_inc_ratio의 상관계수행렬\n",
    "np.corrcoef(data['dti'],data['payment_inc_ratio'])"
   ]
  },
  {
   "cell_type": "code",
   "execution_count": 14,
   "metadata": {},
   "outputs": [
    {
     "data": {
      "text/plain": [
       "array([[ 1.  , -0.11],\n",
       "       [-0.11,  1.  ]])"
      ]
     },
     "execution_count": 14,
     "metadata": {},
     "output_type": "execute_result"
    }
   ],
   "source": [
    "# borrower_score와 payment_inc_ratio의 상관계수행렬\n",
    "np.corrcoef(data['borrower_score'],data['payment_inc_ratio'])"
   ]
  },
  {
   "cell_type": "code",
   "execution_count": 15,
   "metadata": {},
   "outputs": [
    {
     "data": {
      "image/png": "[encoded data removed]",
      "text/plain": [
       "<Figure size 504x504 with 2 Axes>"
      ]
     },
     "metadata": {
      "needs_background": "light"
     },
     "output_type": "display_data"
    }
   ],
   "source": [
    "# 상관계수 시각화\n",
    "plt.figure(figsize=(7,7))\n",
    "sns.heatmap(data = data.corr(), square = True, annot = True, cbar=True)\n",
    "plt.show()"
   ]
  },
  {
   "cell_type": "markdown",
   "metadata": {},
   "source": [
    "## 2) 피셔의 선형판별을 이용한 분류 모델 구축"
   ]
  },
  {
   "cell_type": "markdown",
   "metadata": {},
   "source": [
    "### x(dit), z(borrower_score)의 가중치 찾기"
   ]
  },
  {
   "cell_type": "code",
   "execution_count": 16,
   "metadata": {},
   "outputs": [
    {
     "data": {
      "text/html": [
       "<div>\n",
       "<style scoped>\n",
       "    .dataframe tbody tr th:only-of-type {\n",
       "        vertical-align: middle;\n",
       "    }\n",
       "\n",
       "    .dataframe tbody tr th {\n",
       "        vertical-align: top;\n",
       "    }\n",
       "\n",
       "    .dataframe thead th {\n",
       "        text-align: right;\n",
       "    }\n",
       "</style>\n",
       "<table border=\"1\" class=\"dataframe\">\n",
       "  <thead>\n",
       "    <tr style=\"text-align: right;\">\n",
       "      <th></th>\n",
       "      <th>0</th>\n",
       "    </tr>\n",
       "  </thead>\n",
       "  <tbody>\n",
       "    <tr>\n",
       "      <th>dti</th>\n",
       "      <td>-0.036708</td>\n",
       "    </tr>\n",
       "    <tr>\n",
       "      <th>borrower_score</th>\n",
       "      <td>7.353988</td>\n",
       "    </tr>\n",
       "  </tbody>\n",
       "</table>\n",
       "</div>"
      ],
      "text/plain": [
       "                       0\n",
       "dti            -0.036708\n",
       "borrower_score  7.353988"
      ]
     },
     "execution_count": 16,
     "metadata": {},
     "output_type": "execute_result"
    }
   ],
   "source": [
    "predictors = ['dti','borrower_score']\n",
    "outcome = 'outcome'\n",
    "\n",
    "x = data[predictors]\n",
    "y = data[outcome]\n",
    "\n",
    "data_lda = sk.LinearDiscriminantAnalysis()\n",
    "data_lda.fit(x,y)\n",
    "pd.DataFrame(data_lda.scalings_, index = x.columns)"
   ]
  },
  {
   "cell_type": "markdown",
   "metadata": {},
   "source": [
    "- x의 가중치: -0.036708, z의 가중치:7.353988"
   ]
  },
  {
   "cell_type": "markdown",
   "metadata": {},
   "source": [
    "### 혼동행렬 구하기 "
   ]
  },
  {
   "cell_type": "code",
   "execution_count": 17,
   "metadata": {},
   "outputs": [
    {
     "data": {
      "text/html": [
       "<div>\n",
       "<style scoped>\n",
       "    .dataframe tbody tr th:only-of-type {\n",
       "        vertical-align: middle;\n",
       "    }\n",
       "\n",
       "    .dataframe tbody tr th {\n",
       "        vertical-align: top;\n",
       "    }\n",
       "\n",
       "    .dataframe thead th {\n",
       "        text-align: right;\n",
       "    }\n",
       "</style>\n",
       "<table border=\"1\" class=\"dataframe\">\n",
       "  <thead>\n",
       "    <tr style=\"text-align: right;\">\n",
       "      <th></th>\n",
       "      <th>pred = default(1)</th>\n",
       "      <th>pred = paid off(0)</th>\n",
       "    </tr>\n",
       "  </thead>\n",
       "  <tbody>\n",
       "    <tr>\n",
       "      <th>outcome = default(1)</th>\n",
       "      <td>836</td>\n",
       "      <td>609</td>\n",
       "    </tr>\n",
       "    <tr>\n",
       "      <th>outcome = paid off(0)</th>\n",
       "      <td>540</td>\n",
       "      <td>1015</td>\n",
       "    </tr>\n",
       "  </tbody>\n",
       "</table>\n",
       "</div>"
      ],
      "text/plain": [
       "                       pred = default(1)  pred = paid off(0)\n",
       "outcome = default(1)                 836                 609\n",
       "outcome = paid off(0)                540                1015"
      ]
     },
     "execution_count": 17,
     "metadata": {},
     "output_type": "execute_result"
    }
   ],
   "source": [
    "pred = data_lda.predict(x)\n",
    "pred_y = data_lda.predict(x) == 'default'\n",
    "true_y = y == 'default'\n",
    "true_pos = true_y&pred_y\n",
    "true_neg = ~true_y&~pred_y\n",
    "false_pos = ~true_y&pred_y\n",
    "false_neg = true_y&~pred_y\n",
    "\n",
    "conf_mat = pd.DataFrame([[np.sum(true_pos), np.sum(false_neg)],[np.sum(false_pos),np.sum(true_neg)]], index = ['outcome = default(1)','outcome = paid off(0)'], columns = ['pred = default(1)','pred = paid off(0)'])\n",
    "conf_mat"
   ]
  },
  {
   "cell_type": "code",
   "execution_count": 18,
   "metadata": {},
   "outputs": [
    {
     "data": {
      "text/plain": [
       "array([[ 836,  609],\n",
       "       [ 540, 1015]], dtype=int64)"
      ]
     },
     "execution_count": 18,
     "metadata": {},
     "output_type": "execute_result"
    }
   ],
   "source": [
    "conf_mat = confusion_matrix(y,data_lda.predict(x))\n",
    "conf_mat"
   ]
  },
  {
   "cell_type": "markdown",
   "metadata": {},
   "source": [
    "#### 1) 정확도Accuracy"
   ]
  },
  {
   "cell_type": "markdown",
   "metadata": {},
   "source": [
    "- (TP+TN)/total "
   ]
  },
  {
   "cell_type": "code",
   "execution_count": 19,
   "metadata": {},
   "outputs": [
    {
     "name": "stdout",
     "output_type": "stream",
     "text": [
      "정확도 : 0.617\n"
     ]
    }
   ],
   "source": [
    "print('정확도 :',(conf_mat[0,0]+conf_mat[1,1])/len(pred))"
   ]
  },
  {
   "cell_type": "markdown",
   "metadata": {},
   "source": [
    "#### 2) 민감도Sensitivty"
   ]
  },
  {
   "cell_type": "markdown",
   "metadata": {},
   "source": [
    "- TP/(TP+FN) "
   ]
  },
  {
   "cell_type": "code",
   "execution_count": 20,
   "metadata": {},
   "outputs": [
    {
     "name": "stdout",
     "output_type": "stream",
     "text": [
      "민감도 : 0.5785467128027681\n"
     ]
    }
   ],
   "source": [
    "print('민감도 :',conf_mat[0,0]/sum(conf_mat[0,:]) )"
   ]
  },
  {
   "cell_type": "markdown",
   "metadata": {},
   "source": [
    "#### 3) 특이도Specificity"
   ]
  },
  {
   "cell_type": "markdown",
   "metadata": {},
   "source": [
    "- TN/(TN+FP) "
   ]
  },
  {
   "cell_type": "code",
   "execution_count": 21,
   "metadata": {},
   "outputs": [
    {
     "name": "stdout",
     "output_type": "stream",
     "text": [
      "특이도 : 0.6527331189710611\n"
     ]
    }
   ],
   "source": [
    "print('특이도 :', conf_mat[1,1]/sum(conf_mat[1,:]))"
   ]
  },
  {
   "cell_type": "markdown",
   "metadata": {},
   "source": [
    "#### 4) 정밀도Precision"
   ]
  },
  {
   "cell_type": "markdown",
   "metadata": {},
   "source": [
    "- TP/(TP+FP) "
   ]
  },
  {
   "cell_type": "code",
   "execution_count": 22,
   "metadata": {},
   "outputs": [
    {
     "name": "stdout",
     "output_type": "stream",
     "text": [
      "정밀도 : 0.6075581395348837\n"
     ]
    }
   ],
   "source": [
    "print('정밀도 :', conf_mat[0,0]/sum(conf_mat[:,0]))"
   ]
  },
  {
   "cell_type": "markdown",
   "metadata": {},
   "source": [
    "## 3) 로지스틱 회귀를 이용한 분류 모델 구축"
   ]
  },
  {
   "cell_type": "code",
   "execution_count": 23,
   "metadata": {},
   "outputs": [
    {
     "data": {
      "text/plain": [
       "LogisticRegression(C=1e+42, solver='liblinear')"
      ]
     },
     "execution_count": 23,
     "metadata": {},
     "output_type": "execute_result"
    }
   ],
   "source": [
    "predictors2 = ['purpose_','dti','borrower_score','payment_inc_ratio']\n",
    "outcome2 = 'outcome'\n",
    "\n",
    "X = pd.get_dummies(data[predictors2],prefix = '', prefix_sep = '', drop_first = True)\n",
    "Y = data[outcome2]\n",
    "\n",
    "logit_reg = LogisticRegression(penalty = 'l2',C = 1e42, solver = 'liblinear')\n",
    "logit_reg.fit(X,Y)"
   ]
  },
  {
   "cell_type": "markdown",
   "metadata": {},
   "source": [
    "### 혼동행렬 구하기"
   ]
  },
  {
   "cell_type": "code",
   "execution_count": 24,
   "metadata": {},
   "outputs": [
    {
     "data": {
      "text/html": [
       "<div>\n",
       "<style scoped>\n",
       "    .dataframe tbody tr th:only-of-type {\n",
       "        vertical-align: middle;\n",
       "    }\n",
       "\n",
       "    .dataframe tbody tr th {\n",
       "        vertical-align: top;\n",
       "    }\n",
       "\n",
       "    .dataframe thead th {\n",
       "        text-align: right;\n",
       "    }\n",
       "</style>\n",
       "<table border=\"1\" class=\"dataframe\">\n",
       "  <thead>\n",
       "    <tr style=\"text-align: right;\">\n",
       "      <th></th>\n",
       "      <th>pred = default(1)</th>\n",
       "      <th>pred = paid off(0)</th>\n",
       "    </tr>\n",
       "  </thead>\n",
       "  <tbody>\n",
       "    <tr>\n",
       "      <th>outcome = default(1)</th>\n",
       "      <td>873</td>\n",
       "      <td>572</td>\n",
       "    </tr>\n",
       "    <tr>\n",
       "      <th>outcome = paid off(0)</th>\n",
       "      <td>516</td>\n",
       "      <td>1039</td>\n",
       "    </tr>\n",
       "  </tbody>\n",
       "</table>\n",
       "</div>"
      ],
      "text/plain": [
       "                       pred = default(1)  pred = paid off(0)\n",
       "outcome = default(1)                 873                 572\n",
       "outcome = paid off(0)                516                1039"
      ]
     },
     "execution_count": 24,
     "metadata": {},
     "output_type": "execute_result"
    }
   ],
   "source": [
    "pred2 = logit_reg.predict(X)\n",
    "pred_Y = logit_reg.predict(X) == 'default'\n",
    "true_Y = Y == 'default'\n",
    "true_pos2 = true_Y&pred_Y\n",
    "true_neg2 = ~true_Y&~pred_Y\n",
    "false_pos2 = ~true_Y&pred_Y\n",
    "false_neg2 = true_Y&~pred_Y\n",
    "\n",
    "conf_mat2 = pd.DataFrame([[np.sum(true_pos2), np.sum(false_neg2)],[np.sum(false_pos2),np.sum(true_neg2)]], index = ['outcome = default(1)','outcome = paid off(0)'], columns = ['pred = default(1)','pred = paid off(0)'])\n",
    "conf_mat2"
   ]
  },
  {
   "cell_type": "code",
   "execution_count": 25,
   "metadata": {},
   "outputs": [
    {
     "data": {
      "text/plain": [
       "array([[ 873,  572],\n",
       "       [ 516, 1039]], dtype=int64)"
      ]
     },
     "execution_count": 25,
     "metadata": {},
     "output_type": "execute_result"
    }
   ],
   "source": [
    "conf_mat2 = confusion_matrix(Y,logit_reg.predict(X))\n",
    "conf_mat2"
   ]
  },
  {
   "cell_type": "markdown",
   "metadata": {},
   "source": [
    "#### 1) 정확도Accuracy"
   ]
  },
  {
   "cell_type": "markdown",
   "metadata": {},
   "source": [
    "- (TP+TN)/total "
   ]
  },
  {
   "cell_type": "code",
   "execution_count": 26,
   "metadata": {},
   "outputs": [
    {
     "name": "stdout",
     "output_type": "stream",
     "text": [
      "정확도 : 0.6373333333333333\n"
     ]
    }
   ],
   "source": [
    "print('정확도 :',(conf_mat2[0,0]+conf_mat2[1,1])/len(pred2))"
   ]
  },
  {
   "cell_type": "markdown",
   "metadata": {},
   "source": [
    "#### 2) 민감도Sensitivty"
   ]
  },
  {
   "cell_type": "markdown",
   "metadata": {},
   "source": [
    "- TP/(TP+FN)"
   ]
  },
  {
   "cell_type": "code",
   "execution_count": 27,
   "metadata": {},
   "outputs": [
    {
     "name": "stdout",
     "output_type": "stream",
     "text": [
      "민감도 : 0.6041522491349481\n"
     ]
    }
   ],
   "source": [
    "print('민감도 :',conf_mat2[0,0]/sum(conf_mat2[0,:]) )"
   ]
  },
  {
   "cell_type": "markdown",
   "metadata": {},
   "source": [
    "#### 3) 특이도Specificity"
   ]
  },
  {
   "cell_type": "code",
   "execution_count": 28,
   "metadata": {},
   "outputs": [
    {
     "name": "stdout",
     "output_type": "stream",
     "text": [
      "특이도 : 0.6681672025723473\n"
     ]
    }
   ],
   "source": [
    "print('특이도 :', conf_mat2[1,1]/sum(conf_mat2[1,:]))"
   ]
  },
  {
   "cell_type": "markdown",
   "metadata": {},
   "source": [
    "#### 4) 정밀도Precision"
   ]
  },
  {
   "cell_type": "markdown",
   "metadata": {},
   "source": [
    "- TP/(TP+FP) "
   ]
  },
  {
   "cell_type": "code",
   "execution_count": 29,
   "metadata": {},
   "outputs": [
    {
     "name": "stdout",
     "output_type": "stream",
     "text": [
      "정밀도 : 0.6285097192224622\n"
     ]
    }
   ],
   "source": [
    "print('정밀도 :', conf_mat2[0,0]/sum(conf_mat2[:,0]))"
   ]
  },
  {
   "cell_type": "markdown",
   "metadata": {},
   "source": [
    "## 4) 예측 변수 구성을 다르게 바꾼 로지스틱 회귀모델, ROC 곡선, AUC(area under curve) 값"
   ]
  },
  {
   "cell_type": "markdown",
   "metadata": {},
   "source": [
    "### 예측 변수 구성을 다르게 한 회귀모델"
   ]
  },
  {
   "cell_type": "code",
   "execution_count": 37,
   "metadata": {},
   "outputs": [
    {
     "data": {
      "text/plain": [
       "LogisticRegression(C=1e+42, solver='liblinear')"
      ]
     },
     "execution_count": 37,
     "metadata": {},
     "output_type": "execute_result"
    }
   ],
   "source": [
    "predictors3 = ['purpose_','dti','borrower_score'] \n",
    "outcome = 'outcome'\n",
    "\n",
    "x1 = pd.get_dummies(data[predictors3],prefix = '', prefix_sep = '', drop_first = True)\n",
    "y1 = data[outcome]\n",
    "\n",
    "logit_reg1 = LogisticRegression(penalty = 'l2',C = 1e42, solver = 'liblinear')\n",
    "logit_reg1.fit(x1,y1)"
   ]
  },
  {
   "cell_type": "code",
   "execution_count": 38,
   "metadata": {},
   "outputs": [
    {
     "data": {
      "text/plain": [
       "LogisticRegression(C=1e+42, solver='liblinear')"
      ]
     },
     "execution_count": 38,
     "metadata": {},
     "output_type": "execute_result"
    }
   ],
   "source": [
    "predictors4 = ['purpose_','dti','payment_inc_ratio']\n",
    "\n",
    "x2 = pd.get_dummies(data[predictors4],prefix = '', prefix_sep = '', drop_first = True)\n",
    "y2 = data[outcome]\n",
    "\n",
    "logit_reg2 = LogisticRegression(penalty = 'l2',C = 1e42, solver = 'liblinear')\n",
    "logit_reg2.fit(x2,y2)"
   ]
  },
  {
   "cell_type": "code",
   "execution_count": 39,
   "metadata": {},
   "outputs": [
    {
     "data": {
      "text/plain": [
       "LogisticRegression(C=1e+42, solver='liblinear')"
      ]
     },
     "execution_count": 39,
     "metadata": {},
     "output_type": "execute_result"
    }
   ],
   "source": [
    "predictors5 = ['purpose_','borrower_score','payment_inc_ratio']\n",
    "\n",
    "x3 = pd.get_dummies(data[predictors5],prefix = '', prefix_sep = '', drop_first = True)\n",
    "y3 = data[outcome]\n",
    "\n",
    "logit_reg3 = LogisticRegression(penalty = 'l2',C = 1e42, solver = 'liblinear')\n",
    "logit_reg3.fit(x3,y3)"
   ]
  },
  {
   "cell_type": "markdown",
   "metadata": {},
   "source": [
    "### ROC곡선 그리기"
   ]
  },
  {
   "cell_type": "code",
   "execution_count": 42,
   "metadata": {},
   "outputs": [
    {
     "data": {
      "text/plain": [
       "<matplotlib.legend.Legend at 0x21b98cdcb50>"
      ]
     },
     "execution_count": 42,
     "metadata": {},
     "output_type": "execute_result"
    },
    {
     "data": {
      "image/png": "[encoded data removed]",
      "text/plain": [
       "<Figure size 576x576 with 1 Axes>"
      ]
     },
     "metadata": {
      "needs_background": "light"
     },
     "output_type": "display_data"
    }
   ],
   "source": [
    "#'purpose_','dti','borrower_score','payment_inc_ratio'\n",
    "fpr,tpr,thresholds = skl.roc_curve(Y,logit_reg.predict_proba(X)[:,0], pos_label = 'default')\n",
    "roc_df = pd.DataFrame({'recall':tpr,'specificity':1-fpr})\n",
    "#'purpose_','dti','borrower_score'\n",
    "fpr1,tpr1,thresholds1 = skl.roc_curve(y1,logit_reg1.predict_proba(x1)[:,0], pos_label = 'default')\n",
    "roc_df1 = pd.DataFrame({'recall':tpr1,'specificity':1-fpr1})\n",
    "#'purpose_','dti','payment_inc_ratio'\n",
    "fpr2,tpr2,thresholds2 = skl.roc_curve(y2,logit_reg2.predict_proba(x2)[:,0], pos_label = 'default')\n",
    "roc_df2 = pd.DataFrame({'recall':tpr2,'specificity':1-fpr2})\n",
    "#'purpose_','borrower_score','payment_inc_ratio'\n",
    "fpr3,tpr3,thresholds3 = skl.roc_curve(y3,logit_reg3.predict_proba(x3)[:,0], pos_label = 'default')\n",
    "roc_df3 = pd.DataFrame({'recall':tpr3,'specificity':1-fpr3})\n",
    "\n",
    "\n",
    "#ROC곡선 \n",
    "fig = plt.figure(figsize=(8,8))\n",
    "ax = fig.add_subplot()\n",
    "ax.plot(1-fpr,tpr,label = 'Y')\n",
    "ax.plot(1-fpr1,tpr1,label = 'y1')\n",
    "ax.plot(1-fpr2,tpr2,label = 'y2')\n",
    "ax.plot(1-fpr3,tpr3,label = 'y3')\n",
    "ax.set_ylim(0,1)\n",
    "ax.set_xlim(1,0)\n",
    "ax.plot((1,0),(0,1))\n",
    "ax.set_xlabel('specificity')\n",
    "ax.set_ylabel('recall')\n",
    "ax.legend()"
   ]
  },
  {
   "cell_type": "markdown",
   "metadata": {},
   "source": [
    "### AUC값"
   ]
  },
  {
   "cell_type": "code",
   "execution_count": 47,
   "metadata": {},
   "outputs": [
    {
     "name": "stdout",
     "output_type": "stream",
     "text": [
      "purpose_ + dti + borrower_score + payment_inc_ratio : 0.6978546712802769\n",
      "purpose_ + dti + borrower_score : 0.6837648393951868\n",
      "purpose_ + dti + payment_inc_ratio : 0.6348628711934935\n",
      "purpose_ + borrower_score + payment_inc_ratio : 0.6956016422078573\n"
     ]
    }
   ],
   "source": [
    "print('purpose_ + dti + borrower_score + payment_inc_ratio :',skl.roc_auc_score([1 if yi == 'default' else 0 for yi in Y], logit_reg.predict_proba(X)[:,0]))\n",
    "print('purpose_ + dti + borrower_score :',skl.roc_auc_score([1 if yi == 'default' else 0 for yi in y1], logit_reg1.predict_proba(x1)[:,0]))\n",
    "print('purpose_ + dti + payment_inc_ratio :',skl.roc_auc_score([1 if yi == 'default' else 0 for yi in y2], logit_reg2.predict_proba(x2)[:,0]))\n",
    "print('purpose_ + borrower_score + payment_inc_ratio :',skl.roc_auc_score([1 if yi == 'default' else 0 for yi in y3], logit_reg3.predict_proba(x3)[:,0]))"
   ]
  },
  {
   "cell_type": "markdown",
   "metadata": {},
   "source": [
    "# 5) 분류할 target variable이 0과 1인 레코드가 각각 몇 개인지 구하기 "
   ]
  },
  {
   "cell_type": "code",
   "execution_count": 49,
   "metadata": {},
   "outputs": [
    {
     "data": {
      "text/html": [
       "<div>\n",
       "<style scoped>\n",
       "    .dataframe tbody tr th:only-of-type {\n",
       "        vertical-align: middle;\n",
       "    }\n",
       "\n",
       "    .dataframe tbody tr th {\n",
       "        vertical-align: top;\n",
       "    }\n",
       "\n",
       "    .dataframe thead th {\n",
       "        text-align: right;\n",
       "    }\n",
       "</style>\n",
       "<table border=\"1\" class=\"dataframe\">\n",
       "  <thead>\n",
       "    <tr style=\"text-align: right;\">\n",
       "      <th></th>\n",
       "      <th>outcome</th>\n",
       "      <th>purpose_</th>\n",
       "      <th>dti</th>\n",
       "      <th>borrower_score</th>\n",
       "      <th>payment_inc_ratio</th>\n",
       "    </tr>\n",
       "  </thead>\n",
       "  <tbody>\n",
       "    <tr>\n",
       "      <th>1</th>\n",
       "      <td>default</td>\n",
       "      <td>credit_card</td>\n",
       "      <td>15.49</td>\n",
       "      <td>0.40</td>\n",
       "      <td>5.43165</td>\n",
       "    </tr>\n",
       "    <tr>\n",
       "      <th>4</th>\n",
       "      <td>default</td>\n",
       "      <td>debt_consolidation</td>\n",
       "      <td>16.46</td>\n",
       "      <td>0.45</td>\n",
       "      <td>12.10320</td>\n",
       "    </tr>\n",
       "    <tr>\n",
       "      <th>6</th>\n",
       "      <td>default</td>\n",
       "      <td>debt_consolidation</td>\n",
       "      <td>29.79</td>\n",
       "      <td>0.40</td>\n",
       "      <td>7.00390</td>\n",
       "    </tr>\n",
       "    <tr>\n",
       "      <th>10</th>\n",
       "      <td>default</td>\n",
       "      <td>other</td>\n",
       "      <td>11.42</td>\n",
       "      <td>0.40</td>\n",
       "      <td>1.82061</td>\n",
       "    </tr>\n",
       "    <tr>\n",
       "      <th>13</th>\n",
       "      <td>default</td>\n",
       "      <td>credit_card</td>\n",
       "      <td>14.79</td>\n",
       "      <td>0.50</td>\n",
       "      <td>2.42371</td>\n",
       "    </tr>\n",
       "    <tr>\n",
       "      <th>...</th>\n",
       "      <td>...</td>\n",
       "      <td>...</td>\n",
       "      <td>...</td>\n",
       "      <td>...</td>\n",
       "      <td>...</td>\n",
       "    </tr>\n",
       "    <tr>\n",
       "      <th>2993</th>\n",
       "      <td>default</td>\n",
       "      <td>debt_consolidation</td>\n",
       "      <td>33.74</td>\n",
       "      <td>0.30</td>\n",
       "      <td>10.88980</td>\n",
       "    </tr>\n",
       "    <tr>\n",
       "      <th>2994</th>\n",
       "      <td>default</td>\n",
       "      <td>debt_consolidation</td>\n",
       "      <td>15.34</td>\n",
       "      <td>0.40</td>\n",
       "      <td>9.09024</td>\n",
       "    </tr>\n",
       "    <tr>\n",
       "      <th>2997</th>\n",
       "      <td>default</td>\n",
       "      <td>debt_consolidation</td>\n",
       "      <td>16.13</td>\n",
       "      <td>0.20</td>\n",
       "      <td>15.42180</td>\n",
       "    </tr>\n",
       "    <tr>\n",
       "      <th>2998</th>\n",
       "      <td>default</td>\n",
       "      <td>debt_consolidation</td>\n",
       "      <td>18.39</td>\n",
       "      <td>0.45</td>\n",
       "      <td>8.92335</td>\n",
       "    </tr>\n",
       "    <tr>\n",
       "      <th>2999</th>\n",
       "      <td>default</td>\n",
       "      <td>credit_card</td>\n",
       "      <td>26.67</td>\n",
       "      <td>0.40</td>\n",
       "      <td>12.88190</td>\n",
       "    </tr>\n",
       "  </tbody>\n",
       "</table>\n",
       "<p>1445 rows × 5 columns</p>\n",
       "</div>"
      ],
      "text/plain": [
       "      outcome            purpose_    dti  borrower_score  payment_inc_ratio\n",
       "1     default         credit_card  15.49            0.40            5.43165\n",
       "4     default  debt_consolidation  16.46            0.45           12.10320\n",
       "6     default  debt_consolidation  29.79            0.40            7.00390\n",
       "10    default               other  11.42            0.40            1.82061\n",
       "13    default         credit_card  14.79            0.50            2.42371\n",
       "...       ...                 ...    ...             ...                ...\n",
       "2993  default  debt_consolidation  33.74            0.30           10.88980\n",
       "2994  default  debt_consolidation  15.34            0.40            9.09024\n",
       "2997  default  debt_consolidation  16.13            0.20           15.42180\n",
       "2998  default  debt_consolidation  18.39            0.45            8.92335\n",
       "2999  default         credit_card  26.67            0.40           12.88190\n",
       "\n",
       "[1445 rows x 5 columns]"
      ]
     },
     "execution_count": 49,
     "metadata": {},
     "output_type": "execute_result"
    }
   ],
   "source": [
    "data[data['outcome'] == 'default']"
   ]
  },
  {
   "cell_type": "markdown",
   "metadata": {},
   "source": [
    "### -> default(1)인 레코드 1445개, paid off(0)인 레코드 1555개"
   ]
  },
  {
   "cell_type": "markdown",
   "metadata": {},
   "source": [
    "# 5-1) oversample 후 분류모델을 학습해 그 결과를 원래 모델과 비교하기"
   ]
  },
  {
   "cell_type": "code",
   "execution_count": 52,
   "metadata": {},
   "outputs": [
    {
     "data": {
      "text/html": [
       "<div>\n",
       "<style scoped>\n",
       "    .dataframe tbody tr th:only-of-type {\n",
       "        vertical-align: middle;\n",
       "    }\n",
       "\n",
       "    .dataframe tbody tr th {\n",
       "        vertical-align: top;\n",
       "    }\n",
       "\n",
       "    .dataframe thead th {\n",
       "        text-align: right;\n",
       "    }\n",
       "</style>\n",
       "<table border=\"1\" class=\"dataframe\">\n",
       "  <thead>\n",
       "    <tr style=\"text-align: right;\">\n",
       "      <th></th>\n",
       "      <th>outcome</th>\n",
       "      <th>purpose_</th>\n",
       "      <th>dti</th>\n",
       "      <th>borrower_score</th>\n",
       "      <th>payment_inc_ratio</th>\n",
       "    </tr>\n",
       "  </thead>\n",
       "  <tbody>\n",
       "    <tr>\n",
       "      <th>0</th>\n",
       "      <td>paid off</td>\n",
       "      <td>debt_consolidation</td>\n",
       "      <td>21.23</td>\n",
       "      <td>0.40</td>\n",
       "      <td>5.11135</td>\n",
       "    </tr>\n",
       "    <tr>\n",
       "      <th>1</th>\n",
       "      <td>default</td>\n",
       "      <td>credit_card</td>\n",
       "      <td>15.49</td>\n",
       "      <td>0.40</td>\n",
       "      <td>5.43165</td>\n",
       "    </tr>\n",
       "    <tr>\n",
       "      <th>2</th>\n",
       "      <td>paid off</td>\n",
       "      <td>debt_consolidation</td>\n",
       "      <td>27.30</td>\n",
       "      <td>0.70</td>\n",
       "      <td>9.23003</td>\n",
       "    </tr>\n",
       "    <tr>\n",
       "      <th>3</th>\n",
       "      <td>paid off</td>\n",
       "      <td>major_purchase</td>\n",
       "      <td>21.11</td>\n",
       "      <td>0.40</td>\n",
       "      <td>2.33482</td>\n",
       "    </tr>\n",
       "    <tr>\n",
       "      <th>4</th>\n",
       "      <td>default</td>\n",
       "      <td>debt_consolidation</td>\n",
       "      <td>16.46</td>\n",
       "      <td>0.45</td>\n",
       "      <td>12.10320</td>\n",
       "    </tr>\n",
       "    <tr>\n",
       "      <th>...</th>\n",
       "      <td>...</td>\n",
       "      <td>...</td>\n",
       "      <td>...</td>\n",
       "      <td>...</td>\n",
       "      <td>...</td>\n",
       "    </tr>\n",
       "    <tr>\n",
       "      <th>16990</th>\n",
       "      <td>paid off</td>\n",
       "      <td>debt_consolidation</td>\n",
       "      <td>7.25</td>\n",
       "      <td>0.50</td>\n",
       "      <td>4.67091</td>\n",
       "    </tr>\n",
       "    <tr>\n",
       "      <th>16991</th>\n",
       "      <td>paid off</td>\n",
       "      <td>credit_card</td>\n",
       "      <td>14.58</td>\n",
       "      <td>0.65</td>\n",
       "      <td>4.55319</td>\n",
       "    </tr>\n",
       "    <tr>\n",
       "      <th>16992</th>\n",
       "      <td>paid off</td>\n",
       "      <td>debt_consolidation</td>\n",
       "      <td>19.10</td>\n",
       "      <td>0.40</td>\n",
       "      <td>8.17149</td>\n",
       "    </tr>\n",
       "    <tr>\n",
       "      <th>16993</th>\n",
       "      <td>paid off</td>\n",
       "      <td>debt_consolidation</td>\n",
       "      <td>13.30</td>\n",
       "      <td>0.50</td>\n",
       "      <td>18.36620</td>\n",
       "    </tr>\n",
       "    <tr>\n",
       "      <th>16994</th>\n",
       "      <td>paid off</td>\n",
       "      <td>other</td>\n",
       "      <td>6.09</td>\n",
       "      <td>0.60</td>\n",
       "      <td>1.80421</td>\n",
       "    </tr>\n",
       "  </tbody>\n",
       "</table>\n",
       "<p>16995 rows × 5 columns</p>\n",
       "</div>"
      ],
      "text/plain": [
       "        outcome            purpose_    dti  borrower_score  payment_inc_ratio\n",
       "0      paid off  debt_consolidation  21.23            0.40            5.11135\n",
       "1       default         credit_card  15.49            0.40            5.43165\n",
       "2      paid off  debt_consolidation  27.30            0.70            9.23003\n",
       "3      paid off      major_purchase  21.11            0.40            2.33482\n",
       "4       default  debt_consolidation  16.46            0.45           12.10320\n",
       "...         ...                 ...    ...             ...                ...\n",
       "16990  paid off  debt_consolidation   7.25            0.50            4.67091\n",
       "16991  paid off         credit_card  14.58            0.65            4.55319\n",
       "16992  paid off  debt_consolidation  19.10            0.40            8.17149\n",
       "16993  paid off  debt_consolidation  13.30            0.50           18.36620\n",
       "16994  paid off               other   6.09            0.60            1.80421\n",
       "\n",
       "[16995 rows x 5 columns]"
      ]
     },
     "execution_count": 52,
     "metadata": {},
     "output_type": "execute_result"
    }
   ],
   "source": [
    "data_over = pd.concat([data,data[data['outcome']=='paid off'],data[data['outcome']=='paid off'],data[data['outcome']=='paid off'],data[data['outcome']=='paid off'],data[data['outcome']=='paid off'],data[data['outcome']=='paid off'],data[data['outcome']=='paid off'],data[data['outcome']=='paid off'],data[data['outcome']=='paid off'],],axis = 0)\n",
    "data_over.reset_index(drop=True,inplace=True)\n",
    "data_over"
   ]
  },
  {
   "cell_type": "code",
   "execution_count": 56,
   "metadata": {},
   "outputs": [
    {
     "data": {
      "text/html": [
       "<div>\n",
       "<style scoped>\n",
       "    .dataframe tbody tr th:only-of-type {\n",
       "        vertical-align: middle;\n",
       "    }\n",
       "\n",
       "    .dataframe tbody tr th {\n",
       "        vertical-align: top;\n",
       "    }\n",
       "\n",
       "    .dataframe thead th {\n",
       "        text-align: right;\n",
       "    }\n",
       "</style>\n",
       "<table border=\"1\" class=\"dataframe\">\n",
       "  <thead>\n",
       "    <tr style=\"text-align: right;\">\n",
       "      <th></th>\n",
       "      <th>0</th>\n",
       "    </tr>\n",
       "  </thead>\n",
       "  <tbody>\n",
       "    <tr>\n",
       "      <th>dti</th>\n",
       "      <td>-0.039968</td>\n",
       "    </tr>\n",
       "    <tr>\n",
       "      <th>borrower_score</th>\n",
       "      <td>7.210341</td>\n",
       "    </tr>\n",
       "  </tbody>\n",
       "</table>\n",
       "</div>"
      ],
      "text/plain": [
       "                       0\n",
       "dti            -0.039968\n",
       "borrower_score  7.210341"
      ]
     },
     "execution_count": 56,
     "metadata": {},
     "output_type": "execute_result"
    }
   ],
   "source": [
    "predictors10 = ['dti','borrower_score']\n",
    "outcome = 'outcome'\n",
    "\n",
    "x10 = data_over[predictors10]\n",
    "y10 = data_over[outcome]\n",
    "\n",
    "data_lda10 = sk.LinearDiscriminantAnalysis()\n",
    "data_lda10.fit(x10,y10)\n",
    "pd.DataFrame(data_lda10.scalings_, index = x10.columns)"
   ]
  },
  {
   "cell_type": "code",
   "execution_count": 57,
   "metadata": {},
   "outputs": [
    {
     "data": {
      "text/html": [
       "<div>\n",
       "<style scoped>\n",
       "    .dataframe tbody tr th:only-of-type {\n",
       "        vertical-align: middle;\n",
       "    }\n",
       "\n",
       "    .dataframe tbody tr th {\n",
       "        vertical-align: top;\n",
       "    }\n",
       "\n",
       "    .dataframe thead th {\n",
       "        text-align: right;\n",
       "    }\n",
       "</style>\n",
       "<table border=\"1\" class=\"dataframe\">\n",
       "  <thead>\n",
       "    <tr style=\"text-align: right;\">\n",
       "      <th></th>\n",
       "      <th>default</th>\n",
       "      <th>paid off</th>\n",
       "    </tr>\n",
       "  </thead>\n",
       "  <tbody>\n",
       "    <tr>\n",
       "      <th>0</th>\n",
       "      <td>0.144550</td>\n",
       "      <td>0.855450</td>\n",
       "    </tr>\n",
       "    <tr>\n",
       "      <th>1</th>\n",
       "      <td>0.127254</td>\n",
       "      <td>0.872746</td>\n",
       "    </tr>\n",
       "    <tr>\n",
       "      <th>2</th>\n",
       "      <td>0.046869</td>\n",
       "      <td>0.953131</td>\n",
       "    </tr>\n",
       "    <tr>\n",
       "      <th>3</th>\n",
       "      <td>0.144169</td>\n",
       "      <td>0.855831</td>\n",
       "    </tr>\n",
       "    <tr>\n",
       "      <th>4</th>\n",
       "      <td>0.106001</td>\n",
       "      <td>0.893999</td>\n",
       "    </tr>\n",
       "    <tr>\n",
       "      <th>...</th>\n",
       "      <td>...</td>\n",
       "      <td>...</td>\n",
       "    </tr>\n",
       "    <tr>\n",
       "      <th>16990</th>\n",
       "      <td>0.069101</td>\n",
       "      <td>0.930899</td>\n",
       "    </tr>\n",
       "    <tr>\n",
       "      <th>16991</th>\n",
       "      <td>0.042802</td>\n",
       "      <td>0.957198</td>\n",
       "    </tr>\n",
       "    <tr>\n",
       "      <th>16992</th>\n",
       "      <td>0.137915</td>\n",
       "      <td>0.862085</td>\n",
       "    </tr>\n",
       "    <tr>\n",
       "      <th>16993</th>\n",
       "      <td>0.079793</td>\n",
       "      <td>0.920207</td>\n",
       "    </tr>\n",
       "    <tr>\n",
       "      <th>16994</th>\n",
       "      <td>0.043363</td>\n",
       "      <td>0.956637</td>\n",
       "    </tr>\n",
       "  </tbody>\n",
       "</table>\n",
       "<p>16995 rows × 2 columns</p>\n",
       "</div>"
      ],
      "text/plain": [
       "        default  paid off\n",
       "0      0.144550  0.855450\n",
       "1      0.127254  0.872746\n",
       "2      0.046869  0.953131\n",
       "3      0.144169  0.855831\n",
       "4      0.106001  0.893999\n",
       "...         ...       ...\n",
       "16990  0.069101  0.930899\n",
       "16991  0.042802  0.957198\n",
       "16992  0.137915  0.862085\n",
       "16993  0.079793  0.920207\n",
       "16994  0.043363  0.956637\n",
       "\n",
       "[16995 rows x 2 columns]"
      ]
     },
     "execution_count": 57,
     "metadata": {},
     "output_type": "execute_result"
    }
   ],
   "source": [
    "pred10 = pd.DataFrame(data_lda10.predict_proba(x10), columns = data_lda10.classes_)\n",
    "pred10"
   ]
  },
  {
   "cell_type": "markdown",
   "metadata": {},
   "source": [
    "#### 혼동 행렬 구하기"
   ]
  },
  {
   "cell_type": "code",
   "execution_count": 63,
   "metadata": {},
   "outputs": [
    {
     "data": {
      "text/html": [
       "<div>\n",
       "<style scoped>\n",
       "    .dataframe tbody tr th:only-of-type {\n",
       "        vertical-align: middle;\n",
       "    }\n",
       "\n",
       "    .dataframe tbody tr th {\n",
       "        vertical-align: top;\n",
       "    }\n",
       "\n",
       "    .dataframe thead th {\n",
       "        text-align: right;\n",
       "    }\n",
       "</style>\n",
       "<table border=\"1\" class=\"dataframe\">\n",
       "  <thead>\n",
       "    <tr style=\"text-align: right;\">\n",
       "      <th></th>\n",
       "      <th>pred = default(1)</th>\n",
       "      <th>pred = paid off(0)</th>\n",
       "    </tr>\n",
       "  </thead>\n",
       "  <tbody>\n",
       "    <tr>\n",
       "      <th>outcome = default(1)</th>\n",
       "      <td>0</td>\n",
       "      <td>1445</td>\n",
       "    </tr>\n",
       "    <tr>\n",
       "      <th>outcome = paid off(0)</th>\n",
       "      <td>0</td>\n",
       "      <td>15550</td>\n",
       "    </tr>\n",
       "  </tbody>\n",
       "</table>\n",
       "</div>"
      ],
      "text/plain": [
       "                       pred = default(1)  pred = paid off(0)\n",
       "outcome = default(1)                   0                1445\n",
       "outcome = paid off(0)                  0               15550"
      ]
     },
     "execution_count": 63,
     "metadata": {},
     "output_type": "execute_result"
    }
   ],
   "source": [
    "pred10 = data_lda10.predict(x10)\n",
    "pred_y10 = data_lda10.predict(x10) == 'default'\n",
    "true_y10 = y10 == 'default'\n",
    "true_pos10 = true_y10&pred_y10\n",
    "true_neg10 = ~true_y10&~pred_y10\n",
    "false_pos10 = ~true_y10&pred_y10\n",
    "false_neg10 = true_y10&~pred_y10\n",
    "\n",
    "conf_mat10 = pd.DataFrame([[np.sum(true_pos10), np.sum(false_neg10)],[np.sum(false_pos10),np.sum(true_neg10)]], index = ['outcome = default(1)','outcome = paid off(0)'], columns = ['pred = default(1)','pred = paid off(0)'])\n",
    "conf_mat10"
   ]
  },
  {
   "cell_type": "markdown",
   "metadata": {},
   "source": [
    "### -> paid off값이 10배가 되면서 예측값이 paid off일 확률이 높아져 예측값이 default인 확률이 0이 되었다."
   ]
  },
  {
   "cell_type": "markdown",
   "metadata": {},
   "source": [
    "## 보너스) 누적 이득 차트를 그리고 리프트 값을 구하기"
   ]
  },
  {
   "cell_type": "code",
   "execution_count": 99,
   "metadata": {},
   "outputs": [
    {
     "data": {
      "image/png": "[encoded data removed]",
      "text/plain": [
       "<Figure size 432x288 with 1 Axes>"
      ]
     },
     "metadata": {
      "needs_background": "light"
     },
     "output_type": "display_data"
    }
   ],
   "source": [
    "Y_test = data[outcome2]\n",
    "Y_pred = logit_reg.predict_proba(X)\n",
    "skplt.metrics.plot_cumulative_gain(Y_test, Y_pred)\n",
    "plt.show()"
   ]
  },
  {
   "cell_type": "markdown",
   "metadata": {},
   "source": [
    "- 두 변수의 누적이득차트가 거의 비슷하므로 리프트 값은 1에 근접한다."
   ]
  },
  {
   "cell_type": "code",
   "execution_count": 104,
   "metadata": {},
   "outputs": [
    {
     "data": {
      "image/png": "[encoded data removed]",
      "text/plain": [
       "<Figure size 432x288 with 1 Axes>"
      ]
     },
     "metadata": {
      "needs_background": "light"
     },
     "output_type": "display_data"
    }
   ],
   "source": [
    "X_train, X_test, Y_train, Y_test = train_test_split(X, Y,test_size=0.33)\n",
    "lr = logit_reg.fit(X_train,Y_train)\n",
    "Y_probas = logit_reg.predict_proba(X_test)\n",
    "skplt.metrics.plot_lift_curve(Y_test, Y_probas)\n",
    "plt.show()"
   ]
  }
 ],
 "metadata": {
  "kernelspec": {
   "display_name": "Python 3",
   "language": "python",
   "name": "python3"
  },
  "language_info": {
   "codemirror_mode": {
    "name": "ipython",
    "version": 3
   },
   "file_extension": ".py",
   "mimetype": "text/x-python",
   "name": "python",
   "nbconvert_exporter": "python",
   "pygments_lexer": "ipython3",
   "version": "3.8.3"
  }
 },
 "nbformat": 4,
 "nbformat_minor": 4
}
