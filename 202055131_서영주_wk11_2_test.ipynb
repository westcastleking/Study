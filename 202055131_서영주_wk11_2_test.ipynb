{
 "cells": [
  {
   "cell_type": "markdown",
   "metadata": {},
   "source": [
    "# 11주차(목) 실습문제 - 신뢰구간 추정과 가설검정\n",
    "\n",
    "제출시 HTML(.html) 형식으로 다운로드한 뒤, 올려주세요."
   ]
  },
  {
   "cell_type": "code",
   "execution_count": 1,
   "metadata": {},
   "outputs": [],
   "source": [
    "# 수치 계산에 사용하는 라이브러리\n",
    "import numpy as np\n",
    "import pandas as pd\n",
    "import scipy as sp\n",
    "from scipy import stats\n",
    "\n",
    "# 그래프를 그리기 위한 라이브러리\n",
    "from matplotlib import pyplot as plt\n",
    "import seaborn as sns\n",
    "sns.set()\n",
    "\n",
    "# 표시 자릿수 지정\n",
    "%precision 3\n",
    "# 그래프를 주피터 노트북에 그리기 위한 설정\n",
    "%matplotlib inline"
   ]
  },
  {
   "cell_type": "markdown",
   "metadata": {},
   "source": [
    "---"
   ]
  },
  {
   "cell_type": "markdown",
   "metadata": {},
   "source": [
    "## 1. 점 추정과 신뢰구간\n",
    "아래 데이터 읽기 코드를 먼저 실행하고, height 데이터에 대해 아래 문제를 푸시오."
   ]
  },
  {
   "cell_type": "code",
   "execution_count": 2,
   "metadata": {},
   "outputs": [],
   "source": [
    "data = pd.read_csv(\"health2018.csv\")\n",
    "height = data[data.sex == 'F'].height"
   ]
  },
  {
   "cell_type": "markdown",
   "metadata": {},
   "source": [
    "### 1-1. 여성 키 데이터 height에서 모평균과 모분산의 점추정 값을 구하시오. "
   ]
  },
  {
   "cell_type": "code",
   "execution_count": 3,
   "metadata": {},
   "outputs": [
    {
     "name": "stdout",
     "output_type": "stream",
     "text": [
      "157.53676470588263 43.34178514666145\n"
     ]
    }
   ],
   "source": [
    "m = np.mean(height)\n",
    "v = np.var(height, ddof = 1)\n",
    "print(m,v)"
   ]
  },
  {
   "cell_type": "markdown",
   "metadata": {},
   "source": [
    "### 1-2. 샘플사이즈 10일 때, 표본평균의 90% 신뢰구간을 구하시오.\n",
    "힌트: 자유도 9의 t분포 사용."
   ]
  },
  {
   "cell_type": "code",
   "execution_count": 4,
   "metadata": {},
   "outputs": [
    {
     "data": {
      "text/plain": [
       "(153.72046372603444, 161.35306568573083)"
      ]
     },
     "execution_count": 4,
     "metadata": {},
     "output_type": "execute_result"
    }
   ],
   "source": [
    "sig_10 = np.std(height, ddof = 1) / np.sqrt(10)\n",
    "stats.t.interval(alpha = 0.90, df = 9, loc = m, scale = sig_10)"
   ]
  },
  {
   "cell_type": "markdown",
   "metadata": {},
   "source": [
    "### 1-3. 복원추출로 샘플사이즈 10의 표본평균을 1000번 구하고, 그중 위 신뢰구간에 들어가는 비율을 계산하시오."
   ]
  },
  {
   "cell_type": "code",
   "execution_count": 5,
   "metadata": {},
   "outputs": [
    {
     "data": {
      "text/plain": [
       "0.936"
      ]
     },
     "execution_count": 5,
     "metadata": {},
     "output_type": "execute_result"
    }
   ],
   "source": [
    "np.random.seed(1)\n",
    "be_included_array = np.zeros(1000,dtype = 'bool')\n",
    "\n",
    "for i in range(1000):\n",
    "    sample = np.random.choice(height, size = 10, replace = True)\n",
    "    m_10 = np.mean(sample)\n",
    "    se = np.std(sample,ddof=1) / np.sqrt(10)\n",
    "    interval = stats.t.interval(alpha = 0.90, df = 9 , loc = m, scale = sig_10)\n",
    "    if (interval[0] < m_10 and interval[1] > m_10):\n",
    "        be_included_array[i] = True\n",
    "        \n",
    "np.mean(be_included_array)"
   ]
  },
  {
   "cell_type": "markdown",
   "metadata": {},
   "source": [
    "---"
   ]
  },
  {
   "cell_type": "markdown",
   "metadata": {},
   "source": [
    "## 2. t검정과 그룹 비교 시각화\n",
    "아래 코드를 이용해 19세 남성과 19세 여성의 데이터를 10개씩 추출해 data2에 저장한다. "
   ]
  },
  {
   "cell_type": "code",
   "execution_count": 6,
   "metadata": {},
   "outputs": [],
   "source": [
    "data_man = data[(data.age==19) & (data.sex=='M')][0:10]\n",
    "data_woman = data[(data.age==19) & (data.sex=='F')][0:10]\n",
    "\n",
    "data2 = pd.concat([data_man, data_woman])"
   ]
  },
  {
   "cell_type": "code",
   "execution_count": 7,
   "metadata": {},
   "outputs": [
    {
     "data": {
      "text/plain": [
       "<matplotlib.axes._subplots.AxesSubplot at 0x1876d48a580>"
      ]
     },
     "execution_count": 7,
     "metadata": {},
     "output_type": "execute_result"
    },
    {
     "data": {
      "image/png": "[encoded data removed]",
      "text/plain": [
       "<Figure size 432x288 with 1 Axes>"
      ]
     },
     "metadata": {
      "needs_background": "light"
     },
     "output_type": "display_data"
    }
   ],
   "source": [
    "sns.barplot(data = data2, x='sex', y='BMI')"
   ]
  },
  {
   "cell_type": "markdown",
   "metadata": {},
   "source": [
    "### 2-1. 위와 같이 sns.barplot을 이용해 남성과 여성의 BMI 평균값을 막대그래프로 표시하였다. 남성과 여성 표본에서 95% 신뢰구간을 t분포에 기반해 계산하고, 그래프의 오차막대와 일치하는지 확인하라."
   ]
  },
  {
   "cell_type": "code",
   "execution_count": 8,
   "metadata": {},
   "outputs": [
    {
     "name": "stdout",
     "output_type": "stream",
     "text": [
      "(20.48675020141657, 24.669606478583432) (18.74829845522605, 21.248999840773955)\n"
     ]
    }
   ],
   "source": [
    "male_t = stats.t.interval(alpha = 0.95, df = 9, loc = data2[data2.sex == 'M']['BMI'].mean(), scale = data2[data2.sex == 'M']['BMI'].std() / np.sqrt(10))\n",
    "female_t = stats.t.interval(alpha = 0.95, df = 9, loc = data2[data2.sex == 'F']['BMI'].mean(), scale = data2[data2.sex == 'F']['BMI'].std() / np.sqrt(10))\n",
    "print(male_t,female_t)"
   ]
  },
  {
   "cell_type": "markdown",
   "metadata": {},
   "source": [
    "### 2-2. 대응표본 t검정과 독립표본 t검정을 사용해 남성과 여성의 BMI 평균이 다른지 검정하라 (두 p값을 비교해보라).\n",
    "이 경우, 대응표본 t검정과 독립표본 t검정 중 어느 방법이 더 적절한가? 왜 그러한지 설명하시오."
   ]
  },
  {
   "cell_type": "code",
   "execution_count": 9,
   "metadata": {},
   "outputs": [
    {
     "data": {
      "text/plain": [
       "Ttest_relResult(statistic=2.1839532152377092, pvalue=0.05680736151004805)"
      ]
     },
     "execution_count": 9,
     "metadata": {},
     "output_type": "execute_result"
    }
   ],
   "source": [
    "#대응표본 t검정\n",
    "male = data2.query(\n",
    "    'sex == \"M\"')[\"BMI\"]\n",
    "female = data2.query(\n",
    "    'sex == \"F\"')[\"BMI\"]\n",
    "male = np.array(male)\n",
    "female = np.array(female)\n",
    "diff = male - female \n",
    "diff\n",
    "stats.ttest_rel(male, female)"
   ]
  },
  {
   "cell_type": "code",
   "execution_count": 10,
   "metadata": {},
   "outputs": [
    {
     "data": {
      "text/plain": [
       "Ttest_indResult(statistic=2.394767153966043, pvalue=0.03042517147864766)"
      ]
     },
     "execution_count": 10,
     "metadata": {},
     "output_type": "execute_result"
    }
   ],
   "source": [
    "#독립표본 t검정\n",
    "male_m = np.mean(male)\n",
    "female_m = np.mean(female)\n",
    "\n",
    "male_sig = np.var(male, ddof = 1)\n",
    "female_sig = np.var(female, ddof = 1)\n",
    "\n",
    "male_l = len(male)\n",
    "female_l = len(female)\n",
    "\n",
    "t_value = (male_m - female_m) / \\\n",
    "    np.sqrt((male_sig/male_l + female_sig/ female_l))\n",
    "stats.ttest_ind(male, female, equal_var = False)"
   ]
  },
  {
   "cell_type": "code",
   "execution_count": 11,
   "metadata": {},
   "outputs": [],
   "source": [
    "#성별을 기준으로 두 그룹으로 나누어 BMI평균을 구한 것이기 때문에 독립표본 t검정을 \n",
    "#이용하는 것이 더 적절하다 ( 임의의 두 그룹으로 나누어 처리함)\n",
    "#대응표본 t검정은 비슷한 대상을 짝지어 처리를 하였을 때 사용하는 것이 적절하다 "
   ]
  },
  {
   "cell_type": "markdown",
   "metadata": {},
   "source": [
    "---"
   ]
  },
  {
   "cell_type": "markdown",
   "metadata": {},
   "source": [
    "## 3. 분할표 검정 및 시각화"
   ]
  },
  {
   "cell_type": "code",
   "execution_count": 12,
   "metadata": {},
   "outputs": [],
   "source": [
    "data3 = data[data.age<=20]    # 만 19~20세 남녀."
   ]
  },
  {
   "cell_type": "code",
   "execution_count": 13,
   "metadata": {},
   "outputs": [
    {
     "data": {
      "text/html": [
       "<div>\n",
       "<style scoped>\n",
       "    .dataframe tbody tr th:only-of-type {\n",
       "        vertical-align: middle;\n",
       "    }\n",
       "\n",
       "    .dataframe tbody tr th {\n",
       "        vertical-align: top;\n",
       "    }\n",
       "\n",
       "    .dataframe thead th {\n",
       "        text-align: right;\n",
       "    }\n",
       "</style>\n",
       "<table border=\"1\" class=\"dataframe\">\n",
       "  <thead>\n",
       "    <tr style=\"text-align: right;\">\n",
       "      <th></th>\n",
       "      <th>ID</th>\n",
       "      <th>sex</th>\n",
       "      <th>age</th>\n",
       "      <th>height</th>\n",
       "      <th>weight</th>\n",
       "      <th>waist</th>\n",
       "      <th>BMI</th>\n",
       "      <th>Blood_glucose</th>\n",
       "    </tr>\n",
       "  </thead>\n",
       "  <tbody>\n",
       "    <tr>\n",
       "      <th>163</th>\n",
       "      <td>A906023903</td>\n",
       "      <td>F</td>\n",
       "      <td>20</td>\n",
       "      <td>166.2</td>\n",
       "      <td>57.5</td>\n",
       "      <td>70.0</td>\n",
       "      <td>20.816409</td>\n",
       "      <td>91</td>\n",
       "    </tr>\n",
       "    <tr>\n",
       "      <th>182</th>\n",
       "      <td>A906029304</td>\n",
       "      <td>M</td>\n",
       "      <td>20</td>\n",
       "      <td>167.2</td>\n",
       "      <td>58.4</td>\n",
       "      <td>75.3</td>\n",
       "      <td>20.890090</td>\n",
       "      <td>95</td>\n",
       "    </tr>\n",
       "    <tr>\n",
       "      <th>197</th>\n",
       "      <td>A907023103</td>\n",
       "      <td>F</td>\n",
       "      <td>20</td>\n",
       "      <td>164.0</td>\n",
       "      <td>57.4</td>\n",
       "      <td>73.2</td>\n",
       "      <td>21.341463</td>\n",
       "      <td>84</td>\n",
       "    </tr>\n",
       "    <tr>\n",
       "      <th>256</th>\n",
       "      <td>A908029803</td>\n",
       "      <td>F</td>\n",
       "      <td>20</td>\n",
       "      <td>157.2</td>\n",
       "      <td>52.7</td>\n",
       "      <td>68.3</td>\n",
       "      <td>21.325810</td>\n",
       "      <td>89</td>\n",
       "    </tr>\n",
       "    <tr>\n",
       "      <th>257</th>\n",
       "      <td>A908029804</td>\n",
       "      <td>M</td>\n",
       "      <td>19</td>\n",
       "      <td>175.0</td>\n",
       "      <td>76.1</td>\n",
       "      <td>84.2</td>\n",
       "      <td>24.848980</td>\n",
       "      <td>89</td>\n",
       "    </tr>\n",
       "    <tr>\n",
       "      <th>...</th>\n",
       "      <td>...</td>\n",
       "      <td>...</td>\n",
       "      <td>...</td>\n",
       "      <td>...</td>\n",
       "      <td>...</td>\n",
       "      <td>...</td>\n",
       "      <td>...</td>\n",
       "      <td>...</td>\n",
       "    </tr>\n",
       "    <tr>\n",
       "      <th>5511</th>\n",
       "      <td>O905024003</td>\n",
       "      <td>F</td>\n",
       "      <td>19</td>\n",
       "      <td>164.9</td>\n",
       "      <td>52.9</td>\n",
       "      <td>67.2</td>\n",
       "      <td>19.454244</td>\n",
       "      <td>88</td>\n",
       "    </tr>\n",
       "    <tr>\n",
       "      <th>5550</th>\n",
       "      <td>O906025503</td>\n",
       "      <td>M</td>\n",
       "      <td>19</td>\n",
       "      <td>173.4</td>\n",
       "      <td>78.4</td>\n",
       "      <td>83.7</td>\n",
       "      <td>26.074613</td>\n",
       "      <td>97</td>\n",
       "    </tr>\n",
       "    <tr>\n",
       "      <th>5627</th>\n",
       "      <td>O908030303</td>\n",
       "      <td>M</td>\n",
       "      <td>20</td>\n",
       "      <td>177.0</td>\n",
       "      <td>88.5</td>\n",
       "      <td>89.8</td>\n",
       "      <td>28.248588</td>\n",
       "      <td>87</td>\n",
       "    </tr>\n",
       "    <tr>\n",
       "      <th>5652</th>\n",
       "      <td>O909028301</td>\n",
       "      <td>M</td>\n",
       "      <td>20</td>\n",
       "      <td>180.4</td>\n",
       "      <td>81.3</td>\n",
       "      <td>79.2</td>\n",
       "      <td>24.981441</td>\n",
       "      <td>92</td>\n",
       "    </tr>\n",
       "    <tr>\n",
       "      <th>5801</th>\n",
       "      <td>P903022103</td>\n",
       "      <td>M</td>\n",
       "      <td>19</td>\n",
       "      <td>177.6</td>\n",
       "      <td>64.1</td>\n",
       "      <td>69.7</td>\n",
       "      <td>20.322265</td>\n",
       "      <td>84</td>\n",
       "    </tr>\n",
       "  </tbody>\n",
       "</table>\n",
       "<p>111 rows × 8 columns</p>\n",
       "</div>"
      ],
      "text/plain": [
       "              ID sex  age  height  weight  waist        BMI  Blood_glucose\n",
       "163   A906023903   F   20   166.2    57.5   70.0  20.816409             91\n",
       "182   A906029304   M   20   167.2    58.4   75.3  20.890090             95\n",
       "197   A907023103   F   20   164.0    57.4   73.2  21.341463             84\n",
       "256   A908029803   F   20   157.2    52.7   68.3  21.325810             89\n",
       "257   A908029804   M   19   175.0    76.1   84.2  24.848980             89\n",
       "...          ...  ..  ...     ...     ...    ...        ...            ...\n",
       "5511  O905024003   F   19   164.9    52.9   67.2  19.454244             88\n",
       "5550  O906025503   M   19   173.4    78.4   83.7  26.074613             97\n",
       "5627  O908030303   M   20   177.0    88.5   89.8  28.248588             87\n",
       "5652  O909028301   M   20   180.4    81.3   79.2  24.981441             92\n",
       "5801  P903022103   M   19   177.6    64.1   69.7  20.322265             84\n",
       "\n",
       "[111 rows x 8 columns]"
      ]
     },
     "execution_count": 13,
     "metadata": {},
     "output_type": "execute_result"
    }
   ],
   "source": [
    "data3"
   ]
  },
  {
   "cell_type": "markdown",
   "metadata": {},
   "source": [
    "### 3-1. BMI 25 이상인 사람은 '비만', BMI 23 미만은 '정상'으로 분류한 뒤, 성별에 따라 비만 빈도를 표시하는 분할표(교차표)를 생성하라. 또한 남성, 여성 각각에서 비만의 비율을 구하라.\n",
    "힌트: ?pd.crosstab 도움말에서 normalize 옵션을 참고하시오."
   ]
  },
  {
   "cell_type": "code",
   "execution_count": 17,
   "metadata": {},
   "outputs": [
    {
     "name": "stderr",
     "output_type": "stream",
     "text": [
      "<ipython-input-17-8ad5ca3c83a8>:5: SettingWithCopyWarning: \n",
      "A value is trying to be set on a copy of a slice from a DataFrame.\n",
      "Try using .loc[row_indexer,col_indexer] = value instead\n",
      "\n",
      "See the caveats in the documentation: https://pandas.pydata.org/pandas-docs/stable/user_guide/indexing.html#returning-a-view-versus-a-copy\n",
      "  data3['obesity'] = np.select(condition_list, choice_list, default = 'NaN')\n"
     ]
    },
    {
     "data": {
      "text/html": [
       "<div>\n",
       "<style scoped>\n",
       "    .dataframe tbody tr th:only-of-type {\n",
       "        vertical-align: middle;\n",
       "    }\n",
       "\n",
       "    .dataframe tbody tr th {\n",
       "        vertical-align: top;\n",
       "    }\n",
       "\n",
       "    .dataframe thead th {\n",
       "        text-align: right;\n",
       "    }\n",
       "</style>\n",
       "<table border=\"1\" class=\"dataframe\">\n",
       "  <thead>\n",
       "    <tr style=\"text-align: right;\">\n",
       "      <th>obesity</th>\n",
       "      <th>과체중</th>\n",
       "      <th>비만</th>\n",
       "      <th>정상</th>\n",
       "    </tr>\n",
       "    <tr>\n",
       "      <th>sex</th>\n",
       "      <th></th>\n",
       "      <th></th>\n",
       "      <th></th>\n",
       "    </tr>\n",
       "  </thead>\n",
       "  <tbody>\n",
       "    <tr>\n",
       "      <th>F</th>\n",
       "      <td>7</td>\n",
       "      <td>7</td>\n",
       "      <td>47</td>\n",
       "    </tr>\n",
       "    <tr>\n",
       "      <th>M</th>\n",
       "      <td>4</td>\n",
       "      <td>11</td>\n",
       "      <td>35</td>\n",
       "    </tr>\n",
       "  </tbody>\n",
       "</table>\n",
       "</div>"
      ],
      "text/plain": [
       "obesity  과체중  비만  정상\n",
       "sex                 \n",
       "F          7   7  47\n",
       "M          4  11  35"
      ]
     },
     "execution_count": 17,
     "metadata": {},
     "output_type": "execute_result"
    }
   ],
   "source": [
    "condition_list = [(data3.BMI >=25), \n",
    "                  (data3.BMI < 25) & (data3.BMI >= 23), \n",
    "                  (data3.BMI < 23) ]\n",
    "choice_list = [ '비만', '과체중', '정상' ]\n",
    "data3['obesity'] = np.select(condition_list, choice_list, default = 'NaN')\n",
    "pd.crosstab(data3.sex, data3.obesity)"
   ]
  },
  {
   "cell_type": "code",
   "execution_count": 37,
   "metadata": {},
   "outputs": [
    {
     "data": {
      "text/html": [
       "<div>\n",
       "<style scoped>\n",
       "    .dataframe tbody tr th:only-of-type {\n",
       "        vertical-align: middle;\n",
       "    }\n",
       "\n",
       "    .dataframe tbody tr th {\n",
       "        vertical-align: top;\n",
       "    }\n",
       "\n",
       "    .dataframe thead th {\n",
       "        text-align: right;\n",
       "    }\n",
       "</style>\n",
       "<table border=\"1\" class=\"dataframe\">\n",
       "  <thead>\n",
       "    <tr style=\"text-align: right;\">\n",
       "      <th>obesity</th>\n",
       "      <th>과체중</th>\n",
       "      <th>비만</th>\n",
       "      <th>정상</th>\n",
       "    </tr>\n",
       "    <tr>\n",
       "      <th>sex</th>\n",
       "      <th></th>\n",
       "      <th></th>\n",
       "      <th></th>\n",
       "    </tr>\n",
       "  </thead>\n",
       "  <tbody>\n",
       "    <tr>\n",
       "      <th>F</th>\n",
       "      <td>0.114754</td>\n",
       "      <td>0.114754</td>\n",
       "      <td>0.770492</td>\n",
       "    </tr>\n",
       "    <tr>\n",
       "      <th>M</th>\n",
       "      <td>0.080000</td>\n",
       "      <td>0.220000</td>\n",
       "      <td>0.700000</td>\n",
       "    </tr>\n",
       "  </tbody>\n",
       "</table>\n",
       "</div>"
      ],
      "text/plain": [
       "obesity       과체중        비만        정상\n",
       "sex                                  \n",
       "F        0.114754  0.114754  0.770492\n",
       "M        0.080000  0.220000  0.700000"
      ]
     },
     "execution_count": 37,
     "metadata": {},
     "output_type": "execute_result"
    }
   ],
   "source": [
    "pd.crosstab(data3.sex, data3.obesity, normalize = 'index')"
   ]
  },
  {
   "cell_type": "markdown",
   "metadata": {},
   "source": [
    "### 3-2. 분할표 검정(카이제곱 검정)을 시행해 성별에 따라 과체중의 빈도가 다른지 p값을 구하시오."
   ]
  },
  {
   "cell_type": "code",
   "execution_count": 40,
   "metadata": {},
   "outputs": [
    {
     "data": {
      "text/plain": [
       "(2.396614445131038,\n",
       " 0.3017044984564451,\n",
       " 2,\n",
       " array([[ 6.045,  9.892, 45.063],\n",
       "        [ 4.955,  8.108, 36.937]]))"
      ]
     },
     "execution_count": 40,
     "metadata": {},
     "output_type": "execute_result"
    }
   ],
   "source": [
    "cross = pd.crosstab(data3.sex, data3.obesity)\n",
    "sp.stats.chi2_contingency(cross, correction = False)"
   ]
  },
  {
   "cell_type": "markdown",
   "metadata": {},
   "source": [
    "### 3-3. 위의 분할표에서 관찰된 샘플 수가 모두 2배가 된다면, 분할표 검정 결과는 어떻게 되는가?"
   ]
  },
  {
   "cell_type": "code",
   "execution_count": 41,
   "metadata": {},
   "outputs": [
    {
     "data": {
      "text/plain": [
       "(4.793228890262076,\n",
       " 0.09102560438885503,\n",
       " 2,\n",
       " array([[12.09 , 19.784, 90.126],\n",
       "        [ 9.91 , 16.216, 73.874]]))"
      ]
     },
     "execution_count": 41,
     "metadata": {},
     "output_type": "execute_result"
    }
   ],
   "source": [
    "cross_2 = cross * 2\n",
    "sp.stats.chi2_contingency(cross_2, correction = False)"
   ]
  },
  {
   "cell_type": "code",
   "execution_count": null,
   "metadata": {},
   "outputs": [],
   "source": []
  }
 ],
 "metadata": {
  "kernelspec": {
   "display_name": "Python 3",
   "language": "python",
   "name": "python3"
  },
  "language_info": {
   "codemirror_mode": {
    "name": "ipython",
    "version": 3
   },
   "file_extension": ".py",
   "mimetype": "text/x-python",
   "name": "python",
   "nbconvert_exporter": "python",
   "pygments_lexer": "ipython3",
   "version": "3.8.3"
  }
 },
 "nbformat": 4,
 "nbformat_minor": 2
}
