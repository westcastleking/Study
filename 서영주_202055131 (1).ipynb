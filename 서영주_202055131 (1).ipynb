{
  "nbformat": 4,
  "nbformat_minor": 0,
  "metadata": {
    "colab": {
      "name": "서영주_202055131.ipynb",
      "provenance": [],
      "collapsed_sections": []
    },
    "kernelspec": {
      "name": "python3",
      "display_name": "Python 3"
    },
    "language_info": {
      "name": "python"
    }
  },
  "cells": [
    {
      "cell_type": "markdown",
      "source": [
        "## MNIST 데이터셋을 활용한 이진분류"
      ],
      "metadata": {
        "id": "WavNgV8y9Hb1"
      }
    },
    {
      "cell_type": "code",
      "execution_count": 21,
      "metadata": {
        "colab": {
          "base_uri": "https://localhost:8080/"
        },
        "id": "FO8UYB5pQN7b",
        "outputId": "7a599b6b-9c3c-4a46-f582-6ad8e69cae5d"
      },
      "outputs": [
        {
          "output_type": "stream",
          "name": "stdout",
          "text": [
            "2.8.0\n"
          ]
        }
      ],
      "source": [
        "import numpy as np\n",
        "import pandas as pd\n",
        "from pandas import Series, DataFrame\n",
        "import random\n",
        "import sklearn as sk\n",
        "from sklearn.model_selection import train_test_split\n",
        "\n",
        "import pathlib\n",
        "import seaborn as sns\n",
        "\n",
        "import tensorflow as tf\n",
        "from tensorflow import keras\n",
        "from tensorflow.keras import layers\n",
        "from keras.layers import Dense\n",
        "from sklearn.model_selection import train_test_split\n",
        "\n",
        "print(tf.__version__)\n",
        "#시각화 라이브러리\n",
        "import matplotlib.pyplot as plt\n",
        "import matplotlib as mpl\n",
        "%matplotlib inline"
      ]
    },
    {
      "cell_type": "markdown",
      "source": [
        "1(a). 주어진 데이터를 train, validation, test data로 각각 나누고 keras를 이용하여 MLP 모델을 fitting한 뒤, train data와 validation data에 대한 learning curve를 시각화하시오."
      ],
      "metadata": {
        "id": "F--HUAch9Q4M"
      }
    },
    {
      "cell_type": "code",
      "source": [
        "MNIST_train = pd.read_csv('https://raw.githubusercontent.com/kjmgithub/practice/main/train.csv')\n",
        "MNIST_test = pd.read_csv('https://raw.githubusercontent.com/kjmgithub/practice/main/test.csv')"
      ],
      "metadata": {
        "id": "gIvVnnpnQQyG"
      },
      "execution_count": 22,
      "outputs": []
    },
    {
      "cell_type": "code",
      "source": [
        "MNIST_train['result'] = np.where(MNIST_train['label'] == 0, 0, 1)\n",
        "MNIST_test['result'] = np.where(MNIST_test['label'] == 0, 0, 1)"
      ],
      "metadata": {
        "id": "ejdsa-zS5Ss0"
      },
      "execution_count": 23,
      "outputs": []
    },
    {
      "cell_type": "code",
      "source": [
        "x = MNIST_train.iloc[:,:784]\n",
        "y = MNIST_train.iloc[:,785]"
      ],
      "metadata": {
        "id": "D6It4aOJWDo4"
      },
      "execution_count": 24,
      "outputs": []
    },
    {
      "cell_type": "code",
      "source": [
        "x"
      ],
      "metadata": {
        "colab": {
          "base_uri": "https://localhost:8080/",
          "height": 485
        },
        "id": "5LFbj8ql5lLN",
        "outputId": "5f57af51-38e9-44ee-892f-f69ea3dbdbe3"
      },
      "execution_count": 25,
      "outputs": [
        {
          "output_type": "execute_result",
          "data": {
            "text/plain": [
              "       pixel 0  pixel 1  pixel 2  pixel 3  pixel 4  pixel 5  pixel 6  pixel 7  \\\n",
              "0            0        0        0        0        0        0        0        0   \n",
              "1            0        0        0        0        0        0        0        0   \n",
              "2            0        0        0        0        0        0        0        0   \n",
              "3            0        0        0        0        0        0        0        0   \n",
              "4            0        0        0        0        0        0        0        0   \n",
              "...        ...      ...      ...      ...      ...      ...      ...      ...   \n",
              "54172        0        0        0        0        0        0        0        0   \n",
              "54173        0        0        0        0        0        0        0        0   \n",
              "54174        0        0        0        0        0        0        0        0   \n",
              "54175        0        0        0        0        0        0        0        0   \n",
              "54176        0        0        0        0        0        0        0        0   \n",
              "\n",
              "       pixel 8  pixel 9  ...  pixel 774  pixel 775  pixel 776  pixel 777  \\\n",
              "0            0        0  ...          0          0          0          0   \n",
              "1            0        0  ...          0          0          0          0   \n",
              "2            0        0  ...          0          0          0          0   \n",
              "3            0        0  ...          0          0          0          0   \n",
              "4            0        0  ...          0          0          0          0   \n",
              "...        ...      ...  ...        ...        ...        ...        ...   \n",
              "54172        0        0  ...          0          0          0          0   \n",
              "54173        0        0  ...          0          0          0          0   \n",
              "54174        0        0  ...          0          0          0          0   \n",
              "54175        0        0  ...          0          0          0          0   \n",
              "54176        0        0  ...          0          0          0          0   \n",
              "\n",
              "       pixel 778  pixel 779  pixel 780  pixel 781  pixel 782  pixel 783  \n",
              "0              0          0          0          0          0          0  \n",
              "1              0          0          0          0          0          0  \n",
              "2              0          0          0          0          0          0  \n",
              "3              0          0          0          0          0          0  \n",
              "4              0          0          0          0          0          0  \n",
              "...          ...        ...        ...        ...        ...        ...  \n",
              "54172          0          0          0          0          0          0  \n",
              "54173          0          0          0          0          0          0  \n",
              "54174          0          0          0          0          0          0  \n",
              "54175          0          0          0          0          0          0  \n",
              "54176          0          0          0          0          0          0  \n",
              "\n",
              "[54177 rows x 784 columns]"
            ],
            "text/html": [
              "\n",
              "  <div id=\"df-f050fb63-554a-42c0-8a81-88529bff07b2\">\n",
              "    <div class=\"colab-df-container\">\n",
              "      <div>\n",
              "<style scoped>\n",
              "    .dataframe tbody tr th:only-of-type {\n",
              "        vertical-align: middle;\n",
              "    }\n",
              "\n",
              "    .dataframe tbody tr th {\n",
              "        vertical-align: top;\n",
              "    }\n",
              "\n",
              "    .dataframe thead th {\n",
              "        text-align: right;\n",
              "    }\n",
              "</style>\n",
              "<table border=\"1\" class=\"dataframe\">\n",
              "  <thead>\n",
              "    <tr style=\"text-align: right;\">\n",
              "      <th></th>\n",
              "      <th>pixel 0</th>\n",
              "      <th>pixel 1</th>\n",
              "      <th>pixel 2</th>\n",
              "      <th>pixel 3</th>\n",
              "      <th>pixel 4</th>\n",
              "      <th>pixel 5</th>\n",
              "      <th>pixel 6</th>\n",
              "      <th>pixel 7</th>\n",
              "      <th>pixel 8</th>\n",
              "      <th>pixel 9</th>\n",
              "      <th>...</th>\n",
              "      <th>pixel 774</th>\n",
              "      <th>pixel 775</th>\n",
              "      <th>pixel 776</th>\n",
              "      <th>pixel 777</th>\n",
              "      <th>pixel 778</th>\n",
              "      <th>pixel 779</th>\n",
              "      <th>pixel 780</th>\n",
              "      <th>pixel 781</th>\n",
              "      <th>pixel 782</th>\n",
              "      <th>pixel 783</th>\n",
              "    </tr>\n",
              "  </thead>\n",
              "  <tbody>\n",
              "    <tr>\n",
              "      <th>0</th>\n",
              "      <td>0</td>\n",
              "      <td>0</td>\n",
              "      <td>0</td>\n",
              "      <td>0</td>\n",
              "      <td>0</td>\n",
              "      <td>0</td>\n",
              "      <td>0</td>\n",
              "      <td>0</td>\n",
              "      <td>0</td>\n",
              "      <td>0</td>\n",
              "      <td>...</td>\n",
              "      <td>0</td>\n",
              "      <td>0</td>\n",
              "      <td>0</td>\n",
              "      <td>0</td>\n",
              "      <td>0</td>\n",
              "      <td>0</td>\n",
              "      <td>0</td>\n",
              "      <td>0</td>\n",
              "      <td>0</td>\n",
              "      <td>0</td>\n",
              "    </tr>\n",
              "    <tr>\n",
              "      <th>1</th>\n",
              "      <td>0</td>\n",
              "      <td>0</td>\n",
              "      <td>0</td>\n",
              "      <td>0</td>\n",
              "      <td>0</td>\n",
              "      <td>0</td>\n",
              "      <td>0</td>\n",
              "      <td>0</td>\n",
              "      <td>0</td>\n",
              "      <td>0</td>\n",
              "      <td>...</td>\n",
              "      <td>0</td>\n",
              "      <td>0</td>\n",
              "      <td>0</td>\n",
              "      <td>0</td>\n",
              "      <td>0</td>\n",
              "      <td>0</td>\n",
              "      <td>0</td>\n",
              "      <td>0</td>\n",
              "      <td>0</td>\n",
              "      <td>0</td>\n",
              "    </tr>\n",
              "    <tr>\n",
              "      <th>2</th>\n",
              "      <td>0</td>\n",
              "      <td>0</td>\n",
              "      <td>0</td>\n",
              "      <td>0</td>\n",
              "      <td>0</td>\n",
              "      <td>0</td>\n",
              "      <td>0</td>\n",
              "      <td>0</td>\n",
              "      <td>0</td>\n",
              "      <td>0</td>\n",
              "      <td>...</td>\n",
              "      <td>0</td>\n",
              "      <td>0</td>\n",
              "      <td>0</td>\n",
              "      <td>0</td>\n",
              "      <td>0</td>\n",
              "      <td>0</td>\n",
              "      <td>0</td>\n",
              "      <td>0</td>\n",
              "      <td>0</td>\n",
              "      <td>0</td>\n",
              "    </tr>\n",
              "    <tr>\n",
              "      <th>3</th>\n",
              "      <td>0</td>\n",
              "      <td>0</td>\n",
              "      <td>0</td>\n",
              "      <td>0</td>\n",
              "      <td>0</td>\n",
              "      <td>0</td>\n",
              "      <td>0</td>\n",
              "      <td>0</td>\n",
              "      <td>0</td>\n",
              "      <td>0</td>\n",
              "      <td>...</td>\n",
              "      <td>0</td>\n",
              "      <td>0</td>\n",
              "      <td>0</td>\n",
              "      <td>0</td>\n",
              "      <td>0</td>\n",
              "      <td>0</td>\n",
              "      <td>0</td>\n",
              "      <td>0</td>\n",
              "      <td>0</td>\n",
              "      <td>0</td>\n",
              "    </tr>\n",
              "    <tr>\n",
              "      <th>4</th>\n",
              "      <td>0</td>\n",
              "      <td>0</td>\n",
              "      <td>0</td>\n",
              "      <td>0</td>\n",
              "      <td>0</td>\n",
              "      <td>0</td>\n",
              "      <td>0</td>\n",
              "      <td>0</td>\n",
              "      <td>0</td>\n",
              "      <td>0</td>\n",
              "      <td>...</td>\n",
              "      <td>0</td>\n",
              "      <td>0</td>\n",
              "      <td>0</td>\n",
              "      <td>0</td>\n",
              "      <td>0</td>\n",
              "      <td>0</td>\n",
              "      <td>0</td>\n",
              "      <td>0</td>\n",
              "      <td>0</td>\n",
              "      <td>0</td>\n",
              "    </tr>\n",
              "    <tr>\n",
              "      <th>...</th>\n",
              "      <td>...</td>\n",
              "      <td>...</td>\n",
              "      <td>...</td>\n",
              "      <td>...</td>\n",
              "      <td>...</td>\n",
              "      <td>...</td>\n",
              "      <td>...</td>\n",
              "      <td>...</td>\n",
              "      <td>...</td>\n",
              "      <td>...</td>\n",
              "      <td>...</td>\n",
              "      <td>...</td>\n",
              "      <td>...</td>\n",
              "      <td>...</td>\n",
              "      <td>...</td>\n",
              "      <td>...</td>\n",
              "      <td>...</td>\n",
              "      <td>...</td>\n",
              "      <td>...</td>\n",
              "      <td>...</td>\n",
              "      <td>...</td>\n",
              "    </tr>\n",
              "    <tr>\n",
              "      <th>54172</th>\n",
              "      <td>0</td>\n",
              "      <td>0</td>\n",
              "      <td>0</td>\n",
              "      <td>0</td>\n",
              "      <td>0</td>\n",
              "      <td>0</td>\n",
              "      <td>0</td>\n",
              "      <td>0</td>\n",
              "      <td>0</td>\n",
              "      <td>0</td>\n",
              "      <td>...</td>\n",
              "      <td>0</td>\n",
              "      <td>0</td>\n",
              "      <td>0</td>\n",
              "      <td>0</td>\n",
              "      <td>0</td>\n",
              "      <td>0</td>\n",
              "      <td>0</td>\n",
              "      <td>0</td>\n",
              "      <td>0</td>\n",
              "      <td>0</td>\n",
              "    </tr>\n",
              "    <tr>\n",
              "      <th>54173</th>\n",
              "      <td>0</td>\n",
              "      <td>0</td>\n",
              "      <td>0</td>\n",
              "      <td>0</td>\n",
              "      <td>0</td>\n",
              "      <td>0</td>\n",
              "      <td>0</td>\n",
              "      <td>0</td>\n",
              "      <td>0</td>\n",
              "      <td>0</td>\n",
              "      <td>...</td>\n",
              "      <td>0</td>\n",
              "      <td>0</td>\n",
              "      <td>0</td>\n",
              "      <td>0</td>\n",
              "      <td>0</td>\n",
              "      <td>0</td>\n",
              "      <td>0</td>\n",
              "      <td>0</td>\n",
              "      <td>0</td>\n",
              "      <td>0</td>\n",
              "    </tr>\n",
              "    <tr>\n",
              "      <th>54174</th>\n",
              "      <td>0</td>\n",
              "      <td>0</td>\n",
              "      <td>0</td>\n",
              "      <td>0</td>\n",
              "      <td>0</td>\n",
              "      <td>0</td>\n",
              "      <td>0</td>\n",
              "      <td>0</td>\n",
              "      <td>0</td>\n",
              "      <td>0</td>\n",
              "      <td>...</td>\n",
              "      <td>0</td>\n",
              "      <td>0</td>\n",
              "      <td>0</td>\n",
              "      <td>0</td>\n",
              "      <td>0</td>\n",
              "      <td>0</td>\n",
              "      <td>0</td>\n",
              "      <td>0</td>\n",
              "      <td>0</td>\n",
              "      <td>0</td>\n",
              "    </tr>\n",
              "    <tr>\n",
              "      <th>54175</th>\n",
              "      <td>0</td>\n",
              "      <td>0</td>\n",
              "      <td>0</td>\n",
              "      <td>0</td>\n",
              "      <td>0</td>\n",
              "      <td>0</td>\n",
              "      <td>0</td>\n",
              "      <td>0</td>\n",
              "      <td>0</td>\n",
              "      <td>0</td>\n",
              "      <td>...</td>\n",
              "      <td>0</td>\n",
              "      <td>0</td>\n",
              "      <td>0</td>\n",
              "      <td>0</td>\n",
              "      <td>0</td>\n",
              "      <td>0</td>\n",
              "      <td>0</td>\n",
              "      <td>0</td>\n",
              "      <td>0</td>\n",
              "      <td>0</td>\n",
              "    </tr>\n",
              "    <tr>\n",
              "      <th>54176</th>\n",
              "      <td>0</td>\n",
              "      <td>0</td>\n",
              "      <td>0</td>\n",
              "      <td>0</td>\n",
              "      <td>0</td>\n",
              "      <td>0</td>\n",
              "      <td>0</td>\n",
              "      <td>0</td>\n",
              "      <td>0</td>\n",
              "      <td>0</td>\n",
              "      <td>...</td>\n",
              "      <td>0</td>\n",
              "      <td>0</td>\n",
              "      <td>0</td>\n",
              "      <td>0</td>\n",
              "      <td>0</td>\n",
              "      <td>0</td>\n",
              "      <td>0</td>\n",
              "      <td>0</td>\n",
              "      <td>0</td>\n",
              "      <td>0</td>\n",
              "    </tr>\n",
              "  </tbody>\n",
              "</table>\n",
              "<p>54177 rows × 784 columns</p>\n",
              "</div>\n",
              "      <button class=\"colab-df-convert\" onclick=\"convertToInteractive('df-f050fb63-554a-42c0-8a81-88529bff07b2')\"\n",
              "              title=\"Convert this dataframe to an interactive table.\"\n",
              "              style=\"display:none;\">\n",
              "        \n",
              "  <svg xmlns=\"http://www.w3.org/2000/svg\" height=\"24px\"viewBox=\"0 0 24 24\"\n",
              "       width=\"24px\">\n",
              "    <path d=\"M0 0h24v24H0V0z\" fill=\"none\"/>\n",
              "    <path d=\"M18.56 5.44l.94 2.06.94-2.06 2.06-.94-2.06-.94-.94-2.06-.94 2.06-2.06.94zm-11 1L8.5 8.5l.94-2.06 2.06-.94-2.06-.94L8.5 2.5l-.94 2.06-2.06.94zm10 10l.94 2.06.94-2.06 2.06-.94-2.06-.94-.94-2.06-.94 2.06-2.06.94z\"/><path d=\"M17.41 7.96l-1.37-1.37c-.4-.4-.92-.59-1.43-.59-.52 0-1.04.2-1.43.59L10.3 9.45l-7.72 7.72c-.78.78-.78 2.05 0 2.83L4 21.41c.39.39.9.59 1.41.59.51 0 1.02-.2 1.41-.59l7.78-7.78 2.81-2.81c.8-.78.8-2.07 0-2.86zM5.41 20L4 18.59l7.72-7.72 1.47 1.35L5.41 20z\"/>\n",
              "  </svg>\n",
              "      </button>\n",
              "      \n",
              "  <style>\n",
              "    .colab-df-container {\n",
              "      display:flex;\n",
              "      flex-wrap:wrap;\n",
              "      gap: 12px;\n",
              "    }\n",
              "\n",
              "    .colab-df-convert {\n",
              "      background-color: #E8F0FE;\n",
              "      border: none;\n",
              "      border-radius: 50%;\n",
              "      cursor: pointer;\n",
              "      display: none;\n",
              "      fill: #1967D2;\n",
              "      height: 32px;\n",
              "      padding: 0 0 0 0;\n",
              "      width: 32px;\n",
              "    }\n",
              "\n",
              "    .colab-df-convert:hover {\n",
              "      background-color: #E2EBFA;\n",
              "      box-shadow: 0px 1px 2px rgba(60, 64, 67, 0.3), 0px 1px 3px 1px rgba(60, 64, 67, 0.15);\n",
              "      fill: #174EA6;\n",
              "    }\n",
              "\n",
              "    [theme=dark] .colab-df-convert {\n",
              "      background-color: #3B4455;\n",
              "      fill: #D2E3FC;\n",
              "    }\n",
              "\n",
              "    [theme=dark] .colab-df-convert:hover {\n",
              "      background-color: #434B5C;\n",
              "      box-shadow: 0px 1px 3px 1px rgba(0, 0, 0, 0.15);\n",
              "      filter: drop-shadow(0px 1px 2px rgba(0, 0, 0, 0.3));\n",
              "      fill: #FFFFFF;\n",
              "    }\n",
              "  </style>\n",
              "\n",
              "      <script>\n",
              "        const buttonEl =\n",
              "          document.querySelector('#df-f050fb63-554a-42c0-8a81-88529bff07b2 button.colab-df-convert');\n",
              "        buttonEl.style.display =\n",
              "          google.colab.kernel.accessAllowed ? 'block' : 'none';\n",
              "\n",
              "        async function convertToInteractive(key) {\n",
              "          const element = document.querySelector('#df-f050fb63-554a-42c0-8a81-88529bff07b2');\n",
              "          const dataTable =\n",
              "            await google.colab.kernel.invokeFunction('convertToInteractive',\n",
              "                                                     [key], {});\n",
              "          if (!dataTable) return;\n",
              "\n",
              "          const docLinkHtml = 'Like what you see? Visit the ' +\n",
              "            '<a target=\"_blank\" href=https://colab.research.google.com/notebooks/data_table.ipynb>data table notebook</a>'\n",
              "            + ' to learn more about interactive tables.';\n",
              "          element.innerHTML = '';\n",
              "          dataTable['output_type'] = 'display_data';\n",
              "          await google.colab.output.renderOutput(dataTable, element);\n",
              "          const docLink = document.createElement('div');\n",
              "          docLink.innerHTML = docLinkHtml;\n",
              "          element.appendChild(docLink);\n",
              "        }\n",
              "      </script>\n",
              "    </div>\n",
              "  </div>\n",
              "  "
            ]
          },
          "metadata": {},
          "execution_count": 25
        }
      ]
    },
    {
      "cell_type": "code",
      "source": [
        "y"
      ],
      "metadata": {
        "colab": {
          "base_uri": "https://localhost:8080/"
        },
        "id": "LwF84Zjc5miB",
        "outputId": "23b66dda-9eea-4759-c7aa-57d5d9f2a630"
      },
      "execution_count": 26,
      "outputs": [
        {
          "output_type": "execute_result",
          "data": {
            "text/plain": [
              "0        1\n",
              "1        1\n",
              "2        1\n",
              "3        1\n",
              "4        1\n",
              "        ..\n",
              "54172    0\n",
              "54173    0\n",
              "54174    0\n",
              "54175    0\n",
              "54176    0\n",
              "Name: result, Length: 54177, dtype: int64"
            ]
          },
          "metadata": {},
          "execution_count": 26
        }
      ]
    },
    {
      "cell_type": "code",
      "source": [
        "x_train, x_val, y_train, y_val = train_test_split(x, y, test_size=0.2, random_state=0)"
      ],
      "metadata": {
        "id": "Ksg8To_KW-NG"
      },
      "execution_count": 27,
      "outputs": []
    },
    {
      "cell_type": "code",
      "source": [
        "model =keras.models.Sequential()\n",
        "model.add(layers.Dense(16, activation='relu', input_shape=(784,)))\n",
        "model.add(layers.Dense(16, activation='relu'))\n",
        "model.add(layers.Dense(1, activation='sigmoid'))\n",
        "\n",
        "model.compile(optimizer='rmsprop',\n",
        "              loss='binary_crossentropy',\n",
        "              metrics=['accuracy'])"
      ],
      "metadata": {
        "id": "o518d8dIE3D9"
      },
      "execution_count": 28,
      "outputs": []
    },
    {
      "cell_type": "code",
      "source": [
        "history = model.fit(x_train, y_train, epochs=20, batch_size=512, validation_data=(x_val, y_val))"
      ],
      "metadata": {
        "colab": {
          "base_uri": "https://localhost:8080/"
        },
        "id": "58gz2O9QG2kN",
        "outputId": "48f6cda9-805d-421c-8a7f-444762e86695"
      },
      "execution_count": 29,
      "outputs": [
        {
          "output_type": "stream",
          "name": "stdout",
          "text": [
            "Epoch 1/20\n",
            "85/85 [==============================] - 2s 11ms/step - loss: 0.1219 - accuracy: 0.9955 - val_loss: 0.0155 - val_accuracy: 0.9984\n",
            "Epoch 2/20\n",
            "85/85 [==============================] - 1s 8ms/step - loss: 0.0151 - accuracy: 0.9980 - val_loss: 0.0077 - val_accuracy: 0.9981\n",
            "Epoch 3/20\n",
            "85/85 [==============================] - 1s 9ms/step - loss: 0.0079 - accuracy: 0.9981 - val_loss: 0.0096 - val_accuracy: 0.9983\n",
            "Epoch 4/20\n",
            "85/85 [==============================] - 1s 9ms/step - loss: 0.0068 - accuracy: 0.9986 - val_loss: 0.0050 - val_accuracy: 0.9989\n",
            "Epoch 5/20\n",
            "85/85 [==============================] - 1s 8ms/step - loss: 0.0084 - accuracy: 0.9988 - val_loss: 0.0087 - val_accuracy: 0.9988\n",
            "Epoch 6/20\n",
            "85/85 [==============================] - 1s 9ms/step - loss: 0.0041 - accuracy: 0.9992 - val_loss: 0.0095 - val_accuracy: 0.9992\n",
            "Epoch 7/20\n",
            "85/85 [==============================] - 1s 9ms/step - loss: 0.0043 - accuracy: 0.9991 - val_loss: 0.0119 - val_accuracy: 0.9994\n",
            "Epoch 8/20\n",
            "85/85 [==============================] - 1s 8ms/step - loss: 0.0029 - accuracy: 0.9995 - val_loss: 0.0138 - val_accuracy: 0.9989\n",
            "Epoch 9/20\n",
            "85/85 [==============================] - 1s 9ms/step - loss: 0.0030 - accuracy: 0.9995 - val_loss: 0.0071 - val_accuracy: 0.9994\n",
            "Epoch 10/20\n",
            "85/85 [==============================] - 1s 8ms/step - loss: 0.0028 - accuracy: 0.9995 - val_loss: 0.0079 - val_accuracy: 0.9988\n",
            "Epoch 11/20\n",
            "85/85 [==============================] - 1s 8ms/step - loss: 0.0021 - accuracy: 0.9996 - val_loss: 0.0083 - val_accuracy: 0.9992\n",
            "Epoch 12/20\n",
            "85/85 [==============================] - 1s 9ms/step - loss: 0.0019 - accuracy: 0.9997 - val_loss: 0.0176 - val_accuracy: 0.9992\n",
            "Epoch 13/20\n",
            "85/85 [==============================] - 1s 8ms/step - loss: 4.7853e-04 - accuracy: 0.9999 - val_loss: 0.0107 - val_accuracy: 0.9992\n",
            "Epoch 14/20\n",
            "85/85 [==============================] - 1s 8ms/step - loss: 0.0013 - accuracy: 0.9998 - val_loss: 0.0126 - val_accuracy: 0.9992\n",
            "Epoch 15/20\n",
            "85/85 [==============================] - 1s 8ms/step - loss: 8.7211e-04 - accuracy: 0.9998 - val_loss: 0.0120 - val_accuracy: 0.9995\n",
            "Epoch 16/20\n",
            "85/85 [==============================] - 1s 9ms/step - loss: 3.8272e-04 - accuracy: 0.9999 - val_loss: 0.0074 - val_accuracy: 0.9995\n",
            "Epoch 17/20\n",
            "85/85 [==============================] - 1s 9ms/step - loss: 1.5236e-04 - accuracy: 1.0000 - val_loss: 0.0116 - val_accuracy: 0.9994\n",
            "Epoch 18/20\n",
            "85/85 [==============================] - 1s 8ms/step - loss: 9.8823e-04 - accuracy: 0.9998 - val_loss: 0.0112 - val_accuracy: 0.9995\n",
            "Epoch 19/20\n",
            "85/85 [==============================] - 1s 9ms/step - loss: 4.6199e-04 - accuracy: 0.9999 - val_loss: 0.0091 - val_accuracy: 0.9996\n",
            "Epoch 20/20\n",
            "85/85 [==============================] - 1s 11ms/step - loss: 7.9756e-04 - accuracy: 0.9999 - val_loss: 0.0089 - val_accuracy: 0.9994\n"
          ]
        }
      ]
    },
    {
      "cell_type": "code",
      "source": [
        "history_dict = history.history\n",
        "loss = history_dict['loss']\n",
        "val_loss = history_dict['val_loss']\n",
        "\n",
        "epochs = range(1, len(loss) + 1)\n",
        "\n",
        "plt.plot(epochs, loss, 'r', label='Training loss')  \n",
        "plt.plot(epochs, val_loss, 'b', label='Validation loss')\n",
        "plt.title('Training and validation loss')\n",
        "plt.xlabel('Epochs')\n",
        "plt.ylabel('Loss')\n",
        "plt.legend()\n",
        "\n",
        "plt.show()"
      ],
      "metadata": {
        "colab": {
          "base_uri": "https://localhost:8080/",
          "height": 295
        },
        "id": "2B9yRQdgG9ZR",
        "outputId": "50008dc4-03ac-4824-81d0-912370ac3a5b"
      },
      "execution_count": 30,
      "outputs": [
        {
          "output_type": "display_data",
          "data": {
            "text/plain": [
              "<Figure size 432x288 with 1 Axes>"
            ],
            "image/png": "[encoded data removed]"
          },
          "metadata": {
            "needs_background": "light"
          }
        }
      ]
    },
    {
      "cell_type": "markdown",
      "source": [
        "1(b). 데이터의 분포를 시각화해서 살펴보시오. \n"
      ],
      "metadata": {
        "id": "-kFOcSWm9fTF"
      }
    },
    {
      "cell_type": "code",
      "source": [
        "y_train.value_counts().plot(kind='bar')\n",
        "plt.title(\"Bar Plot\", fontsize=15)\n",
        "plt.ylabel(\"label\", fontsize=12)\n",
        "plt.xlabel(\"label_result\", fontsize=12)\n",
        "plt.xticks(rotation=0)\n",
        "plt.show()"
      ],
      "metadata": {
        "colab": {
          "base_uri": "https://localhost:8080/",
          "height": 300
        },
        "id": "vq6SW4VNHWEp",
        "outputId": "e3605f5b-57b1-4e43-f71d-f1a6f6c6f92f"
      },
      "execution_count": 31,
      "outputs": [
        {
          "output_type": "display_data",
          "data": {
            "text/plain": [
              "<Figure size 432x288 with 1 Axes>"
            ],
            "image/png": "[encoded data removed]"
          },
          "metadata": {
            "needs_background": "light"
          }
        }
      ]
    },
    {
      "cell_type": "markdown",
      "source": [
        "1(c). 학습 결과를 Confusion matrix를 가지고 평가하시오."
      ],
      "metadata": {
        "id": "fqTtrq5c9p-H"
      }
    },
    {
      "cell_type": "code",
      "source": [
        "X = MNIST_test.iloc[:,:784]\n",
        "Y = MNIST_test.iloc[:,785]"
      ],
      "metadata": {
        "id": "vRiH15pRJjdc"
      },
      "execution_count": 32,
      "outputs": []
    },
    {
      "cell_type": "code",
      "source": [
        "Y_predict = model.predict(X)"
      ],
      "metadata": {
        "id": "4tfDt5GaJ9xf"
      },
      "execution_count": 33,
      "outputs": []
    },
    {
      "cell_type": "code",
      "source": [
        "Y_pred = []\n",
        "for x in Y_predict:\n",
        "  if x >= 0.5:\n",
        "    Y_pred.append(1)\n",
        "  else:\n",
        "    Y_pred.append(0)"
      ],
      "metadata": {
        "id": "DLAWoFrDLmJt"
      },
      "execution_count": 34,
      "outputs": []
    },
    {
      "cell_type": "code",
      "source": [
        "conf_matrix = sk.metrics.confusion_matrix(Y, Y_pred)"
      ],
      "metadata": {
        "id": "GuW48V99KoZ7"
      },
      "execution_count": 35,
      "outputs": []
    },
    {
      "cell_type": "code",
      "source": [
        "sum(Y_pred)"
      ],
      "metadata": {
        "colab": {
          "base_uri": "https://localhost:8080/"
        },
        "id": "V9Lp1ueGN0yy",
        "outputId": "b021b51c-1aa7-46ef-da3b-8cb6a03966aa"
      },
      "execution_count": 36,
      "outputs": [
        {
          "output_type": "execute_result",
          "data": {
            "text/plain": [
              "9250"
            ]
          },
          "metadata": {},
          "execution_count": 36
        }
      ]
    },
    {
      "cell_type": "code",
      "source": [
        "confusion_matrix = DataFrame(conf_matrix, index=['실제값(N)', '실제값(P)'], columns=['예측값(N)', '예측값(P)'])\n",
        "confusion_matrix"
      ],
      "metadata": {
        "colab": {
          "base_uri": "https://localhost:8080/",
          "height": 112
        },
        "id": "-3kckgKBNSa6",
        "outputId": "28c3bba5-b5f1-407e-9863-a1568cef0370"
      },
      "execution_count": 37,
      "outputs": [
        {
          "output_type": "execute_result",
          "data": {
            "text/plain": [
              "        예측값(N)  예측값(P)\n",
              "실제값(N)     745     235\n",
              "실제값(P)       5    9015"
            ],
            "text/html": [
              "\n",
              "  <div id=\"df-6aee0689-20cd-4761-b4c8-8c200779acac\">\n",
              "    <div class=\"colab-df-container\">\n",
              "      <div>\n",
              "<style scoped>\n",
              "    .dataframe tbody tr th:only-of-type {\n",
              "        vertical-align: middle;\n",
              "    }\n",
              "\n",
              "    .dataframe tbody tr th {\n",
              "        vertical-align: top;\n",
              "    }\n",
              "\n",
              "    .dataframe thead th {\n",
              "        text-align: right;\n",
              "    }\n",
              "</style>\n",
              "<table border=\"1\" class=\"dataframe\">\n",
              "  <thead>\n",
              "    <tr style=\"text-align: right;\">\n",
              "      <th></th>\n",
              "      <th>예측값(N)</th>\n",
              "      <th>예측값(P)</th>\n",
              "    </tr>\n",
              "  </thead>\n",
              "  <tbody>\n",
              "    <tr>\n",
              "      <th>실제값(N)</th>\n",
              "      <td>745</td>\n",
              "      <td>235</td>\n",
              "    </tr>\n",
              "    <tr>\n",
              "      <th>실제값(P)</th>\n",
              "      <td>5</td>\n",
              "      <td>9015</td>\n",
              "    </tr>\n",
              "  </tbody>\n",
              "</table>\n",
              "</div>\n",
              "      <button class=\"colab-df-convert\" onclick=\"convertToInteractive('df-6aee0689-20cd-4761-b4c8-8c200779acac')\"\n",
              "              title=\"Convert this dataframe to an interactive table.\"\n",
              "              style=\"display:none;\">\n",
              "        \n",
              "  <svg xmlns=\"http://www.w3.org/2000/svg\" height=\"24px\"viewBox=\"0 0 24 24\"\n",
              "       width=\"24px\">\n",
              "    <path d=\"M0 0h24v24H0V0z\" fill=\"none\"/>\n",
              "    <path d=\"M18.56 5.44l.94 2.06.94-2.06 2.06-.94-2.06-.94-.94-2.06-.94 2.06-2.06.94zm-11 1L8.5 8.5l.94-2.06 2.06-.94-2.06-.94L8.5 2.5l-.94 2.06-2.06.94zm10 10l.94 2.06.94-2.06 2.06-.94-2.06-.94-.94-2.06-.94 2.06-2.06.94z\"/><path d=\"M17.41 7.96l-1.37-1.37c-.4-.4-.92-.59-1.43-.59-.52 0-1.04.2-1.43.59L10.3 9.45l-7.72 7.72c-.78.78-.78 2.05 0 2.83L4 21.41c.39.39.9.59 1.41.59.51 0 1.02-.2 1.41-.59l7.78-7.78 2.81-2.81c.8-.78.8-2.07 0-2.86zM5.41 20L4 18.59l7.72-7.72 1.47 1.35L5.41 20z\"/>\n",
              "  </svg>\n",
              "      </button>\n",
              "      \n",
              "  <style>\n",
              "    .colab-df-container {\n",
              "      display:flex;\n",
              "      flex-wrap:wrap;\n",
              "      gap: 12px;\n",
              "    }\n",
              "\n",
              "    .colab-df-convert {\n",
              "      background-color: #E8F0FE;\n",
              "      border: none;\n",
              "      border-radius: 50%;\n",
              "      cursor: pointer;\n",
              "      display: none;\n",
              "      fill: #1967D2;\n",
              "      height: 32px;\n",
              "      padding: 0 0 0 0;\n",
              "      width: 32px;\n",
              "    }\n",
              "\n",
              "    .colab-df-convert:hover {\n",
              "      background-color: #E2EBFA;\n",
              "      box-shadow: 0px 1px 2px rgba(60, 64, 67, 0.3), 0px 1px 3px 1px rgba(60, 64, 67, 0.15);\n",
              "      fill: #174EA6;\n",
              "    }\n",
              "\n",
              "    [theme=dark] .colab-df-convert {\n",
              "      background-color: #3B4455;\n",
              "      fill: #D2E3FC;\n",
              "    }\n",
              "\n",
              "    [theme=dark] .colab-df-convert:hover {\n",
              "      background-color: #434B5C;\n",
              "      box-shadow: 0px 1px 3px 1px rgba(0, 0, 0, 0.15);\n",
              "      filter: drop-shadow(0px 1px 2px rgba(0, 0, 0, 0.3));\n",
              "      fill: #FFFFFF;\n",
              "    }\n",
              "  </style>\n",
              "\n",
              "      <script>\n",
              "        const buttonEl =\n",
              "          document.querySelector('#df-6aee0689-20cd-4761-b4c8-8c200779acac button.colab-df-convert');\n",
              "        buttonEl.style.display =\n",
              "          google.colab.kernel.accessAllowed ? 'block' : 'none';\n",
              "\n",
              "        async function convertToInteractive(key) {\n",
              "          const element = document.querySelector('#df-6aee0689-20cd-4761-b4c8-8c200779acac');\n",
              "          const dataTable =\n",
              "            await google.colab.kernel.invokeFunction('convertToInteractive',\n",
              "                                                     [key], {});\n",
              "          if (!dataTable) return;\n",
              "\n",
              "          const docLinkHtml = 'Like what you see? Visit the ' +\n",
              "            '<a target=\"_blank\" href=https://colab.research.google.com/notebooks/data_table.ipynb>data table notebook</a>'\n",
              "            + ' to learn more about interactive tables.';\n",
              "          element.innerHTML = '';\n",
              "          dataTable['output_type'] = 'display_data';\n",
              "          await google.colab.output.renderOutput(dataTable, element);\n",
              "          const docLink = document.createElement('div');\n",
              "          docLink.innerHTML = docLinkHtml;\n",
              "          element.appendChild(docLink);\n",
              "        }\n",
              "      </script>\n",
              "    </div>\n",
              "  </div>\n",
              "  "
            ]
          },
          "metadata": {},
          "execution_count": 37
        }
      ]
    },
    {
      "cell_type": "markdown",
      "source": [
        "1(d). (a)에서 학습된 모델을 metric을 통해 평가하는데, 이때 여러 metric(accuracy, precision, recall, f1…)들을 사용해 보고 어느 metric이 적절한지 기술하시오.\n"
      ],
      "metadata": {
        "id": "2mgKyeqc9uI7"
      }
    },
    {
      "cell_type": "code",
      "source": [
        "TP = confusion_matrix['예측값(P)']['실제값(P)']\n",
        "FP = confusion_matrix['예측값(P)']['실제값(N)']\n",
        "TN = confusion_matrix['예측값(N)']['실제값(N)']\n",
        "FN = confusion_matrix['예측값(N)']['실제값(P)']"
      ],
      "metadata": {
        "id": "NX9hBuLjPSnQ"
      },
      "execution_count": 38,
      "outputs": []
    },
    {
      "cell_type": "code",
      "source": [
        "accuracy = (TP+TN) / (TP+ TN+ FP+ FN)\n",
        "recall = TP/(TP+FN)\n",
        "specificity = TN/(TN+FP)\n",
        "precision = TP/(TP+FP)\n",
        "F1 = 2 * (precision*recall) / (precision + recall)"
      ],
      "metadata": {
        "id": "UTs5UXixQSw8"
      },
      "execution_count": 39,
      "outputs": []
    },
    {
      "cell_type": "code",
      "source": [
        "print(\"accuracy = \", accuracy)\n",
        "print(\"recall = \", recall)\n",
        "print(\"specificity = \", specificity)\n",
        "print(\"precision = \", precision)\n",
        "print(\"F1 = \", F1)"
      ],
      "metadata": {
        "colab": {
          "base_uri": "https://localhost:8080/"
        },
        "id": "6qIy8lIFR-c_",
        "outputId": "c3934b19-f01d-487c-a119-8582b49f11b6"
      },
      "execution_count": 40,
      "outputs": [
        {
          "output_type": "stream",
          "name": "stdout",
          "text": [
            "accuracy =  0.976\n",
            "recall =  0.9994456762749445\n",
            "specificity =  0.7602040816326531\n",
            "precision =  0.9745945945945946\n",
            "F1 =  0.9868637110016419\n"
          ]
        }
      ]
    },
    {
      "cell_type": "code",
      "source": [
        ""
      ],
      "metadata": {
        "id": "Lmj0BKBmSOxJ"
      },
      "execution_count": 40,
      "outputs": []
    }
  ]
}